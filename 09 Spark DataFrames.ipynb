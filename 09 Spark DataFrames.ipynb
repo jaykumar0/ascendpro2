{
 "cells": [
  {
   "cell_type": "markdown",
   "metadata": {},
   "source": [
    "---\n",
    "---\n",
    "\n",
    "<center><h1>Assignment: DataFrames</h1></center>\n",
    "\n",
    "---\n",
    "\n",
    "In the notebook, we will work with a cricket commentary data.\n",
    "\n",
    "\n",
    "---\n",
    "\n",
    "#### `Importing the required libraries`\n",
    "\n",
    "---"
   ]
  },
  {
   "cell_type": "code",
   "execution_count": 1,
   "metadata": {},
   "outputs": [],
   "source": [
    "from pyspark.context import SparkContext\n",
    "from pyspark.sql import SparkSession\n",
    "import pyspark.sql.types as tp\n",
    "from pyspark.sql import functions as F"
   ]
  },
  {
   "cell_type": "code",
   "execution_count": 2,
   "metadata": {},
   "outputs": [
    {
     "data": {
      "text/html": [
       "\n",
       "            <div>\n",
       "                <p><b>SparkSession - in-memory</b></p>\n",
       "                \n",
       "        <div>\n",
       "            <p><b>SparkContext</b></p>\n",
       "\n",
       "            <p><a href=\"http://g01.itversity.com:4041\">Spark UI</a></p>\n",
       "\n",
       "            <dl>\n",
       "              <dt>Version</dt>\n",
       "                <dd><code>v3.0.1</code></dd>\n",
       "              <dt>Master</dt>\n",
       "                <dd><code>yarn</code></dd>\n",
       "              <dt>AppName</dt>\n",
       "                <dd><code>pyspark-shell</code></dd>\n",
       "            </dl>\n",
       "        </div>\n",
       "        \n",
       "            </div>\n",
       "        "
      ],
      "text/plain": [
       "<pyspark.sql.session.SparkSession at 0x7ff7a9b3fd30>"
      ]
     },
     "execution_count": 2,
     "metadata": {},
     "output_type": "execute_result"
    }
   ],
   "source": [
    "spark = SparkSession.builder.getOrCreate()\n",
    "spark"
   ]
  },
  {
   "cell_type": "markdown",
   "metadata": {},
   "source": [
    "---\n",
    "\n",
    "#### `Read the CSV File`\n",
    "\n",
    "---"
   ]
  },
  {
   "cell_type": "code",
   "execution_count": 3,
   "metadata": {},
   "outputs": [],
   "source": [
    "df = spark.read.csv(\"data/ind-ban-comment.csv\",inferSchema=True, header=True)"
   ]
  },
  {
   "cell_type": "code",
   "execution_count": 4,
   "metadata": {},
   "outputs": [
    {
     "name": "stdout",
     "output_type": "stream",
     "text": [
      "root\n",
      " |-- _c0: integer (nullable = true)\n",
      " |-- Batsman: integer (nullable = true)\n",
      " |-- Batsman_Name: string (nullable = true)\n",
      " |-- Bowler: integer (nullable = true)\n",
      " |-- Bowler_Name: string (nullable = true)\n",
      " |-- Commentary: string (nullable = true)\n",
      " |-- Detail: string (nullable = true)\n",
      " |-- Dismissed: double (nullable = true)\n",
      " |-- Id: integer (nullable = true)\n",
      " |-- Isball: boolean (nullable = true)\n",
      " |-- Isboundary: double (nullable = true)\n",
      " |-- Iswicket: double (nullable = true)\n",
      " |-- Over: double (nullable = true)\n",
      " |-- Runs: integer (nullable = true)\n",
      " |-- Summary: string (nullable = true)\n",
      " |-- Timestamp: string (nullable = true)\n",
      " |-- ZAD: string (nullable = true)\n",
      "\n"
     ]
    }
   ],
   "source": [
    "## check the schema of the dataframe\n",
    "df.printSchema()"
   ]
  },
  {
   "cell_type": "code",
   "execution_count": 5,
   "metadata": {},
   "outputs": [
    {
     "name": "stdout",
     "output_type": "stream",
     "text": [
      "+---+-------+-----------------+------+-----------------+--------------------+------+---------+---+------+----------+--------+----+----+-------+-------------------+-------+\n",
      "|_c0|Batsman|     Batsman_Name|Bowler|      Bowler_Name|          Commentary|Detail|Dismissed| Id|Isball|Isboundary|Iswicket|Over|Runs|Summary|          Timestamp|    ZAD|\n",
      "+---+-------+-----------------+------+-----------------+--------------------+------+---------+---+------+----------+--------+----+----+-------+-------------------+-------+\n",
      "|  0|  28994|   Mohammed Shami| 63881|Mustafizur Rahman|OUT! Bowled! 5-fe...|     W|  28994.0|346|  true|      null|     1.0|49.6|   0|   null|2019-07-02 13:18:47|   null|\n",
      "|  1|   5132|Bhuvneshwar Kumar| 63881|Mustafizur Rahman|WIDE AND RUN OUT!...|  W+wd|   5132.0|344|  true|      null|     1.0|49.6|   1|   null|2019-07-02 13:17:28|   null|\n",
      "|  2|  28994|   Mohammed Shami| 63881|Mustafizur Rahman|Back of a length ...|  null|     null|343|  true|      null|    null|49.5|   1|   null|2019-07-02 13:16:03|8,349,3|\n",
      "|  3|   5132|Bhuvneshwar Kumar| 63881|Mustafizur Rahman|Just 1 run off th...|  null|     null|342|  true|      null|    null|49.4|   1|   null|2019-07-02 13:15:17|7,279,2|\n",
      "+---+-------+-----------------+------+-----------------+--------------------+------+---------+---+------+----------+--------+----+----+-------+-------------------+-------+\n",
      "only showing top 4 rows\n",
      "\n"
     ]
    }
   ],
   "source": [
    "# VIEW THE TOP 4 ROWS OF THE DATA USING THE SHOW FUNCTION\n",
    "df.show(4)"
   ]
  },
  {
   "cell_type": "code",
   "execution_count": 6,
   "metadata": {},
   "outputs": [
    {
     "data": {
      "text/plain": [
       "['_c0',\n",
       " 'Batsman',\n",
       " 'Batsman_Name',\n",
       " 'Bowler',\n",
       " 'Bowler_Name',\n",
       " 'Commentary',\n",
       " 'Detail',\n",
       " 'Dismissed',\n",
       " 'Id',\n",
       " 'Isball',\n",
       " 'Isboundary',\n",
       " 'Iswicket',\n",
       " 'Over',\n",
       " 'Runs',\n",
       " 'Summary',\n",
       " 'Timestamp',\n",
       " 'ZAD']"
      ]
     },
     "execution_count": 6,
     "metadata": {},
     "output_type": "execute_result"
    }
   ],
   "source": [
    "df.columns"
   ]
  },
  {
   "cell_type": "code",
   "execution_count": 7,
   "metadata": {},
   "outputs": [
    {
     "data": {
      "text/plain": [
       "(605, 17)"
      ]
     },
     "execution_count": 7,
     "metadata": {},
     "output_type": "execute_result"
    }
   ],
   "source": [
    "# Num rows and cols\n",
    "(df.count(), len(df.columns))"
   ]
  },
  {
   "cell_type": "markdown",
   "metadata": {},
   "source": [
    "---\n",
    "\n",
    "#### `View only the following columns of the dataframe`\n",
    "\n",
    "    - Batsman_Name\n",
    "    - Bowler_Name\n",
    "    - Dismissed\n",
    "    - Isboundary\n",
    "    - Runs\n",
    "\n",
    "---"
   ]
  },
  {
   "cell_type": "code",
   "execution_count": 8,
   "metadata": {},
   "outputs": [
    {
     "name": "stdout",
     "output_type": "stream",
     "text": [
      "+-----------------+------------------+---------+----------+----+\n",
      "|     Batsman_Name|       Bowler_Name|Dismissed|Isboundary|Runs|\n",
      "+-----------------+------------------+---------+----------+----+\n",
      "|   Mohammed Shami| Mustafizur Rahman|  28994.0|      null|   0|\n",
      "|Bhuvneshwar Kumar| Mustafizur Rahman|   5132.0|      null|   1|\n",
      "|   Mohammed Shami| Mustafizur Rahman|     null|      null|   1|\n",
      "|Bhuvneshwar Kumar| Mustafizur Rahman|     null|      null|   1|\n",
      "|         MS Dhoni| Mustafizur Rahman|   3676.0|      null|   0|\n",
      "|         MS Dhoni| Mustafizur Rahman|     null|      null|   0|\n",
      "|         MS Dhoni| Mustafizur Rahman|     null|      null|   0|\n",
      "|         MS Dhoni|Mohammad Saifuddin|     null|      null|   1|\n",
      "|         MS Dhoni|Mohammad Saifuddin|     null|       1.0|   4|\n",
      "|         MS Dhoni|Mohammad Saifuddin|     null|      null|   0|\n",
      "|         MS Dhoni|Mohammad Saifuddin|     null|      null|   0|\n",
      "|         MS Dhoni|Mohammad Saifuddin|     null|       1.0|   4|\n",
      "|         MS Dhoni|Mohammad Saifuddin|     null|      null|   2|\n",
      "|Bhuvneshwar Kumar| Mustafizur Rahman|     null|      null|   0|\n",
      "|         MS Dhoni| Mustafizur Rahman|     null|      null|   1|\n",
      "|         MS Dhoni| Mustafizur Rahman|     null|      null|   0|\n",
      "|Bhuvneshwar Kumar| Mustafizur Rahman|     null|      null|   1|\n",
      "|   Dinesh Karthik| Mustafizur Rahman|   3632.0|      null|   0|\n",
      "|         MS Dhoni| Mustafizur Rahman|     null|      null|   1|\n",
      "|         MS Dhoni|Mohammad Saifuddin|     null|      null|   1|\n",
      "+-----------------+------------------+---------+----------+----+\n",
      "only showing top 20 rows\n",
      "\n"
     ]
    }
   ],
   "source": [
    "# WRITE YOUR CODE HERE\n",
    "# View only selected columns\n",
    "df1 = df.select('Batsman_Name','Bowler_Name','Dismissed','Isboundary','Runs')\n",
    "# Display data\n",
    "df1.show()"
   ]
  },
  {
   "cell_type": "markdown",
   "metadata": {},
   "source": [
    "---\n",
    "\n",
    "#### Find out the number of runs scored by each batsman\n",
    "\n",
    "---"
   ]
  },
  {
   "cell_type": "code",
   "execution_count": 9,
   "metadata": {},
   "outputs": [],
   "source": [
    "from pyspark.sql.functions import sum"
   ]
  },
  {
   "cell_type": "code",
   "execution_count": 10,
   "metadata": {},
   "outputs": [
    {
     "data": {
      "text/plain": [
       "<pyspark.sql.group.GroupedData at 0x7ff7a9b44240>"
      ]
     },
     "execution_count": 10,
     "metadata": {},
     "output_type": "execute_result"
    }
   ],
   "source": [
    "#### WRITE YOUR CODE HERE\n",
    "df_grouped = df1.groupBy('Batsman_Name')\n",
    "df_grouped"
   ]
  },
  {
   "cell_type": "code",
   "execution_count": 11,
   "metadata": {},
   "outputs": [
    {
     "data": {
      "text/html": [
       "<table border='1'>\n",
       "<tr><th>Batsman_Name</th><th>Runs_Scored</th></tr>\n",
       "<tr><td>Soumya Sarkar</td><td>34</td></tr>\n",
       "<tr><td>Mashrafe Mortaza</td><td>8</td></tr>\n",
       "<tr><td>Shakib Al Hasan</td><td>68</td></tr>\n",
       "<tr><td>Mushfiqur Rahim</td><td>24</td></tr>\n",
       "<tr><td>Mohammad Saifuddin</td><td>55</td></tr>\n",
       "<tr><td>Liton Das</td><td>22</td></tr>\n",
       "<tr><td>Rishabh Pant</td><td>55</td></tr>\n",
       "<tr><td>Mohammed Shami</td><td>1</td></tr>\n",
       "<tr><td>Tamim Iqbal</td><td>23</td></tr>\n",
       "<tr><td>Hardik Pandya</td><td>0</td></tr>\n",
       "<tr><td>KL Rahul</td><td>79</td></tr>\n",
       "<tr><td>Bhuvneshwar Kumar</td><td>3</td></tr>\n",
       "<tr><td>Rubel Hossain</td><td>9</td></tr>\n",
       "<tr><td>Rohit Sharma</td><td>107</td></tr>\n",
       "<tr><td>Dinesh Karthik</td><td>8</td></tr>\n",
       "<tr><td>Virat Kohli</td><td>26</td></tr>\n",
       "<tr><td>MS Dhoni</td><td>35</td></tr>\n",
       "<tr><td>Sabbir Rahman</td><td>40</td></tr>\n",
       "<tr><td>Mosaddek Hossain</td><td>3</td></tr>\n",
       "<tr><td>Mustafizur Rahman</td><td>0</td></tr>\n",
       "</table>\n"
      ],
      "text/plain": [
       "+------------------+-----------+\n",
       "|      Batsman_Name|Runs_Scored|\n",
       "+------------------+-----------+\n",
       "|     Soumya Sarkar|         34|\n",
       "|  Mashrafe Mortaza|          8|\n",
       "|   Shakib Al Hasan|         68|\n",
       "|   Mushfiqur Rahim|         24|\n",
       "|Mohammad Saifuddin|         55|\n",
       "|         Liton Das|         22|\n",
       "|      Rishabh Pant|         55|\n",
       "|    Mohammed Shami|          1|\n",
       "|       Tamim Iqbal|         23|\n",
       "|     Hardik Pandya|          0|\n",
       "|          KL Rahul|         79|\n",
       "| Bhuvneshwar Kumar|          3|\n",
       "|     Rubel Hossain|          9|\n",
       "|      Rohit Sharma|        107|\n",
       "|    Dinesh Karthik|          8|\n",
       "|       Virat Kohli|         26|\n",
       "|          MS Dhoni|         35|\n",
       "|     Sabbir Rahman|         40|\n",
       "|  Mosaddek Hossain|          3|\n",
       "| Mustafizur Rahman|          0|\n",
       "+------------------+-----------+"
      ]
     },
     "execution_count": 11,
     "metadata": {},
     "output_type": "execute_result"
    }
   ],
   "source": [
    "# Total Runs scored\n",
    "df_runs = df_grouped.agg(sum('Runs').alias('Runs_Scored'))\n",
    "df_runs"
   ]
  },
  {
   "cell_type": "code",
   "execution_count": 12,
   "metadata": {},
   "outputs": [
    {
     "data": {
      "text/html": [
       "<table border='1'>\n",
       "<tr><th>Batsman_Name</th><th>Runs_Scored</th></tr>\n",
       "<tr><td>Rohit Sharma</td><td>107</td></tr>\n",
       "<tr><td>KL Rahul</td><td>79</td></tr>\n",
       "<tr><td>Shakib Al Hasan</td><td>68</td></tr>\n",
       "<tr><td>Rishabh Pant</td><td>55</td></tr>\n",
       "<tr><td>Mohammad Saifuddin</td><td>55</td></tr>\n",
       "<tr><td>Sabbir Rahman</td><td>40</td></tr>\n",
       "<tr><td>MS Dhoni</td><td>35</td></tr>\n",
       "<tr><td>Soumya Sarkar</td><td>34</td></tr>\n",
       "<tr><td>Virat Kohli</td><td>26</td></tr>\n",
       "<tr><td>Mushfiqur Rahim</td><td>24</td></tr>\n",
       "<tr><td>Tamim Iqbal</td><td>23</td></tr>\n",
       "<tr><td>Liton Das</td><td>22</td></tr>\n",
       "<tr><td>Rubel Hossain</td><td>9</td></tr>\n",
       "<tr><td>Dinesh Karthik</td><td>8</td></tr>\n",
       "<tr><td>Mashrafe Mortaza</td><td>8</td></tr>\n",
       "<tr><td>Bhuvneshwar Kumar</td><td>3</td></tr>\n",
       "<tr><td>Mosaddek Hossain</td><td>3</td></tr>\n",
       "<tr><td>Mohammed Shami</td><td>1</td></tr>\n",
       "<tr><td>Hardik Pandya</td><td>0</td></tr>\n",
       "<tr><td>Mustafizur Rahman</td><td>0</td></tr>\n",
       "</table>\n"
      ],
      "text/plain": [
       "+------------------+-----------+\n",
       "|      Batsman_Name|Runs_Scored|\n",
       "+------------------+-----------+\n",
       "|      Rohit Sharma|        107|\n",
       "|          KL Rahul|         79|\n",
       "|   Shakib Al Hasan|         68|\n",
       "|      Rishabh Pant|         55|\n",
       "|Mohammad Saifuddin|         55|\n",
       "|     Sabbir Rahman|         40|\n",
       "|          MS Dhoni|         35|\n",
       "|     Soumya Sarkar|         34|\n",
       "|       Virat Kohli|         26|\n",
       "|   Mushfiqur Rahim|         24|\n",
       "|       Tamim Iqbal|         23|\n",
       "|         Liton Das|         22|\n",
       "|     Rubel Hossain|          9|\n",
       "|    Dinesh Karthik|          8|\n",
       "|  Mashrafe Mortaza|          8|\n",
       "| Bhuvneshwar Kumar|          3|\n",
       "|  Mosaddek Hossain|          3|\n",
       "|    Mohammed Shami|          1|\n",
       "|     Hardik Pandya|          0|\n",
       "| Mustafizur Rahman|          0|\n",
       "+------------------+-----------+"
      ]
     },
     "execution_count": 12,
     "metadata": {},
     "output_type": "execute_result"
    }
   ],
   "source": [
    "# SHOW THE BATSMAN SCORED BY EACH RUN IN DESCENDING ORDER\n",
    "df_runs_sort = df_runs.sort(df_runs.Runs_Scored.desc())\n",
    "df_runs_sort"
   ]
  },
  {
   "cell_type": "markdown",
   "metadata": {},
   "source": [
    "---\n",
    "\n",
    "#### Which batsman scored the highest number of boundaries\n",
    "\n",
    "---"
   ]
  },
  {
   "cell_type": "code",
   "execution_count": 13,
   "metadata": {},
   "outputs": [
    {
     "data": {
      "text/html": [
       "<table border='1'>\n",
       "<tr><th>Batsman_Name</th><th>Num_Boundary</th></tr>\n",
       "<tr><td>Soumya Sarkar</td><td>4.0</td></tr>\n",
       "<tr><td>Mashrafe Mortaza</td><td>1.0</td></tr>\n",
       "<tr><td>Shakib Al Hasan</td><td>6.0</td></tr>\n",
       "<tr><td>Mushfiqur Rahim</td><td>3.0</td></tr>\n",
       "<tr><td>Mohammad Saifuddin</td><td>9.0</td></tr>\n",
       "<tr><td>Liton Das</td><td>1.0</td></tr>\n",
       "<tr><td>Rishabh Pant</td><td>7.0</td></tr>\n",
       "<tr><td>Mohammed Shami</td><td>null</td></tr>\n",
       "<tr><td>Tamim Iqbal</td><td>3.0</td></tr>\n",
       "<tr><td>Hardik Pandya</td><td>null</td></tr>\n",
       "<tr><td>KL Rahul</td><td>7.0</td></tr>\n",
       "<tr><td>Bhuvneshwar Kumar</td><td>null</td></tr>\n",
       "<tr><td>Rubel Hossain</td><td>1.0</td></tr>\n",
       "<tr><td>Rohit Sharma</td><td>12.0</td></tr>\n",
       "<tr><td>Dinesh Karthik</td><td>1.0</td></tr>\n",
       "<tr><td>Virat Kohli</td><td>3.0</td></tr>\n",
       "<tr><td>MS Dhoni</td><td>4.0</td></tr>\n",
       "<tr><td>Sabbir Rahman</td><td>5.0</td></tr>\n",
       "<tr><td>Mosaddek Hossain</td><td>null</td></tr>\n",
       "<tr><td>Mustafizur Rahman</td><td>null</td></tr>\n",
       "</table>\n"
      ],
      "text/plain": [
       "+------------------+------------+\n",
       "|      Batsman_Name|Num_Boundary|\n",
       "+------------------+------------+\n",
       "|     Soumya Sarkar|         4.0|\n",
       "|  Mashrafe Mortaza|         1.0|\n",
       "|   Shakib Al Hasan|         6.0|\n",
       "|   Mushfiqur Rahim|         3.0|\n",
       "|Mohammad Saifuddin|         9.0|\n",
       "|         Liton Das|         1.0|\n",
       "|      Rishabh Pant|         7.0|\n",
       "|    Mohammed Shami|        null|\n",
       "|       Tamim Iqbal|         3.0|\n",
       "|     Hardik Pandya|        null|\n",
       "|          KL Rahul|         7.0|\n",
       "| Bhuvneshwar Kumar|        null|\n",
       "|     Rubel Hossain|         1.0|\n",
       "|      Rohit Sharma|        12.0|\n",
       "|    Dinesh Karthik|         1.0|\n",
       "|       Virat Kohli|         3.0|\n",
       "|          MS Dhoni|         4.0|\n",
       "|     Sabbir Rahman|         5.0|\n",
       "|  Mosaddek Hossain|        null|\n",
       "| Mustafizur Rahman|        null|\n",
       "+------------------+------------+"
      ]
     },
     "execution_count": 13,
     "metadata": {},
     "output_type": "execute_result"
    }
   ],
   "source": [
    "## WRITE YOUR CODE HERE \n",
    "# Total boundaries scored\n",
    "df_boundary = df_grouped.agg(sum('Isboundary').alias('Num_Boundary'))\n",
    "df_boundary"
   ]
  },
  {
   "cell_type": "markdown",
   "metadata": {},
   "source": [
    "---\n",
    "\n",
    "**Define a `udf` function that will create a new column on the basis of following condition**\n",
    "\n",
    "If the value of `Runs` is less than 2, then assign `A`, if value is between `3 to 5` then assign `B` else assign `C`\n",
    "\n",
    "\n",
    "---"
   ]
  },
  {
   "cell_type": "code",
   "execution_count": 14,
   "metadata": {},
   "outputs": [],
   "source": [
    "## WRITE YOUR CODE HERE\n",
    "# Define the function to encode ward_type\n",
    "def func_new_col(run):\n",
    "    \n",
    "    if run <= 2:\n",
    "        return 'A'\n",
    "    elif run >= 3 & run <= 5:\n",
    "        return 'B'\n",
    "    else:\n",
    "        return 'C'"
   ]
  },
  {
   "cell_type": "code",
   "execution_count": 15,
   "metadata": {},
   "outputs": [],
   "source": [
    "from pyspark.sql.functions import udf"
   ]
  },
  {
   "cell_type": "code",
   "execution_count": 16,
   "metadata": {},
   "outputs": [],
   "source": [
    "# Convert to udf function\n",
    "function_with_udf = udf(f= func_new_col, returnType= tp.StringType())"
   ]
  },
  {
   "cell_type": "code",
   "execution_count": 17,
   "metadata": {},
   "outputs": [
    {
     "data": {
      "text/html": [
       "<table border='1'>\n",
       "<tr><th>Batsman_Name</th><th>Bowler_Name</th><th>Dismissed</th><th>Isboundary</th><th>Runs</th><th>new_column_using_udf</th></tr>\n",
       "<tr><td>Mohammed Shami</td><td>Mustafizur Rahman</td><td>28994.0</td><td>null</td><td>0</td><td>A</td></tr>\n",
       "<tr><td>Bhuvneshwar Kumar</td><td>Mustafizur Rahman</td><td>5132.0</td><td>null</td><td>1</td><td>A</td></tr>\n",
       "<tr><td>Mohammed Shami</td><td>Mustafizur Rahman</td><td>null</td><td>null</td><td>1</td><td>A</td></tr>\n",
       "<tr><td>Bhuvneshwar Kumar</td><td>Mustafizur Rahman</td><td>null</td><td>null</td><td>1</td><td>A</td></tr>\n",
       "<tr><td>MS Dhoni</td><td>Mustafizur Rahman</td><td>3676.0</td><td>null</td><td>0</td><td>A</td></tr>\n",
       "<tr><td>MS Dhoni</td><td>Mustafizur Rahman</td><td>null</td><td>null</td><td>0</td><td>A</td></tr>\n",
       "<tr><td>MS Dhoni</td><td>Mustafizur Rahman</td><td>null</td><td>null</td><td>0</td><td>A</td></tr>\n",
       "<tr><td>MS Dhoni</td><td>Mohammad Saifuddin</td><td>null</td><td>null</td><td>1</td><td>A</td></tr>\n",
       "<tr><td>MS Dhoni</td><td>Mohammad Saifuddin</td><td>null</td><td>1.0</td><td>4</td><td>B</td></tr>\n",
       "<tr><td>MS Dhoni</td><td>Mohammad Saifuddin</td><td>null</td><td>null</td><td>0</td><td>A</td></tr>\n",
       "<tr><td>MS Dhoni</td><td>Mohammad Saifuddin</td><td>null</td><td>null</td><td>0</td><td>A</td></tr>\n",
       "<tr><td>MS Dhoni</td><td>Mohammad Saifuddin</td><td>null</td><td>1.0</td><td>4</td><td>B</td></tr>\n",
       "<tr><td>MS Dhoni</td><td>Mohammad Saifuddin</td><td>null</td><td>null</td><td>2</td><td>A</td></tr>\n",
       "<tr><td>Bhuvneshwar Kumar</td><td>Mustafizur Rahman</td><td>null</td><td>null</td><td>0</td><td>A</td></tr>\n",
       "<tr><td>MS Dhoni</td><td>Mustafizur Rahman</td><td>null</td><td>null</td><td>1</td><td>A</td></tr>\n",
       "<tr><td>MS Dhoni</td><td>Mustafizur Rahman</td><td>null</td><td>null</td><td>0</td><td>A</td></tr>\n",
       "<tr><td>Bhuvneshwar Kumar</td><td>Mustafizur Rahman</td><td>null</td><td>null</td><td>1</td><td>A</td></tr>\n",
       "<tr><td>Dinesh Karthik</td><td>Mustafizur Rahman</td><td>3632.0</td><td>null</td><td>0</td><td>A</td></tr>\n",
       "<tr><td>MS Dhoni</td><td>Mustafizur Rahman</td><td>null</td><td>null</td><td>1</td><td>A</td></tr>\n",
       "<tr><td>MS Dhoni</td><td>Mohammad Saifuddin</td><td>null</td><td>null</td><td>1</td><td>A</td></tr>\n",
       "</table>\n",
       "only showing top 20 rows\n"
      ],
      "text/plain": [
       "+-----------------+------------------+---------+----------+----+--------------------+\n",
       "|     Batsman_Name|       Bowler_Name|Dismissed|Isboundary|Runs|new_column_using_udf|\n",
       "+-----------------+------------------+---------+----------+----+--------------------+\n",
       "|   Mohammed Shami| Mustafizur Rahman|  28994.0|      null|   0|                   A|\n",
       "|Bhuvneshwar Kumar| Mustafizur Rahman|   5132.0|      null|   1|                   A|\n",
       "|   Mohammed Shami| Mustafizur Rahman|     null|      null|   1|                   A|\n",
       "|Bhuvneshwar Kumar| Mustafizur Rahman|     null|      null|   1|                   A|\n",
       "|         MS Dhoni| Mustafizur Rahman|   3676.0|      null|   0|                   A|\n",
       "|         MS Dhoni| Mustafizur Rahman|     null|      null|   0|                   A|\n",
       "|         MS Dhoni| Mustafizur Rahman|     null|      null|   0|                   A|\n",
       "|         MS Dhoni|Mohammad Saifuddin|     null|      null|   1|                   A|\n",
       "|         MS Dhoni|Mohammad Saifuddin|     null|       1.0|   4|                   B|\n",
       "|         MS Dhoni|Mohammad Saifuddin|     null|      null|   0|                   A|\n",
       "|         MS Dhoni|Mohammad Saifuddin|     null|      null|   0|                   A|\n",
       "|         MS Dhoni|Mohammad Saifuddin|     null|       1.0|   4|                   B|\n",
       "|         MS Dhoni|Mohammad Saifuddin|     null|      null|   2|                   A|\n",
       "|Bhuvneshwar Kumar| Mustafizur Rahman|     null|      null|   0|                   A|\n",
       "|         MS Dhoni| Mustafizur Rahman|     null|      null|   1|                   A|\n",
       "|         MS Dhoni| Mustafizur Rahman|     null|      null|   0|                   A|\n",
       "|Bhuvneshwar Kumar| Mustafizur Rahman|     null|      null|   1|                   A|\n",
       "|   Dinesh Karthik| Mustafizur Rahman|   3632.0|      null|   0|                   A|\n",
       "|         MS Dhoni| Mustafizur Rahman|     null|      null|   1|                   A|\n",
       "|         MS Dhoni|Mohammad Saifuddin|     null|      null|   1|                   A|\n",
       "+-----------------+------------------+---------+----------+----+--------------------+\n",
       "only showing top 20 rows"
      ]
     },
     "execution_count": 17,
     "metadata": {},
     "output_type": "execute_result"
    }
   ],
   "source": [
    "# Create new column\n",
    "df1_2 = df1.withColumn(\"new_column_using_udf\",function_with_udf(df1['Runs']))\n",
    "df1_2"
   ]
  },
  {
   "cell_type": "code",
   "execution_count": null,
   "metadata": {},
   "outputs": [],
   "source": []
  }
 ],
 "metadata": {
  "kernelspec": {
   "display_name": "Python 3",
   "language": "python",
   "name": "python3"
  },
  "language_info": {
   "codemirror_mode": {
    "name": "ipython",
    "version": 3
   },
   "file_extension": ".py",
   "mimetype": "text/x-python",
   "name": "python",
   "nbconvert_exporter": "python",
   "pygments_lexer": "ipython3",
   "version": "3.8.2"
  }
 },
 "nbformat": 4,
 "nbformat_minor": 5
}
