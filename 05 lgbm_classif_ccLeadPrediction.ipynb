{
 "cells": [
  {
   "cell_type": "code",
   "execution_count": 1,
   "metadata": {},
   "outputs": [],
   "source": [
    "import pandas as pd\n",
    "import numpy as np\n",
    "\n",
    "\n",
    "import matplotlib.pyplot as plt\n",
    "import seaborn as sns\n",
    "\n",
    "from sklearn import metrics, preprocessing, model_selection\n",
    "import lightgbm as lgb"
   ]
  },
  {
   "cell_type": "code",
   "execution_count": 2,
   "metadata": {},
   "outputs": [],
   "source": [
    "# read the data\n",
    "df_test = pd.read_csv('../data/test_mSzZ8RL_DKa2Eez_7CURkcw.csv')\n",
    "df_train = pd.read_csv('../data/train_s3TEQDk_IyaGz9Y_nvfXhoC.csv')"
   ]
  },
  {
   "cell_type": "code",
   "execution_count": 3,
   "metadata": {},
   "outputs": [],
   "source": [
    "# missing values\n",
    "df_train['Credit_Product'].fillna('no info', inplace=True)\n",
    "df_test['Credit_Product'].fillna('no info', inplace=True)"
   ]
  },
  {
   "cell_type": "code",
   "execution_count": 4,
   "metadata": {},
   "outputs": [],
   "source": [
    "# Label encode the categorical variables\n",
    "for col in df_train.columns:\n",
    "    if df_train[col].dtype==object and col not in ['ID','Is_Lead']:\n",
    "        lbl = preprocessing.LabelEncoder()\n",
    "        lbl.fit(list(df_train[col].values.astype('str')) + list(df_test[col].values.astype('str')))\n",
    "        df_train[col] = lbl.transform(list(df_train[col].values.astype('str')))\n",
    "        df_test[col] = lbl.transform(list(df_test[col].values.astype('str')))"
   ]
  },
  {
   "cell_type": "code",
   "execution_count": 5,
   "metadata": {},
   "outputs": [
    {
     "data": {
      "text/html": [
       "<div>\n",
       "<style scoped>\n",
       "    .dataframe tbody tr th:only-of-type {\n",
       "        vertical-align: middle;\n",
       "    }\n",
       "\n",
       "    .dataframe tbody tr th {\n",
       "        vertical-align: top;\n",
       "    }\n",
       "\n",
       "    .dataframe thead th {\n",
       "        text-align: right;\n",
       "    }\n",
       "</style>\n",
       "<table border=\"1\" class=\"dataframe\">\n",
       "  <thead>\n",
       "    <tr style=\"text-align: right;\">\n",
       "      <th></th>\n",
       "      <th>ID</th>\n",
       "      <th>Gender</th>\n",
       "      <th>Age</th>\n",
       "      <th>Region_Code</th>\n",
       "      <th>Occupation</th>\n",
       "      <th>Channel_Code</th>\n",
       "      <th>Vintage</th>\n",
       "      <th>Credit_Product</th>\n",
       "      <th>Avg_Account_Balance</th>\n",
       "      <th>Is_Active</th>\n",
       "      <th>Is_Lead</th>\n",
       "    </tr>\n",
       "  </thead>\n",
       "  <tbody>\n",
       "    <tr>\n",
       "      <th>0</th>\n",
       "      <td>NNVBBKZB</td>\n",
       "      <td>0</td>\n",
       "      <td>73</td>\n",
       "      <td>18</td>\n",
       "      <td>1</td>\n",
       "      <td>2</td>\n",
       "      <td>43</td>\n",
       "      <td>0</td>\n",
       "      <td>1045696</td>\n",
       "      <td>0</td>\n",
       "      <td>0</td>\n",
       "    </tr>\n",
       "    <tr>\n",
       "      <th>1</th>\n",
       "      <td>IDD62UNG</td>\n",
       "      <td>0</td>\n",
       "      <td>30</td>\n",
       "      <td>27</td>\n",
       "      <td>2</td>\n",
       "      <td>0</td>\n",
       "      <td>32</td>\n",
       "      <td>0</td>\n",
       "      <td>581988</td>\n",
       "      <td>0</td>\n",
       "      <td>0</td>\n",
       "    </tr>\n",
       "    <tr>\n",
       "      <th>2</th>\n",
       "      <td>HD3DSEMC</td>\n",
       "      <td>0</td>\n",
       "      <td>56</td>\n",
       "      <td>18</td>\n",
       "      <td>3</td>\n",
       "      <td>2</td>\n",
       "      <td>26</td>\n",
       "      <td>0</td>\n",
       "      <td>1484315</td>\n",
       "      <td>1</td>\n",
       "      <td>0</td>\n",
       "    </tr>\n",
       "    <tr>\n",
       "      <th>3</th>\n",
       "      <td>BF3NC7KV</td>\n",
       "      <td>1</td>\n",
       "      <td>34</td>\n",
       "      <td>20</td>\n",
       "      <td>2</td>\n",
       "      <td>0</td>\n",
       "      <td>19</td>\n",
       "      <td>0</td>\n",
       "      <td>470454</td>\n",
       "      <td>0</td>\n",
       "      <td>0</td>\n",
       "    </tr>\n",
       "    <tr>\n",
       "      <th>4</th>\n",
       "      <td>TEASRWXV</td>\n",
       "      <td>0</td>\n",
       "      <td>30</td>\n",
       "      <td>32</td>\n",
       "      <td>2</td>\n",
       "      <td>0</td>\n",
       "      <td>33</td>\n",
       "      <td>0</td>\n",
       "      <td>886787</td>\n",
       "      <td>0</td>\n",
       "      <td>0</td>\n",
       "    </tr>\n",
       "  </tbody>\n",
       "</table>\n",
       "</div>"
      ],
      "text/plain": [
       "         ID  Gender  Age  Region_Code  Occupation  Channel_Code  Vintage  \\\n",
       "0  NNVBBKZB       0   73           18           1             2       43   \n",
       "1  IDD62UNG       0   30           27           2             0       32   \n",
       "2  HD3DSEMC       0   56           18           3             2       26   \n",
       "3  BF3NC7KV       1   34           20           2             0       19   \n",
       "4  TEASRWXV       0   30           32           2             0       33   \n",
       "\n",
       "   Credit_Product  Avg_Account_Balance  Is_Active  Is_Lead  \n",
       "0               0              1045696          0        0  \n",
       "1               0               581988          0        0  \n",
       "2               0              1484315          1        0  \n",
       "3               0               470454          0        0  \n",
       "4               0               886787          0        0  "
      ]
     },
     "execution_count": 5,
     "metadata": {},
     "output_type": "execute_result"
    }
   ],
   "source": [
    "df_train.head()"
   ]
  },
  {
   "cell_type": "code",
   "execution_count": 6,
   "metadata": {},
   "outputs": [],
   "source": [
    "X = df_train.drop(['ID','Is_Lead'], axis=1)\n",
    "y = df_train['Is_Lead']"
   ]
  },
  {
   "cell_type": "code",
   "execution_count": 7,
   "metadata": {},
   "outputs": [],
   "source": [
    "lgb_params = {\n",
    "    'boosting_type': 'gbdt',\n",
    "    'objective': 'binary',\n",
    "    'metric': 'auc',\n",
    "    'n_estimators' : 1000\n",
    "}\n",
    "\n",
    "\n",
    "def cv_classif(X,y,test):\n",
    "    \n",
    "    # cross validation\n",
    "    i = 1\n",
    "    scores_val = []\n",
    "    scores_train = []\n",
    "    yhat_test = 0\n",
    "    \n",
    "    #kf = model_selection.StratifiedKFold(n_splits=5,random_state=100,shuffle=True)\n",
    "    kf = model_selection.KFold(n_splits=5,random_state=100,shuffle=True)\n",
    "    \n",
    "    for train_index,val_index in kf.split(X,y):\n",
    "        X_train,X_val = X.loc[train_index],X.loc[val_index]\n",
    "        y_train,y_val = y[train_index],y[val_index]\n",
    "        \n",
    "        # model\n",
    "        clf = lgb.LGBMClassifier(**lgb_params,early_stopping_round=100,random_state=100) #, verbose_eval=50)\n",
    "        \n",
    "        # Fit the model\n",
    "        clf.fit(X_train,y_train,eval_set=[(X_val,y_val),(X_train,y_train)],verbose=50)\n",
    "                \n",
    "        # Get 'AUC Score'\n",
    "        train_auc = metrics.roc_auc_score(y_train, clf.predict_proba(X_train)[:, 1])\n",
    "        val_auc = metrics.roc_auc_score(y_val, clf.predict_proba(X_val)[:, 1])\n",
    "\n",
    "        # Predict on test\n",
    "        yhat_test = clf.predict_proba(test.drop(['ID'], axis=1))[:, 1]\n",
    "        scores_val.append(val_auc)\n",
    "        scores_train.append(train_auc)\n",
    "        yhat_test += yhat_test \n",
    "        i+=1\n",
    "    yhat_test /= 5 \n",
    "    return scores_val,scores_train,yhat_test,clf"
   ]
  },
  {
   "cell_type": "code",
   "execution_count": 8,
   "metadata": {},
   "outputs": [],
   "source": [
    "X = df_train.drop(['ID','Is_Lead'], axis=1)\n",
    "y = df_train['Is_Lead']"
   ]
  },
  {
   "cell_type": "code",
   "execution_count": 9,
   "metadata": {},
   "outputs": [
    {
     "name": "stderr",
     "output_type": "stream",
     "text": [
      "c:\\program files\\python38\\lib\\site-packages\\lightgbm\\engine.py:153: UserWarning: Found `early_stopping_round` in params. Will use it instead of argument\n",
      "  _log_warning(\"Found `{}` in params. Will use it instead of argument\".format(alias))\n"
     ]
    },
    {
     "name": "stdout",
     "output_type": "stream",
     "text": [
      "Training until validation scores don't improve for 100 rounds\n",
      "[50]\ttraining's auc: 0.877494\tvalid_0's auc: 0.872885\n",
      "[100]\ttraining's auc: 0.882447\tvalid_0's auc: 0.873179\n",
      "[150]\ttraining's auc: 0.885935\tvalid_0's auc: 0.873105\n",
      "[200]\ttraining's auc: 0.88874\tvalid_0's auc: 0.872952\n",
      "Early stopping, best iteration is:\n",
      "[106]\ttraining's auc: 0.883059\tvalid_0's auc: 0.873336\n"
     ]
    },
    {
     "name": "stderr",
     "output_type": "stream",
     "text": [
      "c:\\program files\\python38\\lib\\site-packages\\lightgbm\\engine.py:153: UserWarning: Found `early_stopping_round` in params. Will use it instead of argument\n",
      "  _log_warning(\"Found `{}` in params. Will use it instead of argument\".format(alias))\n"
     ]
    },
    {
     "name": "stdout",
     "output_type": "stream",
     "text": [
      "Training until validation scores don't improve for 100 rounds\n",
      "[50]\ttraining's auc: 0.877085\tvalid_0's auc: 0.873257\n",
      "[100]\ttraining's auc: 0.881985\tvalid_0's auc: 0.873284\n",
      "[150]\ttraining's auc: 0.885795\tvalid_0's auc: 0.87274\n",
      "Early stopping, best iteration is:\n",
      "[78]\ttraining's auc: 0.879749\tvalid_0's auc: 0.87337\n"
     ]
    },
    {
     "name": "stderr",
     "output_type": "stream",
     "text": [
      "c:\\program files\\python38\\lib\\site-packages\\lightgbm\\engine.py:153: UserWarning: Found `early_stopping_round` in params. Will use it instead of argument\n",
      "  _log_warning(\"Found `{}` in params. Will use it instead of argument\".format(alias))\n"
     ]
    },
    {
     "name": "stdout",
     "output_type": "stream",
     "text": [
      "Training until validation scores don't improve for 100 rounds\n",
      "[50]\ttraining's auc: 0.876282\tvalid_0's auc: 0.876567\n",
      "[100]\ttraining's auc: 0.880809\tvalid_0's auc: 0.876585\n",
      "[150]\ttraining's auc: 0.884858\tvalid_0's auc: 0.87653\n",
      "Early stopping, best iteration is:\n",
      "[68]\ttraining's auc: 0.877918\tvalid_0's auc: 0.876709\n"
     ]
    },
    {
     "name": "stderr",
     "output_type": "stream",
     "text": [
      "c:\\program files\\python38\\lib\\site-packages\\lightgbm\\engine.py:153: UserWarning: Found `early_stopping_round` in params. Will use it instead of argument\n",
      "  _log_warning(\"Found `{}` in params. Will use it instead of argument\".format(alias))\n"
     ]
    },
    {
     "name": "stdout",
     "output_type": "stream",
     "text": [
      "Training until validation scores don't improve for 100 rounds\n",
      "[50]\ttraining's auc: 0.877199\tvalid_0's auc: 0.872692\n",
      "[100]\ttraining's auc: 0.882173\tvalid_0's auc: 0.872796\n",
      "[150]\ttraining's auc: 0.885359\tvalid_0's auc: 0.872376\n",
      "Early stopping, best iteration is:\n",
      "[90]\ttraining's auc: 0.881266\tvalid_0's auc: 0.873073\n"
     ]
    },
    {
     "name": "stderr",
     "output_type": "stream",
     "text": [
      "c:\\program files\\python38\\lib\\site-packages\\lightgbm\\engine.py:153: UserWarning: Found `early_stopping_round` in params. Will use it instead of argument\n",
      "  _log_warning(\"Found `{}` in params. Will use it instead of argument\".format(alias))\n"
     ]
    },
    {
     "name": "stdout",
     "output_type": "stream",
     "text": [
      "Training until validation scores don't improve for 100 rounds\n",
      "[50]\ttraining's auc: 0.876899\tvalid_0's auc: 0.874166\n",
      "[100]\ttraining's auc: 0.882431\tvalid_0's auc: 0.874001\n",
      "[150]\ttraining's auc: 0.885471\tvalid_0's auc: 0.873964\n",
      "Early stopping, best iteration is:\n",
      "[50]\ttraining's auc: 0.876899\tvalid_0's auc: 0.874166\n"
     ]
    }
   ],
   "source": [
    "scores_val,scores_train,yhat_test,clf = cv_classif(X,y,df_test)"
   ]
  },
  {
   "cell_type": "code",
   "execution_count": 10,
   "metadata": {},
   "outputs": [
    {
     "name": "stdout",
     "output_type": "stream",
     "text": [
      "Mean Validation score: 0.8741308045618735\n",
      "Mean train score     : 0.8797778576940131\n"
     ]
    }
   ],
   "source": [
    "print('Mean Validation score:',np.mean(scores_val))\n",
    "print('Mean train score     :',np.mean(scores_train))"
   ]
  },
  {
   "cell_type": "code",
   "execution_count": 11,
   "metadata": {},
   "outputs": [
    {
     "data": {
      "text/plain": [
       "[0.8733361471868611,\n",
       " 0.8733704313458708,\n",
       " 0.8767085768138679,\n",
       " 0.8730725386840554,\n",
       " 0.8741663287787125]"
      ]
     },
     "execution_count": 11,
     "metadata": {},
     "output_type": "execute_result"
    }
   ],
   "source": [
    "scores_val"
   ]
  },
  {
   "cell_type": "code",
   "execution_count": 12,
   "metadata": {},
   "outputs": [
    {
     "data": {
      "text/plain": [
       "[0.8830589938083464,\n",
       " 0.8797485680469345,\n",
       " 0.8779175901441145,\n",
       " 0.8812655591071208,\n",
       " 0.8768985773635488]"
      ]
     },
     "execution_count": 12,
     "metadata": {},
     "output_type": "execute_result"
    }
   ],
   "source": [
    "scores_train"
   ]
  },
  {
   "cell_type": "code",
   "execution_count": 13,
   "metadata": {},
   "outputs": [
    {
     "data": {
      "image/png": "[encoded data removed]",
      "text/plain": [
       "<Figure size 864x720 with 1 Axes>"
      ]
     },
     "metadata": {
      "needs_background": "light"
     },
     "output_type": "display_data"
    }
   ],
   "source": [
    "fig, ax = plt.subplots(figsize=(12,10))\n",
    "lgb.plot_importance(clf, max_num_features=100, height=0.8, ax=ax)\n",
    "ax.grid(False)\n",
    "plt.title(\"LightGBM - Feature Importance\", fontsize=15)\n",
    "plt.show()"
   ]
  },
  {
   "cell_type": "code",
   "execution_count": 14,
   "metadata": {},
   "outputs": [
    {
     "data": {
      "text/plain": [
       "<AxesSubplot:title={'center':'Metric during training'}, xlabel='Iterations', ylabel='auc'>"
      ]
     },
     "execution_count": 14,
     "metadata": {},
     "output_type": "execute_result"
    },
    {
     "data": {
      "image/png": "[encoded data removed]",
      "text/plain": [
       "<Figure size 432x288 with 1 Axes>"
      ]
     },
     "metadata": {
      "needs_background": "light"
     },
     "output_type": "display_data"
    }
   ],
   "source": [
    "lgb.plot_metric(clf)"
   ]
  },
  {
   "cell_type": "code",
   "execution_count": 15,
   "metadata": {},
   "outputs": [],
   "source": [
    "sub_df = pd.DataFrame(df_test['ID'])\n",
    "sub_df['Is_Lead'] = yhat_test\n",
    "sub_df.to_csv(\"../submission/sub_lgb_20211107.csv\", index=False)"
   ]
  }
 ],
 "metadata": {
  "kernelspec": {
   "display_name": "Python 3",
   "language": "python",
   "name": "python3"
  },
  "language_info": {
   "codemirror_mode": {
    "name": "ipython",
    "version": 3
   },
   "file_extension": ".py",
   "mimetype": "text/x-python",
   "name": "python",
   "nbconvert_exporter": "python",
   "pygments_lexer": "ipython3",
   "version": "3.8.2"
  }
 },
 "nbformat": 4,
 "nbformat_minor": 4
}
