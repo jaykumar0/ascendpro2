{
 "cells": [
  {
   "cell_type": "markdown",
   "metadata": {
    "colab_type": "text",
    "id": "1FzYccB24irQ"
   },
   "source": [
    "## Reading Files into Python"
   ]
  },
  {
   "cell_type": "code",
   "execution_count": 1,
   "metadata": {
    "colab": {
     "base_uri": "https://localhost:8080/",
     "height": 0
    },
    "colab_type": "code",
    "executionInfo": {
     "elapsed": 2377,
     "status": "ok",
     "timestamp": 1588155559870,
     "user": {
      "displayName": "Sharoon Saxena",
      "photoUrl": "https://lh3.googleusercontent.com/a-/AOh14GjyKz9rNCPkHi6QK8TjrjBFlTtaI9ngf0hIwgAl=s64",
      "userId": "01167841530696023488"
     },
     "user_tz": -330
    },
    "id": "zDWO5w4jIiWL",
    "outputId": "10f40a29-46e6-4a98-a03b-30b6eef1fe8f"
   },
   "outputs": [],
   "source": [
    "# importing libraries\n",
    "import pandas as pd\n",
    "import numpy as np\n",
    "import matplotlib.pyplot as plt\n",
    "import seaborn as sns"
   ]
  },
  {
   "cell_type": "code",
   "execution_count": 2,
   "metadata": {
    "colab": {},
    "colab_type": "code",
    "id": "LFxGyLx3L5IS"
   },
   "outputs": [],
   "source": [
    "# reding data\n",
    "df = pd.read_csv('data/nyc_taxi_trip_duration.csv')"
   ]
  },
  {
   "cell_type": "code",
   "execution_count": 3,
   "metadata": {},
   "outputs": [
    {
     "data": {
      "text/plain": [
       "(729322, 11)"
      ]
     },
     "execution_count": 3,
     "metadata": {},
     "output_type": "execute_result"
    }
   ],
   "source": [
    "df.shape"
   ]
  },
  {
   "cell_type": "code",
   "execution_count": 4,
   "metadata": {
    "colab": {
     "base_uri": "https://localhost:8080/",
     "height": 0
    },
    "colab_type": "code",
    "executionInfo": {
     "elapsed": 3437,
     "status": "ok",
     "timestamp": 1588155560951,
     "user": {
      "displayName": "Sharoon Saxena",
      "photoUrl": "https://lh3.googleusercontent.com/a-/AOh14GjyKz9rNCPkHi6QK8TjrjBFlTtaI9ngf0hIwgAl=s64",
      "userId": "01167841530696023488"
     },
     "user_tz": -330
    },
    "id": "qPcIwT47NQX6",
    "outputId": "6080ca13-c8c7-4b95-a503-fc4d0ab80853"
   },
   "outputs": [
    {
     "data": {
      "text/html": [
       "<div>\n",
       "<style scoped>\n",
       "    .dataframe tbody tr th:only-of-type {\n",
       "        vertical-align: middle;\n",
       "    }\n",
       "\n",
       "    .dataframe tbody tr th {\n",
       "        vertical-align: top;\n",
       "    }\n",
       "\n",
       "    .dataframe thead th {\n",
       "        text-align: right;\n",
       "    }\n",
       "</style>\n",
       "<table border=\"1\" class=\"dataframe\">\n",
       "  <thead>\n",
       "    <tr style=\"text-align: right;\">\n",
       "      <th></th>\n",
       "      <th>id</th>\n",
       "      <th>vendor_id</th>\n",
       "      <th>pickup_datetime</th>\n",
       "      <th>dropoff_datetime</th>\n",
       "      <th>passenger_count</th>\n",
       "      <th>pickup_longitude</th>\n",
       "      <th>pickup_latitude</th>\n",
       "      <th>dropoff_longitude</th>\n",
       "      <th>dropoff_latitude</th>\n",
       "      <th>store_and_fwd_flag</th>\n",
       "      <th>trip_duration</th>\n",
       "    </tr>\n",
       "  </thead>\n",
       "  <tbody>\n",
       "    <tr>\n",
       "      <th>0</th>\n",
       "      <td>id1080784</td>\n",
       "      <td>2</td>\n",
       "      <td>2016-02-29 16:40:21</td>\n",
       "      <td>2016-02-29 16:47:01</td>\n",
       "      <td>1</td>\n",
       "      <td>-73.953918</td>\n",
       "      <td>40.778873</td>\n",
       "      <td>-73.963875</td>\n",
       "      <td>40.771164</td>\n",
       "      <td>N</td>\n",
       "      <td>400</td>\n",
       "    </tr>\n",
       "    <tr>\n",
       "      <th>1</th>\n",
       "      <td>id0889885</td>\n",
       "      <td>1</td>\n",
       "      <td>2016-03-11 23:35:37</td>\n",
       "      <td>2016-03-11 23:53:57</td>\n",
       "      <td>2</td>\n",
       "      <td>-73.988312</td>\n",
       "      <td>40.731743</td>\n",
       "      <td>-73.994751</td>\n",
       "      <td>40.694931</td>\n",
       "      <td>N</td>\n",
       "      <td>1100</td>\n",
       "    </tr>\n",
       "    <tr>\n",
       "      <th>2</th>\n",
       "      <td>id0857912</td>\n",
       "      <td>2</td>\n",
       "      <td>2016-02-21 17:59:33</td>\n",
       "      <td>2016-02-21 18:26:48</td>\n",
       "      <td>2</td>\n",
       "      <td>-73.997314</td>\n",
       "      <td>40.721458</td>\n",
       "      <td>-73.948029</td>\n",
       "      <td>40.774918</td>\n",
       "      <td>N</td>\n",
       "      <td>1635</td>\n",
       "    </tr>\n",
       "    <tr>\n",
       "      <th>3</th>\n",
       "      <td>id3744273</td>\n",
       "      <td>2</td>\n",
       "      <td>2016-01-05 09:44:31</td>\n",
       "      <td>2016-01-05 10:03:32</td>\n",
       "      <td>6</td>\n",
       "      <td>-73.961670</td>\n",
       "      <td>40.759720</td>\n",
       "      <td>-73.956779</td>\n",
       "      <td>40.780628</td>\n",
       "      <td>N</td>\n",
       "      <td>1141</td>\n",
       "    </tr>\n",
       "    <tr>\n",
       "      <th>4</th>\n",
       "      <td>id0232939</td>\n",
       "      <td>1</td>\n",
       "      <td>2016-02-17 06:42:23</td>\n",
       "      <td>2016-02-17 06:56:31</td>\n",
       "      <td>1</td>\n",
       "      <td>-74.017120</td>\n",
       "      <td>40.708469</td>\n",
       "      <td>-73.988182</td>\n",
       "      <td>40.740631</td>\n",
       "      <td>N</td>\n",
       "      <td>848</td>\n",
       "    </tr>\n",
       "  </tbody>\n",
       "</table>\n",
       "</div>"
      ],
      "text/plain": [
       "          id  vendor_id      pickup_datetime     dropoff_datetime  \\\n",
       "0  id1080784          2  2016-02-29 16:40:21  2016-02-29 16:47:01   \n",
       "1  id0889885          1  2016-03-11 23:35:37  2016-03-11 23:53:57   \n",
       "2  id0857912          2  2016-02-21 17:59:33  2016-02-21 18:26:48   \n",
       "3  id3744273          2  2016-01-05 09:44:31  2016-01-05 10:03:32   \n",
       "4  id0232939          1  2016-02-17 06:42:23  2016-02-17 06:56:31   \n",
       "\n",
       "   passenger_count  pickup_longitude  pickup_latitude  dropoff_longitude  \\\n",
       "0                1        -73.953918        40.778873         -73.963875   \n",
       "1                2        -73.988312        40.731743         -73.994751   \n",
       "2                2        -73.997314        40.721458         -73.948029   \n",
       "3                6        -73.961670        40.759720         -73.956779   \n",
       "4                1        -74.017120        40.708469         -73.988182   \n",
       "\n",
       "   dropoff_latitude store_and_fwd_flag  trip_duration  \n",
       "0         40.771164                  N            400  \n",
       "1         40.694931                  N           1100  \n",
       "2         40.774918                  N           1635  \n",
       "3         40.780628                  N           1141  \n",
       "4         40.740631                  N            848  "
      ]
     },
     "execution_count": 4,
     "metadata": {},
     "output_type": "execute_result"
    }
   ],
   "source": [
    "# check data\n",
    "df.head()"
   ]
  },
  {
   "cell_type": "code",
   "execution_count": 5,
   "metadata": {
    "colab": {
     "base_uri": "https://localhost:8080/",
     "height": 0
    },
    "colab_type": "code",
    "executionInfo": {
     "elapsed": 3429,
     "status": "ok",
     "timestamp": 1588155560951,
     "user": {
      "displayName": "Sharoon Saxena",
      "photoUrl": "https://lh3.googleusercontent.com/a-/AOh14GjyKz9rNCPkHi6QK8TjrjBFlTtaI9ngf0hIwgAl=s64",
      "userId": "01167841530696023488"
     },
     "user_tz": -330
    },
    "id": "_G5CwMDl2B_8",
    "outputId": "3e880981-b4b3-41c6-d57c-a156d3f13406"
   },
   "outputs": [
    {
     "data": {
      "text/html": [
       "<div>\n",
       "<style scoped>\n",
       "    .dataframe tbody tr th:only-of-type {\n",
       "        vertical-align: middle;\n",
       "    }\n",
       "\n",
       "    .dataframe tbody tr th {\n",
       "        vertical-align: top;\n",
       "    }\n",
       "\n",
       "    .dataframe thead th {\n",
       "        text-align: right;\n",
       "    }\n",
       "</style>\n",
       "<table border=\"1\" class=\"dataframe\">\n",
       "  <thead>\n",
       "    <tr style=\"text-align: right;\">\n",
       "      <th></th>\n",
       "      <th>id</th>\n",
       "      <th>vendor_id</th>\n",
       "      <th>pickup_datetime</th>\n",
       "      <th>dropoff_datetime</th>\n",
       "      <th>passenger_count</th>\n",
       "      <th>pickup_longitude</th>\n",
       "      <th>pickup_latitude</th>\n",
       "      <th>dropoff_longitude</th>\n",
       "      <th>dropoff_latitude</th>\n",
       "      <th>store_and_fwd_flag</th>\n",
       "      <th>trip_duration</th>\n",
       "    </tr>\n",
       "  </thead>\n",
       "  <tbody>\n",
       "    <tr>\n",
       "      <th>729317</th>\n",
       "      <td>id3905982</td>\n",
       "      <td>2</td>\n",
       "      <td>2016-05-21 13:29:38</td>\n",
       "      <td>2016-05-21 13:34:34</td>\n",
       "      <td>2</td>\n",
       "      <td>-73.965919</td>\n",
       "      <td>40.789780</td>\n",
       "      <td>-73.952637</td>\n",
       "      <td>40.789181</td>\n",
       "      <td>N</td>\n",
       "      <td>296</td>\n",
       "    </tr>\n",
       "    <tr>\n",
       "      <th>729318</th>\n",
       "      <td>id0102861</td>\n",
       "      <td>1</td>\n",
       "      <td>2016-02-22 00:43:11</td>\n",
       "      <td>2016-02-22 00:48:26</td>\n",
       "      <td>1</td>\n",
       "      <td>-73.996666</td>\n",
       "      <td>40.737434</td>\n",
       "      <td>-74.001320</td>\n",
       "      <td>40.731911</td>\n",
       "      <td>N</td>\n",
       "      <td>315</td>\n",
       "    </tr>\n",
       "    <tr>\n",
       "      <th>729319</th>\n",
       "      <td>id0439699</td>\n",
       "      <td>1</td>\n",
       "      <td>2016-04-15 18:56:48</td>\n",
       "      <td>2016-04-15 19:08:01</td>\n",
       "      <td>1</td>\n",
       "      <td>-73.997849</td>\n",
       "      <td>40.761696</td>\n",
       "      <td>-74.001488</td>\n",
       "      <td>40.741207</td>\n",
       "      <td>N</td>\n",
       "      <td>673</td>\n",
       "    </tr>\n",
       "    <tr>\n",
       "      <th>729320</th>\n",
       "      <td>id2078912</td>\n",
       "      <td>1</td>\n",
       "      <td>2016-06-19 09:50:47</td>\n",
       "      <td>2016-06-19 09:58:14</td>\n",
       "      <td>1</td>\n",
       "      <td>-74.006706</td>\n",
       "      <td>40.708244</td>\n",
       "      <td>-74.013550</td>\n",
       "      <td>40.713814</td>\n",
       "      <td>N</td>\n",
       "      <td>447</td>\n",
       "    </tr>\n",
       "    <tr>\n",
       "      <th>729321</th>\n",
       "      <td>id1053441</td>\n",
       "      <td>2</td>\n",
       "      <td>2016-01-01 17:24:16</td>\n",
       "      <td>2016-01-01 17:44:40</td>\n",
       "      <td>4</td>\n",
       "      <td>-74.003342</td>\n",
       "      <td>40.743839</td>\n",
       "      <td>-73.945847</td>\n",
       "      <td>40.712841</td>\n",
       "      <td>N</td>\n",
       "      <td>1224</td>\n",
       "    </tr>\n",
       "  </tbody>\n",
       "</table>\n",
       "</div>"
      ],
      "text/plain": [
       "               id  vendor_id      pickup_datetime     dropoff_datetime  \\\n",
       "729317  id3905982          2  2016-05-21 13:29:38  2016-05-21 13:34:34   \n",
       "729318  id0102861          1  2016-02-22 00:43:11  2016-02-22 00:48:26   \n",
       "729319  id0439699          1  2016-04-15 18:56:48  2016-04-15 19:08:01   \n",
       "729320  id2078912          1  2016-06-19 09:50:47  2016-06-19 09:58:14   \n",
       "729321  id1053441          2  2016-01-01 17:24:16  2016-01-01 17:44:40   \n",
       "\n",
       "        passenger_count  pickup_longitude  pickup_latitude  dropoff_longitude  \\\n",
       "729317                2        -73.965919        40.789780         -73.952637   \n",
       "729318                1        -73.996666        40.737434         -74.001320   \n",
       "729319                1        -73.997849        40.761696         -74.001488   \n",
       "729320                1        -74.006706        40.708244         -74.013550   \n",
       "729321                4        -74.003342        40.743839         -73.945847   \n",
       "\n",
       "        dropoff_latitude store_and_fwd_flag  trip_duration  \n",
       "729317         40.789181                  N            296  \n",
       "729318         40.731911                  N            315  \n",
       "729319         40.741207                  N            673  \n",
       "729320         40.713814                  N            447  \n",
       "729321         40.712841                  N           1224  "
      ]
     },
     "execution_count": 5,
     "metadata": {},
     "output_type": "execute_result"
    }
   ],
   "source": [
    "# last 5 instances\n",
    "df.tail()"
   ]
  },
  {
   "cell_type": "code",
   "execution_count": 6,
   "metadata": {
    "colab": {
     "base_uri": "https://localhost:8080/",
     "height": 0
    },
    "colab_type": "code",
    "executionInfo": {
     "elapsed": 3408,
     "status": "ok",
     "timestamp": 1588155560952,
     "user": {
      "displayName": "Sharoon Saxena",
      "photoUrl": "https://lh3.googleusercontent.com/a-/AOh14GjyKz9rNCPkHi6QK8TjrjBFlTtaI9ngf0hIwgAl=s64",
      "userId": "01167841530696023488"
     },
     "user_tz": -330
    },
    "id": "b75gSeumN50y",
    "outputId": "b9f980d0-7e24-47a7-901f-20e1306f02ea"
   },
   "outputs": [
    {
     "data": {
      "text/plain": [
       "Index(['id', 'vendor_id', 'pickup_datetime', 'dropoff_datetime',\n",
       "       'passenger_count', 'pickup_longitude', 'pickup_latitude',\n",
       "       'dropoff_longitude', 'dropoff_latitude', 'store_and_fwd_flag',\n",
       "       'trip_duration'],\n",
       "      dtype='object')"
      ]
     },
     "execution_count": 6,
     "metadata": {},
     "output_type": "execute_result"
    }
   ],
   "source": [
    "# get the columns\n",
    "df.columns"
   ]
  },
  {
   "cell_type": "code",
   "execution_count": 7,
   "metadata": {
    "colab": {
     "base_uri": "https://localhost:8080/",
     "height": 0
    },
    "colab_type": "code",
    "executionInfo": {
     "elapsed": 3404,
     "status": "ok",
     "timestamp": 1588155560953,
     "user": {
      "displayName": "Sharoon Saxena",
      "photoUrl": "https://lh3.googleusercontent.com/a-/AOh14GjyKz9rNCPkHi6QK8TjrjBFlTtaI9ngf0hIwgAl=s64",
      "userId": "01167841530696023488"
     },
     "user_tz": -330
    },
    "id": "2_Us_uMgBnF_",
    "outputId": "53dc2177-81aa-4ef3-8b05-7ab377018efb"
   },
   "outputs": [
    {
     "data": {
      "text/plain": [
       "id                     object\n",
       "vendor_id               int64\n",
       "pickup_datetime        object\n",
       "dropoff_datetime       object\n",
       "passenger_count         int64\n",
       "pickup_longitude      float64\n",
       "pickup_latitude       float64\n",
       "dropoff_longitude     float64\n",
       "dropoff_latitude      float64\n",
       "store_and_fwd_flag     object\n",
       "trip_duration           int64\n",
       "dtype: object"
      ]
     },
     "execution_count": 7,
     "metadata": {},
     "output_type": "execute_result"
    }
   ],
   "source": [
    "# chek the data types\n",
    "df.dtypes"
   ]
  },
  {
   "cell_type": "code",
   "execution_count": 8,
   "metadata": {
    "colab": {
     "base_uri": "https://localhost:8080/",
     "height": 0
    },
    "colab_type": "code",
    "executionInfo": {
     "elapsed": 3389,
     "status": "ok",
     "timestamp": 1588155560954,
     "user": {
      "displayName": "Sharoon Saxena",
      "photoUrl": "https://lh3.googleusercontent.com/a-/AOh14GjyKz9rNCPkHi6QK8TjrjBFlTtaI9ngf0hIwgAl=s64",
      "userId": "01167841530696023488"
     },
     "user_tz": -330
    },
    "id": "zjim6-_NDUOe",
    "outputId": "050b7a55-a0e3-4901-ffe4-4dceeddde2a4"
   },
   "outputs": [
    {
     "data": {
      "text/plain": [
       "id                            object\n",
       "vendor_id                      int64\n",
       "pickup_datetime       datetime64[ns]\n",
       "dropoff_datetime      datetime64[ns]\n",
       "passenger_count                int64\n",
       "pickup_longitude             float64\n",
       "pickup_latitude              float64\n",
       "dropoff_longitude            float64\n",
       "dropoff_latitude             float64\n",
       "store_and_fwd_flag            object\n",
       "trip_duration                  int64\n",
       "dtype: object"
      ]
     },
     "execution_count": 8,
     "metadata": {},
     "output_type": "execute_result"
    }
   ],
   "source": [
    "# Update to datetime\n",
    "df.pickup_datetime = pd.to_datetime(df.pickup_datetime,format=\"%Y-%m-%d %H:%M:%S\")\n",
    "df.dropoff_datetime = pd.to_datetime(df.dropoff_datetime,format=\"%Y-%m-%d %H:%M:%S\")\n",
    "\n",
    "# confirm\n",
    "df.dtypes"
   ]
  },
  {
   "cell_type": "markdown",
   "metadata": {},
   "source": [
    "### Check for null values and duplicates"
   ]
  },
  {
   "cell_type": "code",
   "execution_count": 9,
   "metadata": {},
   "outputs": [
    {
     "data": {
      "text/plain": [
       "id                    0\n",
       "vendor_id             0\n",
       "pickup_datetime       0\n",
       "dropoff_datetime      0\n",
       "passenger_count       0\n",
       "pickup_longitude      0\n",
       "pickup_latitude       0\n",
       "dropoff_longitude     0\n",
       "dropoff_latitude      0\n",
       "store_and_fwd_flag    0\n",
       "trip_duration         0\n",
       "dtype: int64"
      ]
     },
     "execution_count": 9,
     "metadata": {},
     "output_type": "execute_result"
    }
   ],
   "source": [
    "# Check if any null\n",
    "df.isnull().sum()"
   ]
  },
  {
   "cell_type": "markdown",
   "metadata": {},
   "source": [
    "#### No  Null in the data"
   ]
  },
  {
   "cell_type": "code",
   "execution_count": 10,
   "metadata": {},
   "outputs": [
    {
     "data": {
      "text/plain": [
       "0"
      ]
     },
     "execution_count": 10,
     "metadata": {},
     "output_type": "execute_result"
    }
   ],
   "source": [
    "# Check if any duplicates\n",
    "df.duplicated().sum()"
   ]
  },
  {
   "cell_type": "markdown",
   "metadata": {},
   "source": [
    "#### No Duplicates in the data"
   ]
  },
  {
   "cell_type": "markdown",
   "metadata": {},
   "source": [
    "### Check unique values per column"
   ]
  },
  {
   "cell_type": "code",
   "execution_count": 11,
   "metadata": {},
   "outputs": [
    {
     "data": {
      "text/plain": [
       "id                    729322\n",
       "vendor_id                  2\n",
       "pickup_datetime       709359\n",
       "dropoff_datetime      709308\n",
       "passenger_count            9\n",
       "pickup_longitude       19729\n",
       "pickup_latitude        39776\n",
       "dropoff_longitude      27892\n",
       "dropoff_latitude       53579\n",
       "store_and_fwd_flag         2\n",
       "trip_duration           6296\n",
       "dtype: int64"
      ]
     },
     "execution_count": 11,
     "metadata": {},
     "output_type": "execute_result"
    }
   ],
   "source": [
    "# Check unique values per column\n",
    "df.nunique()"
   ]
  },
  {
   "cell_type": "code",
   "execution_count": 12,
   "metadata": {
    "colab": {},
    "colab_type": "code",
    "id": "BiDzZxipexc8"
   },
   "outputs": [],
   "source": [
    "# Get different date components\n",
    "\n",
    "# use only one of the dates to get the components - as  not expecting too much of difference between a taxi trip\n",
    "# Use pickup_datetime\n",
    "\n",
    "df['day_of_month'] = df['pickup_datetime'].dt.day\n",
    "df['day_name'] = df['pickup_datetime'].dt.day_name()\n",
    "df['hour'] = df['pickup_datetime'].dt.hour"
   ]
  },
  {
   "cell_type": "code",
   "execution_count": 13,
   "metadata": {},
   "outputs": [],
   "source": [
    "# Bin the travel hour into four hours slot\n",
    "# hm_bins = [0,4,7,12,15,19,24]\n",
    "hr_bins = [0,4,8,12,16,20,24]\n",
    "hr_labels = ['Late Night', 'Early Morning','Morning','Noon','Eve','Night']\n",
    "\n",
    "df['hour_slot'] = pd.cut(df['hour'], bins=hr_bins, labels=hr_labels, include_lowest=True)"
   ]
  },
  {
   "cell_type": "code",
   "execution_count": 14,
   "metadata": {},
   "outputs": [],
   "source": [
    "# convert day of month and hour to categorial data\n",
    "#df['day_of_month'] = df['day_of_month'].astype('category')\n",
    "#df['hour'] = df['hour'].astype('category')"
   ]
  },
  {
   "cell_type": "code",
   "execution_count": 15,
   "metadata": {
    "colab": {
     "base_uri": "https://localhost:8080/",
     "height": 0
    },
    "colab_type": "code",
    "executionInfo": {
     "elapsed": 3350,
     "status": "ok",
     "timestamp": 1588155560957,
     "user": {
      "displayName": "Sharoon Saxena",
      "photoUrl": "https://lh3.googleusercontent.com/a-/AOh14GjyKz9rNCPkHi6QK8TjrjBFlTtaI9ngf0hIwgAl=s64",
      "userId": "01167841530696023488"
     },
     "user_tz": -330
    },
    "id": "HX959YsKk0ie",
    "outputId": "93102593-1041-4d00-ac15-e6db763f8059"
   },
   "outputs": [
    {
     "data": {
      "text/html": [
       "<div>\n",
       "<style scoped>\n",
       "    .dataframe tbody tr th:only-of-type {\n",
       "        vertical-align: middle;\n",
       "    }\n",
       "\n",
       "    .dataframe tbody tr th {\n",
       "        vertical-align: top;\n",
       "    }\n",
       "\n",
       "    .dataframe thead th {\n",
       "        text-align: right;\n",
       "    }\n",
       "</style>\n",
       "<table border=\"1\" class=\"dataframe\">\n",
       "  <thead>\n",
       "    <tr style=\"text-align: right;\">\n",
       "      <th></th>\n",
       "      <th>pickup_datetime</th>\n",
       "      <th>day_of_month</th>\n",
       "      <th>day_name</th>\n",
       "      <th>hour</th>\n",
       "      <th>hour_slot</th>\n",
       "    </tr>\n",
       "  </thead>\n",
       "  <tbody>\n",
       "    <tr>\n",
       "      <th>0</th>\n",
       "      <td>2016-02-29 16:40:21</td>\n",
       "      <td>29</td>\n",
       "      <td>Monday</td>\n",
       "      <td>16</td>\n",
       "      <td>Noon</td>\n",
       "    </tr>\n",
       "    <tr>\n",
       "      <th>1</th>\n",
       "      <td>2016-03-11 23:35:37</td>\n",
       "      <td>11</td>\n",
       "      <td>Friday</td>\n",
       "      <td>23</td>\n",
       "      <td>Night</td>\n",
       "    </tr>\n",
       "    <tr>\n",
       "      <th>2</th>\n",
       "      <td>2016-02-21 17:59:33</td>\n",
       "      <td>21</td>\n",
       "      <td>Sunday</td>\n",
       "      <td>17</td>\n",
       "      <td>Eve</td>\n",
       "    </tr>\n",
       "    <tr>\n",
       "      <th>3</th>\n",
       "      <td>2016-01-05 09:44:31</td>\n",
       "      <td>5</td>\n",
       "      <td>Tuesday</td>\n",
       "      <td>9</td>\n",
       "      <td>Morning</td>\n",
       "    </tr>\n",
       "    <tr>\n",
       "      <th>4</th>\n",
       "      <td>2016-02-17 06:42:23</td>\n",
       "      <td>17</td>\n",
       "      <td>Wednesday</td>\n",
       "      <td>6</td>\n",
       "      <td>Early Morning</td>\n",
       "    </tr>\n",
       "  </tbody>\n",
       "</table>\n",
       "</div>"
      ],
      "text/plain": [
       "      pickup_datetime  day_of_month   day_name  hour      hour_slot\n",
       "0 2016-02-29 16:40:21            29     Monday    16           Noon\n",
       "1 2016-03-11 23:35:37            11     Friday    23          Night\n",
       "2 2016-02-21 17:59:33            21     Sunday    17            Eve\n",
       "3 2016-01-05 09:44:31             5    Tuesday     9        Morning\n",
       "4 2016-02-17 06:42:23            17  Wednesday     6  Early Morning"
      ]
     },
     "execution_count": 15,
     "metadata": {},
     "output_type": "execute_result"
    }
   ],
   "source": [
    "# checking new extracted columns using\n",
    "df[['pickup_datetime','day_of_month','day_name','hour','hour_slot']].head()"
   ]
  },
  {
   "cell_type": "code",
   "execution_count": 16,
   "metadata": {},
   "outputs": [],
   "source": [
    "# Get the distance travelled from the latitude and longitude columns\n",
    "# import sklearn\n",
    "from sklearn.neighbors import DistanceMetric"
   ]
  },
  {
   "cell_type": "code",
   "execution_count": 17,
   "metadata": {},
   "outputs": [],
   "source": [
    "# latitude and longitudes needs to be converted to radians\n",
    "# add columns with radians for latitude and longitude\n",
    "\n",
    "df['pickup_lat_radians'] = np.radians(df['pickup_latitude'])\n",
    "df['pickup_long_radians'] = np.radians(df['pickup_longitude'])\n",
    "\n",
    "df['dropoff_lat_radians'] = np.radians(df['dropoff_latitude'])\n",
    "df['dropoff_long_radians'] = np.radians(df['dropoff_longitude'])"
   ]
  },
  {
   "cell_type": "code",
   "execution_count": 18,
   "metadata": {},
   "outputs": [],
   "source": [
    "# Calculate the distance in KM's\n",
    "# 6371 is the radius of earth in km's\n",
    "\n",
    "#dist = sklearn.neighbors.DistanceMetric.get_metric('haversine')\n",
    "dist = DistanceMetric.get_metric('haversine')\n",
    "\n",
    "# explore to remove the loop - to do \n",
    "dist_km = []\n",
    "for i, row in df.iterrows():\n",
    "    z = dist.pairwise([(row['pickup_lat_radians'],row.pickup_long_radians)], [(row['dropoff_lat_radians'],row.dropoff_long_radians)]) * 6371\n",
    "    dist_km.append(z[0][0])\n",
    "\n",
    "df['distance'] = dist_km"
   ]
  },
  {
   "cell_type": "code",
   "execution_count": 19,
   "metadata": {},
   "outputs": [
    {
     "data": {
      "text/html": [
       "<div>\n",
       "<style scoped>\n",
       "    .dataframe tbody tr th:only-of-type {\n",
       "        vertical-align: middle;\n",
       "    }\n",
       "\n",
       "    .dataframe tbody tr th {\n",
       "        vertical-align: top;\n",
       "    }\n",
       "\n",
       "    .dataframe thead th {\n",
       "        text-align: right;\n",
       "    }\n",
       "</style>\n",
       "<table border=\"1\" class=\"dataframe\">\n",
       "  <thead>\n",
       "    <tr style=\"text-align: right;\">\n",
       "      <th></th>\n",
       "      <th>id</th>\n",
       "      <th>vendor_id</th>\n",
       "      <th>passenger_count</th>\n",
       "      <th>store_and_fwd_flag</th>\n",
       "      <th>trip_duration</th>\n",
       "      <th>day_of_month</th>\n",
       "      <th>day_name</th>\n",
       "      <th>hour</th>\n",
       "      <th>hour_slot</th>\n",
       "      <th>distance</th>\n",
       "    </tr>\n",
       "  </thead>\n",
       "  <tbody>\n",
       "    <tr>\n",
       "      <th>0</th>\n",
       "      <td>id1080784</td>\n",
       "      <td>2</td>\n",
       "      <td>1</td>\n",
       "      <td>N</td>\n",
       "      <td>400</td>\n",
       "      <td>29</td>\n",
       "      <td>Monday</td>\n",
       "      <td>16</td>\n",
       "      <td>Noon</td>\n",
       "      <td>1.199073</td>\n",
       "    </tr>\n",
       "    <tr>\n",
       "      <th>1</th>\n",
       "      <td>id0889885</td>\n",
       "      <td>1</td>\n",
       "      <td>2</td>\n",
       "      <td>N</td>\n",
       "      <td>1100</td>\n",
       "      <td>11</td>\n",
       "      <td>Friday</td>\n",
       "      <td>23</td>\n",
       "      <td>Night</td>\n",
       "      <td>4.129111</td>\n",
       "    </tr>\n",
       "    <tr>\n",
       "      <th>2</th>\n",
       "      <td>id0857912</td>\n",
       "      <td>2</td>\n",
       "      <td>2</td>\n",
       "      <td>N</td>\n",
       "      <td>1635</td>\n",
       "      <td>21</td>\n",
       "      <td>Sunday</td>\n",
       "      <td>17</td>\n",
       "      <td>Eve</td>\n",
       "      <td>7.250753</td>\n",
       "    </tr>\n",
       "    <tr>\n",
       "      <th>3</th>\n",
       "      <td>id3744273</td>\n",
       "      <td>2</td>\n",
       "      <td>6</td>\n",
       "      <td>N</td>\n",
       "      <td>1141</td>\n",
       "      <td>5</td>\n",
       "      <td>Tuesday</td>\n",
       "      <td>9</td>\n",
       "      <td>Morning</td>\n",
       "      <td>2.361097</td>\n",
       "    </tr>\n",
       "    <tr>\n",
       "      <th>4</th>\n",
       "      <td>id0232939</td>\n",
       "      <td>1</td>\n",
       "      <td>1</td>\n",
       "      <td>N</td>\n",
       "      <td>848</td>\n",
       "      <td>17</td>\n",
       "      <td>Wednesday</td>\n",
       "      <td>6</td>\n",
       "      <td>Early Morning</td>\n",
       "      <td>4.328534</td>\n",
       "    </tr>\n",
       "  </tbody>\n",
       "</table>\n",
       "</div>"
      ],
      "text/plain": [
       "          id  vendor_id  passenger_count store_and_fwd_flag  trip_duration  \\\n",
       "0  id1080784          2                1                  N            400   \n",
       "1  id0889885          1                2                  N           1100   \n",
       "2  id0857912          2                2                  N           1635   \n",
       "3  id3744273          2                6                  N           1141   \n",
       "4  id0232939          1                1                  N            848   \n",
       "\n",
       "   day_of_month   day_name  hour      hour_slot  distance  \n",
       "0            29     Monday    16           Noon  1.199073  \n",
       "1            11     Friday    23          Night  4.129111  \n",
       "2            21     Sunday    17            Eve  7.250753  \n",
       "3             5    Tuesday     9        Morning  2.361097  \n",
       "4            17  Wednesday     6  Early Morning  4.328534  "
      ]
     },
     "execution_count": 19,
     "metadata": {},
     "output_type": "execute_result"
    }
   ],
   "source": [
    "# remove the lat,long and related 'radians' columns and the dates column\n",
    "drop_cols = ['pickup_longitude', 'pickup_latitude','dropoff_longitude','dropoff_latitude',\n",
    "            'pickup_lat_radians','pickup_long_radians','dropoff_lat_radians','dropoff_long_radians',\n",
    "            'dropoff_datetime','pickup_datetime']\n",
    "\n",
    "df.drop(columns=drop_cols,inplace=True)\n",
    "\n",
    "df.head()"
   ]
  },
  {
   "cell_type": "code",
   "execution_count": 20,
   "metadata": {},
   "outputs": [
    {
     "data": {
      "text/plain": [
       "id                      object\n",
       "vendor_id                int64\n",
       "passenger_count          int64\n",
       "store_and_fwd_flag      object\n",
       "trip_duration            int64\n",
       "day_of_month             int64\n",
       "day_name                object\n",
       "hour                     int64\n",
       "hour_slot             category\n",
       "distance               float64\n",
       "dtype: object"
      ]
     },
     "execution_count": 20,
     "metadata": {},
     "output_type": "execute_result"
    }
   ],
   "source": [
    "df.dtypes"
   ]
  },
  {
   "cell_type": "markdown",
   "metadata": {},
   "source": [
    "### Remove the outliers"
   ]
  },
  {
   "cell_type": "code",
   "execution_count": 21,
   "metadata": {},
   "outputs": [],
   "source": [
    "# Function  to remove outliers\n",
    "# updates and value less than q1-1.5iqr to to q1-1.5iqr and \n",
    "# values more than  q3+1.5iqr to q3+1.5*iqr\n",
    "# Distance  and distance  per hour - treat the outliers - as per eda done previously\n",
    "# Craete a function to remove the  outliers\n",
    "def replace_ol(x,method):\n",
    "    q1 = x.quantile(0.25)\n",
    "    q3 = x.quantile(0.75)\n",
    "    iqr = q3-q1\n",
    "    lower_val = q1 - (1.5 * iqr)\n",
    "    upper_val = q1 + (1.5 * iqr)\n",
    "\n",
    "    if method == 'iqr' :\n",
    "        return (x.clip(lower = lower_val,upper = upper_val))\n",
    "    else : # by median, not mean\n",
    "        med = x.median()\n",
    "        #y = np.where(x > upper, med, x)\n",
    "        #y = np.where(x < lower, med, y)\n",
    "        #return y\n",
    "        return(x.clip(lower = med,upper = med))"
   ]
  },
  {
   "cell_type": "code",
   "execution_count": 22,
   "metadata": {},
   "outputs": [],
   "source": [
    "df['distance'] = replace_ol(df['distance'],'iqr')"
   ]
  },
  {
   "cell_type": "code",
   "execution_count": 23,
   "metadata": {},
   "outputs": [
    {
     "data": {
      "text/html": [
       "<div>\n",
       "<style scoped>\n",
       "    .dataframe tbody tr th:only-of-type {\n",
       "        vertical-align: middle;\n",
       "    }\n",
       "\n",
       "    .dataframe tbody tr th {\n",
       "        vertical-align: top;\n",
       "    }\n",
       "\n",
       "    .dataframe thead th {\n",
       "        text-align: right;\n",
       "    }\n",
       "</style>\n",
       "<table border=\"1\" class=\"dataframe\">\n",
       "  <thead>\n",
       "    <tr style=\"text-align: right;\">\n",
       "      <th></th>\n",
       "      <th>id</th>\n",
       "      <th>vendor_id</th>\n",
       "      <th>passenger_count</th>\n",
       "      <th>store_and_fwd_flag</th>\n",
       "      <th>trip_duration</th>\n",
       "      <th>day_of_month</th>\n",
       "      <th>day_name</th>\n",
       "      <th>hour</th>\n",
       "      <th>hour_slot</th>\n",
       "      <th>distance</th>\n",
       "    </tr>\n",
       "  </thead>\n",
       "  <tbody>\n",
       "    <tr>\n",
       "      <th>0</th>\n",
       "      <td>id1080784</td>\n",
       "      <td>2</td>\n",
       "      <td>1</td>\n",
       "      <td>N</td>\n",
       "      <td>400</td>\n",
       "      <td>29</td>\n",
       "      <td>Monday</td>\n",
       "      <td>16</td>\n",
       "      <td>Noon</td>\n",
       "      <td>1.199073</td>\n",
       "    </tr>\n",
       "    <tr>\n",
       "      <th>1</th>\n",
       "      <td>id0889885</td>\n",
       "      <td>1</td>\n",
       "      <td>2</td>\n",
       "      <td>N</td>\n",
       "      <td>1100</td>\n",
       "      <td>11</td>\n",
       "      <td>Friday</td>\n",
       "      <td>23</td>\n",
       "      <td>Night</td>\n",
       "      <td>4.129111</td>\n",
       "    </tr>\n",
       "    <tr>\n",
       "      <th>2</th>\n",
       "      <td>id0857912</td>\n",
       "      <td>2</td>\n",
       "      <td>2</td>\n",
       "      <td>N</td>\n",
       "      <td>1635</td>\n",
       "      <td>21</td>\n",
       "      <td>Sunday</td>\n",
       "      <td>17</td>\n",
       "      <td>Eve</td>\n",
       "      <td>5.198374</td>\n",
       "    </tr>\n",
       "    <tr>\n",
       "      <th>3</th>\n",
       "      <td>id3744273</td>\n",
       "      <td>2</td>\n",
       "      <td>6</td>\n",
       "      <td>N</td>\n",
       "      <td>1141</td>\n",
       "      <td>5</td>\n",
       "      <td>Tuesday</td>\n",
       "      <td>9</td>\n",
       "      <td>Morning</td>\n",
       "      <td>2.361097</td>\n",
       "    </tr>\n",
       "    <tr>\n",
       "      <th>4</th>\n",
       "      <td>id0232939</td>\n",
       "      <td>1</td>\n",
       "      <td>1</td>\n",
       "      <td>N</td>\n",
       "      <td>848</td>\n",
       "      <td>17</td>\n",
       "      <td>Wednesday</td>\n",
       "      <td>6</td>\n",
       "      <td>Early Morning</td>\n",
       "      <td>4.328534</td>\n",
       "    </tr>\n",
       "  </tbody>\n",
       "</table>\n",
       "</div>"
      ],
      "text/plain": [
       "          id  vendor_id  passenger_count store_and_fwd_flag  trip_duration  \\\n",
       "0  id1080784          2                1                  N            400   \n",
       "1  id0889885          1                2                  N           1100   \n",
       "2  id0857912          2                2                  N           1635   \n",
       "3  id3744273          2                6                  N           1141   \n",
       "4  id0232939          1                1                  N            848   \n",
       "\n",
       "   day_of_month   day_name  hour      hour_slot  distance  \n",
       "0            29     Monday    16           Noon  1.199073  \n",
       "1            11     Friday    23          Night  4.129111  \n",
       "2            21     Sunday    17            Eve  5.198374  \n",
       "3             5    Tuesday     9        Morning  2.361097  \n",
       "4            17  Wednesday     6  Early Morning  4.328534  "
      ]
     },
     "execution_count": 23,
     "metadata": {},
     "output_type": "execute_result"
    }
   ],
   "source": [
    "df.head()"
   ]
  },
  {
   "cell_type": "markdown",
   "metadata": {},
   "source": [
    "#### Get one hot encoding"
   ]
  },
  {
   "cell_type": "code",
   "execution_count": 24,
   "metadata": {},
   "outputs": [
    {
     "data": {
      "text/plain": [
       "id                      object\n",
       "vendor_id                int64\n",
       "passenger_count          int64\n",
       "store_and_fwd_flag      object\n",
       "trip_duration            int64\n",
       "day_of_month             int64\n",
       "day_name                object\n",
       "hour                     int64\n",
       "hour_slot             category\n",
       "distance               float64\n",
       "dtype: object"
      ]
     },
     "execution_count": 24,
     "metadata": {},
     "output_type": "execute_result"
    }
   ],
   "source": [
    "df.dtypes"
   ]
  },
  {
   "cell_type": "code",
   "execution_count": 25,
   "metadata": {},
   "outputs": [
    {
     "data": {
      "text/plain": [
       "array(['id', 'store_and_fwd_flag', 'day_name', 'hour_slot'], dtype=object)"
      ]
     },
     "execution_count": 25,
     "metadata": {},
     "output_type": "execute_result"
    }
   ],
   "source": [
    "# remove the id and other columns\n",
    "#id = df.pop('id')\n",
    "\n",
    "cat_cols = df.select_dtypes(include=['object','category']).columns.values\n",
    "cat_cols"
   ]
  },
  {
   "cell_type": "code",
   "execution_count": 26,
   "metadata": {},
   "outputs": [
    {
     "data": {
      "text/plain": [
       "array(['store_and_fwd_flag', 'day_name', 'hour_slot', 'vendor_id'],\n",
       "      dtype=object)"
      ]
     },
     "execution_count": 26,
     "metadata": {},
     "output_type": "execute_result"
    }
   ],
   "source": [
    "# Treat vendor id as cat col\n",
    "cat_cols = np.append(cat_cols,'vendor_id')\n",
    "\n",
    "# Remove 'id' from the list\n",
    "cat_cols = np.delete(cat_cols,[0])\n",
    "cat_cols"
   ]
  },
  {
   "cell_type": "code",
   "execution_count": 27,
   "metadata": {},
   "outputs": [
    {
     "data": {
      "text/plain": [
       "(729322, 10)"
      ]
     },
     "execution_count": 27,
     "metadata": {},
     "output_type": "execute_result"
    }
   ],
   "source": [
    "df.shape"
   ]
  },
  {
   "cell_type": "code",
   "execution_count": 28,
   "metadata": {},
   "outputs": [
    {
     "data": {
      "text/plain": [
       "(729322, 23)"
      ]
     },
     "execution_count": 28,
     "metadata": {},
     "output_type": "execute_result"
    }
   ],
   "source": [
    "df = pd.get_dummies(df, prefix_sep = '_',columns=cat_cols) #,drop_first = True)\n",
    "df.shape"
   ]
  },
  {
   "cell_type": "code",
   "execution_count": 29,
   "metadata": {},
   "outputs": [],
   "source": [
    "pd.set_option('display.max_columns', 30)"
   ]
  },
  {
   "cell_type": "code",
   "execution_count": 30,
   "metadata": {},
   "outputs": [
    {
     "data": {
      "text/html": [
       "<div>\n",
       "<style scoped>\n",
       "    .dataframe tbody tr th:only-of-type {\n",
       "        vertical-align: middle;\n",
       "    }\n",
       "\n",
       "    .dataframe tbody tr th {\n",
       "        vertical-align: top;\n",
       "    }\n",
       "\n",
       "    .dataframe thead th {\n",
       "        text-align: right;\n",
       "    }\n",
       "</style>\n",
       "<table border=\"1\" class=\"dataframe\">\n",
       "  <thead>\n",
       "    <tr style=\"text-align: right;\">\n",
       "      <th></th>\n",
       "      <th>id</th>\n",
       "      <th>passenger_count</th>\n",
       "      <th>trip_duration</th>\n",
       "      <th>day_of_month</th>\n",
       "      <th>hour</th>\n",
       "      <th>distance</th>\n",
       "      <th>store_and_fwd_flag_N</th>\n",
       "      <th>store_and_fwd_flag_Y</th>\n",
       "      <th>day_name_Friday</th>\n",
       "      <th>day_name_Monday</th>\n",
       "      <th>day_name_Saturday</th>\n",
       "      <th>day_name_Sunday</th>\n",
       "      <th>day_name_Thursday</th>\n",
       "      <th>day_name_Tuesday</th>\n",
       "      <th>day_name_Wednesday</th>\n",
       "      <th>hour_slot_Late Night</th>\n",
       "      <th>hour_slot_Early Morning</th>\n",
       "      <th>hour_slot_Morning</th>\n",
       "      <th>hour_slot_Noon</th>\n",
       "      <th>hour_slot_Eve</th>\n",
       "      <th>hour_slot_Night</th>\n",
       "      <th>vendor_id_1</th>\n",
       "      <th>vendor_id_2</th>\n",
       "    </tr>\n",
       "  </thead>\n",
       "  <tbody>\n",
       "    <tr>\n",
       "      <th>0</th>\n",
       "      <td>id1080784</td>\n",
       "      <td>1</td>\n",
       "      <td>400</td>\n",
       "      <td>29</td>\n",
       "      <td>16</td>\n",
       "      <td>1.199073</td>\n",
       "      <td>1</td>\n",
       "      <td>0</td>\n",
       "      <td>0</td>\n",
       "      <td>1</td>\n",
       "      <td>0</td>\n",
       "      <td>0</td>\n",
       "      <td>0</td>\n",
       "      <td>0</td>\n",
       "      <td>0</td>\n",
       "      <td>0</td>\n",
       "      <td>0</td>\n",
       "      <td>0</td>\n",
       "      <td>1</td>\n",
       "      <td>0</td>\n",
       "      <td>0</td>\n",
       "      <td>0</td>\n",
       "      <td>1</td>\n",
       "    </tr>\n",
       "    <tr>\n",
       "      <th>1</th>\n",
       "      <td>id0889885</td>\n",
       "      <td>2</td>\n",
       "      <td>1100</td>\n",
       "      <td>11</td>\n",
       "      <td>23</td>\n",
       "      <td>4.129111</td>\n",
       "      <td>1</td>\n",
       "      <td>0</td>\n",
       "      <td>1</td>\n",
       "      <td>0</td>\n",
       "      <td>0</td>\n",
       "      <td>0</td>\n",
       "      <td>0</td>\n",
       "      <td>0</td>\n",
       "      <td>0</td>\n",
       "      <td>0</td>\n",
       "      <td>0</td>\n",
       "      <td>0</td>\n",
       "      <td>0</td>\n",
       "      <td>0</td>\n",
       "      <td>1</td>\n",
       "      <td>1</td>\n",
       "      <td>0</td>\n",
       "    </tr>\n",
       "    <tr>\n",
       "      <th>2</th>\n",
       "      <td>id0857912</td>\n",
       "      <td>2</td>\n",
       "      <td>1635</td>\n",
       "      <td>21</td>\n",
       "      <td>17</td>\n",
       "      <td>5.198374</td>\n",
       "      <td>1</td>\n",
       "      <td>0</td>\n",
       "      <td>0</td>\n",
       "      <td>0</td>\n",
       "      <td>0</td>\n",
       "      <td>1</td>\n",
       "      <td>0</td>\n",
       "      <td>0</td>\n",
       "      <td>0</td>\n",
       "      <td>0</td>\n",
       "      <td>0</td>\n",
       "      <td>0</td>\n",
       "      <td>0</td>\n",
       "      <td>1</td>\n",
       "      <td>0</td>\n",
       "      <td>0</td>\n",
       "      <td>1</td>\n",
       "    </tr>\n",
       "    <tr>\n",
       "      <th>3</th>\n",
       "      <td>id3744273</td>\n",
       "      <td>6</td>\n",
       "      <td>1141</td>\n",
       "      <td>5</td>\n",
       "      <td>9</td>\n",
       "      <td>2.361097</td>\n",
       "      <td>1</td>\n",
       "      <td>0</td>\n",
       "      <td>0</td>\n",
       "      <td>0</td>\n",
       "      <td>0</td>\n",
       "      <td>0</td>\n",
       "      <td>0</td>\n",
       "      <td>1</td>\n",
       "      <td>0</td>\n",
       "      <td>0</td>\n",
       "      <td>0</td>\n",
       "      <td>1</td>\n",
       "      <td>0</td>\n",
       "      <td>0</td>\n",
       "      <td>0</td>\n",
       "      <td>0</td>\n",
       "      <td>1</td>\n",
       "    </tr>\n",
       "    <tr>\n",
       "      <th>4</th>\n",
       "      <td>id0232939</td>\n",
       "      <td>1</td>\n",
       "      <td>848</td>\n",
       "      <td>17</td>\n",
       "      <td>6</td>\n",
       "      <td>4.328534</td>\n",
       "      <td>1</td>\n",
       "      <td>0</td>\n",
       "      <td>0</td>\n",
       "      <td>0</td>\n",
       "      <td>0</td>\n",
       "      <td>0</td>\n",
       "      <td>0</td>\n",
       "      <td>0</td>\n",
       "      <td>1</td>\n",
       "      <td>0</td>\n",
       "      <td>1</td>\n",
       "      <td>0</td>\n",
       "      <td>0</td>\n",
       "      <td>0</td>\n",
       "      <td>0</td>\n",
       "      <td>1</td>\n",
       "      <td>0</td>\n",
       "    </tr>\n",
       "  </tbody>\n",
       "</table>\n",
       "</div>"
      ],
      "text/plain": [
       "          id  passenger_count  trip_duration  day_of_month  hour  distance  \\\n",
       "0  id1080784                1            400            29    16  1.199073   \n",
       "1  id0889885                2           1100            11    23  4.129111   \n",
       "2  id0857912                2           1635            21    17  5.198374   \n",
       "3  id3744273                6           1141             5     9  2.361097   \n",
       "4  id0232939                1            848            17     6  4.328534   \n",
       "\n",
       "   store_and_fwd_flag_N  store_and_fwd_flag_Y  day_name_Friday  \\\n",
       "0                     1                     0                0   \n",
       "1                     1                     0                1   \n",
       "2                     1                     0                0   \n",
       "3                     1                     0                0   \n",
       "4                     1                     0                0   \n",
       "\n",
       "   day_name_Monday  day_name_Saturday  day_name_Sunday  day_name_Thursday  \\\n",
       "0                1                  0                0                  0   \n",
       "1                0                  0                0                  0   \n",
       "2                0                  0                1                  0   \n",
       "3                0                  0                0                  0   \n",
       "4                0                  0                0                  0   \n",
       "\n",
       "   day_name_Tuesday  day_name_Wednesday  hour_slot_Late Night  \\\n",
       "0                 0                   0                     0   \n",
       "1                 0                   0                     0   \n",
       "2                 0                   0                     0   \n",
       "3                 1                   0                     0   \n",
       "4                 0                   1                     0   \n",
       "\n",
       "   hour_slot_Early Morning  hour_slot_Morning  hour_slot_Noon  hour_slot_Eve  \\\n",
       "0                        0                  0               1              0   \n",
       "1                        0                  0               0              0   \n",
       "2                        0                  0               0              1   \n",
       "3                        0                  1               0              0   \n",
       "4                        1                  0               0              0   \n",
       "\n",
       "   hour_slot_Night  vendor_id_1  vendor_id_2  \n",
       "0                0            0            1  \n",
       "1                1            1            0  \n",
       "2                0            0            1  \n",
       "3                0            0            1  \n",
       "4                0            1            0  "
      ]
     },
     "execution_count": 30,
     "metadata": {},
     "output_type": "execute_result"
    }
   ],
   "source": [
    "df.head()"
   ]
  },
  {
   "cell_type": "code",
   "execution_count": 31,
   "metadata": {},
   "outputs": [],
   "source": [
    "# write as csv for modelling\n",
    "# df.to_csv('data/nyc_taxi_trip_duration_withOL_processed.csv', index=False)\n",
    "df.to_csv('data/nyc_taxi_trip_duration_processed.csv', index=False)"
   ]
  },
  {
   "cell_type": "markdown",
   "metadata": {},
   "source": [
    "### Check the trip_duration column"
   ]
  },
  {
   "cell_type": "code",
   "execution_count": 32,
   "metadata": {},
   "outputs": [
    {
     "data": {
      "image/png": "[encoded data removed]",
      "text/plain": [
       "<Figure size 576x432 with 1 Axes>"
      ]
     },
     "metadata": {
      "needs_background": "light"
     },
     "output_type": "display_data"
    }
   ],
   "source": [
    "# Plot the target variable\n",
    "plt.figure(figsize=(8,6))\n",
    "plt.scatter(range(df.shape[0]), np.sort(df['trip_duration'].values))\n",
    "plt.xlabel('index', fontsize=12)\n",
    "plt.ylabel('trip_duration', fontsize=12);"
   ]
  },
  {
   "cell_type": "code",
   "execution_count": 33,
   "metadata": {},
   "outputs": [
    {
     "data": {
      "text/html": [
       "<div>\n",
       "<style scoped>\n",
       "    .dataframe tbody tr th:only-of-type {\n",
       "        vertical-align: middle;\n",
       "    }\n",
       "\n",
       "    .dataframe tbody tr th {\n",
       "        vertical-align: top;\n",
       "    }\n",
       "\n",
       "    .dataframe thead th {\n",
       "        text-align: right;\n",
       "    }\n",
       "</style>\n",
       "<table border=\"1\" class=\"dataframe\">\n",
       "  <thead>\n",
       "    <tr style=\"text-align: right;\">\n",
       "      <th></th>\n",
       "      <th>passenger_count</th>\n",
       "      <th>trip_duration</th>\n",
       "      <th>day_of_month</th>\n",
       "      <th>hour</th>\n",
       "      <th>distance</th>\n",
       "      <th>store_and_fwd_flag_N</th>\n",
       "      <th>store_and_fwd_flag_Y</th>\n",
       "      <th>day_name_Friday</th>\n",
       "      <th>day_name_Monday</th>\n",
       "      <th>day_name_Saturday</th>\n",
       "      <th>day_name_Sunday</th>\n",
       "      <th>day_name_Thursday</th>\n",
       "      <th>day_name_Tuesday</th>\n",
       "      <th>day_name_Wednesday</th>\n",
       "      <th>hour_slot_Late Night</th>\n",
       "      <th>hour_slot_Early Morning</th>\n",
       "      <th>hour_slot_Morning</th>\n",
       "      <th>hour_slot_Noon</th>\n",
       "      <th>hour_slot_Eve</th>\n",
       "      <th>hour_slot_Night</th>\n",
       "      <th>vendor_id_1</th>\n",
       "      <th>vendor_id_2</th>\n",
       "    </tr>\n",
       "  </thead>\n",
       "  <tbody>\n",
       "    <tr>\n",
       "      <th>count</th>\n",
       "      <td>729322.000000</td>\n",
       "      <td>7.293220e+05</td>\n",
       "      <td>729322.000000</td>\n",
       "      <td>729322.000000</td>\n",
       "      <td>729322.000000</td>\n",
       "      <td>729322.000000</td>\n",
       "      <td>729322.000000</td>\n",
       "      <td>729322.000000</td>\n",
       "      <td>729322.000000</td>\n",
       "      <td>729322.000000</td>\n",
       "      <td>729322.000000</td>\n",
       "      <td>729322.000000</td>\n",
       "      <td>729322.000000</td>\n",
       "      <td>729322.000000</td>\n",
       "      <td>729322.000000</td>\n",
       "      <td>729322.000000</td>\n",
       "      <td>729322.000000</td>\n",
       "      <td>729322.000000</td>\n",
       "      <td>729322.000000</td>\n",
       "      <td>729322.000000</td>\n",
       "      <td>729322.000000</td>\n",
       "      <td>729322.000000</td>\n",
       "    </tr>\n",
       "    <tr>\n",
       "      <th>mean</th>\n",
       "      <td>1.662055</td>\n",
       "      <td>9.522291e+02</td>\n",
       "      <td>15.502088</td>\n",
       "      <td>13.611698</td>\n",
       "      <td>2.564616</td>\n",
       "      <td>0.994461</td>\n",
       "      <td>0.005539</td>\n",
       "      <td>0.153216</td>\n",
       "      <td>0.128848</td>\n",
       "      <td>0.151171</td>\n",
       "      <td>0.133935</td>\n",
       "      <td>0.149926</td>\n",
       "      <td>0.138833</td>\n",
       "      <td>0.144071</td>\n",
       "      <td>0.107195</td>\n",
       "      <td>0.117358</td>\n",
       "      <td>0.187044</td>\n",
       "      <td>0.192760</td>\n",
       "      <td>0.234662</td>\n",
       "      <td>0.160981</td>\n",
       "      <td>0.464597</td>\n",
       "      <td>0.535403</td>\n",
       "    </tr>\n",
       "    <tr>\n",
       "      <th>std</th>\n",
       "      <td>1.312446</td>\n",
       "      <td>3.864626e+03</td>\n",
       "      <td>8.699772</td>\n",
       "      <td>6.402853</td>\n",
       "      <td>1.605513</td>\n",
       "      <td>0.074221</td>\n",
       "      <td>0.074221</td>\n",
       "      <td>0.360196</td>\n",
       "      <td>0.335032</td>\n",
       "      <td>0.358215</td>\n",
       "      <td>0.340583</td>\n",
       "      <td>0.356999</td>\n",
       "      <td>0.345772</td>\n",
       "      <td>0.351162</td>\n",
       "      <td>0.309362</td>\n",
       "      <td>0.321847</td>\n",
       "      <td>0.389947</td>\n",
       "      <td>0.394466</td>\n",
       "      <td>0.423788</td>\n",
       "      <td>0.367514</td>\n",
       "      <td>0.498745</td>\n",
       "      <td>0.498745</td>\n",
       "    </tr>\n",
       "    <tr>\n",
       "      <th>min</th>\n",
       "      <td>0.000000</td>\n",
       "      <td>1.000000e+00</td>\n",
       "      <td>1.000000</td>\n",
       "      <td>0.000000</td>\n",
       "      <td>0.000000</td>\n",
       "      <td>0.000000</td>\n",
       "      <td>0.000000</td>\n",
       "      <td>0.000000</td>\n",
       "      <td>0.000000</td>\n",
       "      <td>0.000000</td>\n",
       "      <td>0.000000</td>\n",
       "      <td>0.000000</td>\n",
       "      <td>0.000000</td>\n",
       "      <td>0.000000</td>\n",
       "      <td>0.000000</td>\n",
       "      <td>0.000000</td>\n",
       "      <td>0.000000</td>\n",
       "      <td>0.000000</td>\n",
       "      <td>0.000000</td>\n",
       "      <td>0.000000</td>\n",
       "      <td>0.000000</td>\n",
       "      <td>0.000000</td>\n",
       "    </tr>\n",
       "    <tr>\n",
       "      <th>25%</th>\n",
       "      <td>1.000000</td>\n",
       "      <td>3.970000e+02</td>\n",
       "      <td>8.000000</td>\n",
       "      <td>9.000000</td>\n",
       "      <td>1.232695</td>\n",
       "      <td>1.000000</td>\n",
       "      <td>0.000000</td>\n",
       "      <td>0.000000</td>\n",
       "      <td>0.000000</td>\n",
       "      <td>0.000000</td>\n",
       "      <td>0.000000</td>\n",
       "      <td>0.000000</td>\n",
       "      <td>0.000000</td>\n",
       "      <td>0.000000</td>\n",
       "      <td>0.000000</td>\n",
       "      <td>0.000000</td>\n",
       "      <td>0.000000</td>\n",
       "      <td>0.000000</td>\n",
       "      <td>0.000000</td>\n",
       "      <td>0.000000</td>\n",
       "      <td>0.000000</td>\n",
       "      <td>0.000000</td>\n",
       "    </tr>\n",
       "    <tr>\n",
       "      <th>50%</th>\n",
       "      <td>1.000000</td>\n",
       "      <td>6.630000e+02</td>\n",
       "      <td>15.000000</td>\n",
       "      <td>14.000000</td>\n",
       "      <td>2.095672</td>\n",
       "      <td>1.000000</td>\n",
       "      <td>0.000000</td>\n",
       "      <td>0.000000</td>\n",
       "      <td>0.000000</td>\n",
       "      <td>0.000000</td>\n",
       "      <td>0.000000</td>\n",
       "      <td>0.000000</td>\n",
       "      <td>0.000000</td>\n",
       "      <td>0.000000</td>\n",
       "      <td>0.000000</td>\n",
       "      <td>0.000000</td>\n",
       "      <td>0.000000</td>\n",
       "      <td>0.000000</td>\n",
       "      <td>0.000000</td>\n",
       "      <td>0.000000</td>\n",
       "      <td>0.000000</td>\n",
       "      <td>1.000000</td>\n",
       "    </tr>\n",
       "    <tr>\n",
       "      <th>75%</th>\n",
       "      <td>2.000000</td>\n",
       "      <td>1.075000e+03</td>\n",
       "      <td>23.000000</td>\n",
       "      <td>19.000000</td>\n",
       "      <td>3.876481</td>\n",
       "      <td>1.000000</td>\n",
       "      <td>0.000000</td>\n",
       "      <td>0.000000</td>\n",
       "      <td>0.000000</td>\n",
       "      <td>0.000000</td>\n",
       "      <td>0.000000</td>\n",
       "      <td>0.000000</td>\n",
       "      <td>0.000000</td>\n",
       "      <td>0.000000</td>\n",
       "      <td>0.000000</td>\n",
       "      <td>0.000000</td>\n",
       "      <td>0.000000</td>\n",
       "      <td>0.000000</td>\n",
       "      <td>0.000000</td>\n",
       "      <td>0.000000</td>\n",
       "      <td>1.000000</td>\n",
       "      <td>1.000000</td>\n",
       "    </tr>\n",
       "    <tr>\n",
       "      <th>max</th>\n",
       "      <td>9.000000</td>\n",
       "      <td>1.939736e+06</td>\n",
       "      <td>31.000000</td>\n",
       "      <td>23.000000</td>\n",
       "      <td>5.198374</td>\n",
       "      <td>1.000000</td>\n",
       "      <td>1.000000</td>\n",
       "      <td>1.000000</td>\n",
       "      <td>1.000000</td>\n",
       "      <td>1.000000</td>\n",
       "      <td>1.000000</td>\n",
       "      <td>1.000000</td>\n",
       "      <td>1.000000</td>\n",
       "      <td>1.000000</td>\n",
       "      <td>1.000000</td>\n",
       "      <td>1.000000</td>\n",
       "      <td>1.000000</td>\n",
       "      <td>1.000000</td>\n",
       "      <td>1.000000</td>\n",
       "      <td>1.000000</td>\n",
       "      <td>1.000000</td>\n",
       "      <td>1.000000</td>\n",
       "    </tr>\n",
       "  </tbody>\n",
       "</table>\n",
       "</div>"
      ],
      "text/plain": [
       "       passenger_count  trip_duration   day_of_month           hour  \\\n",
       "count    729322.000000   7.293220e+05  729322.000000  729322.000000   \n",
       "mean          1.662055   9.522291e+02      15.502088      13.611698   \n",
       "std           1.312446   3.864626e+03       8.699772       6.402853   \n",
       "min           0.000000   1.000000e+00       1.000000       0.000000   \n",
       "25%           1.000000   3.970000e+02       8.000000       9.000000   \n",
       "50%           1.000000   6.630000e+02      15.000000      14.000000   \n",
       "75%           2.000000   1.075000e+03      23.000000      19.000000   \n",
       "max           9.000000   1.939736e+06      31.000000      23.000000   \n",
       "\n",
       "            distance  store_and_fwd_flag_N  store_and_fwd_flag_Y  \\\n",
       "count  729322.000000         729322.000000         729322.000000   \n",
       "mean        2.564616              0.994461              0.005539   \n",
       "std         1.605513              0.074221              0.074221   \n",
       "min         0.000000              0.000000              0.000000   \n",
       "25%         1.232695              1.000000              0.000000   \n",
       "50%         2.095672              1.000000              0.000000   \n",
       "75%         3.876481              1.000000              0.000000   \n",
       "max         5.198374              1.000000              1.000000   \n",
       "\n",
       "       day_name_Friday  day_name_Monday  day_name_Saturday  day_name_Sunday  \\\n",
       "count    729322.000000    729322.000000      729322.000000    729322.000000   \n",
       "mean          0.153216         0.128848           0.151171         0.133935   \n",
       "std           0.360196         0.335032           0.358215         0.340583   \n",
       "min           0.000000         0.000000           0.000000         0.000000   \n",
       "25%           0.000000         0.000000           0.000000         0.000000   \n",
       "50%           0.000000         0.000000           0.000000         0.000000   \n",
       "75%           0.000000         0.000000           0.000000         0.000000   \n",
       "max           1.000000         1.000000           1.000000         1.000000   \n",
       "\n",
       "       day_name_Thursday  day_name_Tuesday  day_name_Wednesday  \\\n",
       "count      729322.000000     729322.000000       729322.000000   \n",
       "mean            0.149926          0.138833            0.144071   \n",
       "std             0.356999          0.345772            0.351162   \n",
       "min             0.000000          0.000000            0.000000   \n",
       "25%             0.000000          0.000000            0.000000   \n",
       "50%             0.000000          0.000000            0.000000   \n",
       "75%             0.000000          0.000000            0.000000   \n",
       "max             1.000000          1.000000            1.000000   \n",
       "\n",
       "       hour_slot_Late Night  hour_slot_Early Morning  hour_slot_Morning  \\\n",
       "count         729322.000000            729322.000000      729322.000000   \n",
       "mean               0.107195                 0.117358           0.187044   \n",
       "std                0.309362                 0.321847           0.389947   \n",
       "min                0.000000                 0.000000           0.000000   \n",
       "25%                0.000000                 0.000000           0.000000   \n",
       "50%                0.000000                 0.000000           0.000000   \n",
       "75%                0.000000                 0.000000           0.000000   \n",
       "max                1.000000                 1.000000           1.000000   \n",
       "\n",
       "       hour_slot_Noon  hour_slot_Eve  hour_slot_Night    vendor_id_1  \\\n",
       "count   729322.000000  729322.000000    729322.000000  729322.000000   \n",
       "mean         0.192760       0.234662         0.160981       0.464597   \n",
       "std          0.394466       0.423788         0.367514       0.498745   \n",
       "min          0.000000       0.000000         0.000000       0.000000   \n",
       "25%          0.000000       0.000000         0.000000       0.000000   \n",
       "50%          0.000000       0.000000         0.000000       0.000000   \n",
       "75%          0.000000       0.000000         0.000000       1.000000   \n",
       "max          1.000000       1.000000         1.000000       1.000000   \n",
       "\n",
       "         vendor_id_2  \n",
       "count  729322.000000  \n",
       "mean        0.535403  \n",
       "std         0.498745  \n",
       "min         0.000000  \n",
       "25%         0.000000  \n",
       "50%         1.000000  \n",
       "75%         1.000000  \n",
       "max         1.000000  "
      ]
     },
     "execution_count": 33,
     "metadata": {},
     "output_type": "execute_result"
    }
   ],
   "source": [
    "df.describe()"
   ]
  },
  {
   "cell_type": "markdown",
   "metadata": {},
   "source": [
    "#### There is an extreme value -  lets drop it \n",
    "#### and minimum value 1 also"
   ]
  },
  {
   "cell_type": "code",
   "execution_count": 34,
   "metadata": {},
   "outputs": [
    {
     "data": {
      "text/plain": [
       "(729322, 23)"
      ]
     },
     "execution_count": 34,
     "metadata": {},
     "output_type": "execute_result"
    }
   ],
   "source": [
    "df.shape"
   ]
  },
  {
   "cell_type": "code",
   "execution_count": 35,
   "metadata": {},
   "outputs": [
    {
     "data": {
      "text/plain": [
       "1"
      ]
     },
     "execution_count": 35,
     "metadata": {},
     "output_type": "execute_result"
    }
   ],
   "source": [
    "# Check how many have max value\n",
    "df[df['trip_duration'] == df['trip_duration'].max()].shape[0]"
   ]
  },
  {
   "cell_type": "code",
   "execution_count": 36,
   "metadata": {},
   "outputs": [
    {
     "data": {
      "text/plain": [
       "13"
      ]
     },
     "execution_count": 36,
     "metadata": {},
     "output_type": "execute_result"
    }
   ],
   "source": [
    "# Check how many have min value - 1 second\n",
    "df[df['trip_duration'] == df['trip_duration'].min()].shape[0]"
   ]
  },
  {
   "cell_type": "code",
   "execution_count": 37,
   "metadata": {},
   "outputs": [
    {
     "data": {
      "text/plain": [
       "4362"
      ]
     },
     "execution_count": 37,
     "metadata": {},
     "output_type": "execute_result"
    }
   ],
   "source": [
    "# Check how many trips are there with less than 1 minute of trip duration\n",
    "df[df['trip_duration'] <= 60].shape[0]"
   ]
  },
  {
   "cell_type": "code",
   "execution_count": 38,
   "metadata": {},
   "outputs": [
    {
     "data": {
      "text/plain": [
       "978"
      ]
     },
     "execution_count": 38,
     "metadata": {},
     "output_type": "execute_result"
    }
   ],
   "source": [
    "# There are lot of high values , count the number of rows with trip more than 10 hours\n",
    "df[df['trip_duration'] >= 10*60*60].shape[0]"
   ]
  },
  {
   "cell_type": "code",
   "execution_count": 39,
   "metadata": {},
   "outputs": [
    {
     "data": {
      "text/plain": [
       "14129"
      ]
     },
     "execution_count": 39,
     "metadata": {},
     "output_type": "execute_result"
    }
   ],
   "source": [
    "# Number of trips less than 2 minutes\n",
    "df[df['trip_duration'] <= 2*60 ].shape[0]"
   ]
  },
  {
   "cell_type": "code",
   "execution_count": 40,
   "metadata": {},
   "outputs": [
    {
     "data": {
      "text/plain": [
       "(724959, 23)"
      ]
     },
     "execution_count": 40,
     "metadata": {},
     "output_type": "execute_result"
    }
   ],
   "source": [
    "# Lets drop  the max and less than 1 minute rides - potentially wrong entries\n",
    "orig_rows = df.shape[0]\n",
    "df = df[df['trip_duration'] != df['trip_duration'].max()]\n",
    "df = df[df['trip_duration'] > 60]\n",
    "df.shape"
   ]
  },
  {
   "cell_type": "code",
   "execution_count": 41,
   "metadata": {},
   "outputs": [
    {
     "data": {
      "text/plain": [
       "4363"
      ]
     },
     "execution_count": 41,
     "metadata": {},
     "output_type": "execute_result"
    }
   ],
   "source": [
    "# How many rows got droppd\n",
    "orig_rows - df.shape[0]"
   ]
  },
  {
   "cell_type": "code",
   "execution_count": 42,
   "metadata": {},
   "outputs": [
    {
     "data": {
      "text/html": [
       "<div>\n",
       "<style scoped>\n",
       "    .dataframe tbody tr th:only-of-type {\n",
       "        vertical-align: middle;\n",
       "    }\n",
       "\n",
       "    .dataframe tbody tr th {\n",
       "        vertical-align: top;\n",
       "    }\n",
       "\n",
       "    .dataframe thead th {\n",
       "        text-align: right;\n",
       "    }\n",
       "</style>\n",
       "<table border=\"1\" class=\"dataframe\">\n",
       "  <thead>\n",
       "    <tr style=\"text-align: right;\">\n",
       "      <th></th>\n",
       "      <th>passenger_count</th>\n",
       "      <th>trip_duration</th>\n",
       "      <th>day_of_month</th>\n",
       "      <th>hour</th>\n",
       "      <th>distance</th>\n",
       "      <th>store_and_fwd_flag_N</th>\n",
       "      <th>store_and_fwd_flag_Y</th>\n",
       "      <th>day_name_Friday</th>\n",
       "      <th>day_name_Monday</th>\n",
       "      <th>day_name_Saturday</th>\n",
       "      <th>day_name_Sunday</th>\n",
       "      <th>day_name_Thursday</th>\n",
       "      <th>day_name_Tuesday</th>\n",
       "      <th>day_name_Wednesday</th>\n",
       "      <th>hour_slot_Late Night</th>\n",
       "      <th>hour_slot_Early Morning</th>\n",
       "      <th>hour_slot_Morning</th>\n",
       "      <th>hour_slot_Noon</th>\n",
       "      <th>hour_slot_Eve</th>\n",
       "      <th>hour_slot_Night</th>\n",
       "      <th>vendor_id_1</th>\n",
       "      <th>vendor_id_2</th>\n",
       "    </tr>\n",
       "  </thead>\n",
       "  <tbody>\n",
       "    <tr>\n",
       "      <th>count</th>\n",
       "      <td>724959.000000</td>\n",
       "      <td>724959.000000</td>\n",
       "      <td>724959.000000</td>\n",
       "      <td>724959.000000</td>\n",
       "      <td>724959.000000</td>\n",
       "      <td>724959.000000</td>\n",
       "      <td>724959.000000</td>\n",
       "      <td>724959.000000</td>\n",
       "      <td>724959.000000</td>\n",
       "      <td>724959.000000</td>\n",
       "      <td>724959.000000</td>\n",
       "      <td>724959.000000</td>\n",
       "      <td>724959.000000</td>\n",
       "      <td>724959.000000</td>\n",
       "      <td>724959.000000</td>\n",
       "      <td>724959.000000</td>\n",
       "      <td>724959.000000</td>\n",
       "      <td>724959.000000</td>\n",
       "      <td>724959.000000</td>\n",
       "      <td>724959.000000</td>\n",
       "      <td>724959.000000</td>\n",
       "      <td>724959.000000</td>\n",
       "    </tr>\n",
       "    <tr>\n",
       "      <th>mean</th>\n",
       "      <td>1.663391</td>\n",
       "      <td>955.115289</td>\n",
       "      <td>15.502470</td>\n",
       "      <td>13.617596</td>\n",
       "      <td>2.579288</td>\n",
       "      <td>0.994531</td>\n",
       "      <td>0.005469</td>\n",
       "      <td>0.153238</td>\n",
       "      <td>0.128843</td>\n",
       "      <td>0.151204</td>\n",
       "      <td>0.133785</td>\n",
       "      <td>0.149916</td>\n",
       "      <td>0.138875</td>\n",
       "      <td>0.144138</td>\n",
       "      <td>0.106868</td>\n",
       "      <td>0.117249</td>\n",
       "      <td>0.187229</td>\n",
       "      <td>0.192692</td>\n",
       "      <td>0.234886</td>\n",
       "      <td>0.161075</td>\n",
       "      <td>0.463913</td>\n",
       "      <td>0.536087</td>\n",
       "    </tr>\n",
       "    <tr>\n",
       "      <th>std</th>\n",
       "      <td>1.313424</td>\n",
       "      <td>3136.097209</td>\n",
       "      <td>8.700129</td>\n",
       "      <td>6.400017</td>\n",
       "      <td>1.599014</td>\n",
       "      <td>0.073752</td>\n",
       "      <td>0.073752</td>\n",
       "      <td>0.360217</td>\n",
       "      <td>0.335026</td>\n",
       "      <td>0.358248</td>\n",
       "      <td>0.340422</td>\n",
       "      <td>0.356989</td>\n",
       "      <td>0.345817</td>\n",
       "      <td>0.351230</td>\n",
       "      <td>0.308946</td>\n",
       "      <td>0.321717</td>\n",
       "      <td>0.390095</td>\n",
       "      <td>0.394414</td>\n",
       "      <td>0.423928</td>\n",
       "      <td>0.367601</td>\n",
       "      <td>0.498696</td>\n",
       "      <td>0.498696</td>\n",
       "    </tr>\n",
       "    <tr>\n",
       "      <th>min</th>\n",
       "      <td>0.000000</td>\n",
       "      <td>61.000000</td>\n",
       "      <td>1.000000</td>\n",
       "      <td>0.000000</td>\n",
       "      <td>0.000000</td>\n",
       "      <td>0.000000</td>\n",
       "      <td>0.000000</td>\n",
       "      <td>0.000000</td>\n",
       "      <td>0.000000</td>\n",
       "      <td>0.000000</td>\n",
       "      <td>0.000000</td>\n",
       "      <td>0.000000</td>\n",
       "      <td>0.000000</td>\n",
       "      <td>0.000000</td>\n",
       "      <td>0.000000</td>\n",
       "      <td>0.000000</td>\n",
       "      <td>0.000000</td>\n",
       "      <td>0.000000</td>\n",
       "      <td>0.000000</td>\n",
       "      <td>0.000000</td>\n",
       "      <td>0.000000</td>\n",
       "      <td>0.000000</td>\n",
       "    </tr>\n",
       "    <tr>\n",
       "      <th>25%</th>\n",
       "      <td>1.000000</td>\n",
       "      <td>401.000000</td>\n",
       "      <td>8.000000</td>\n",
       "      <td>9.000000</td>\n",
       "      <td>1.245758</td>\n",
       "      <td>1.000000</td>\n",
       "      <td>0.000000</td>\n",
       "      <td>0.000000</td>\n",
       "      <td>0.000000</td>\n",
       "      <td>0.000000</td>\n",
       "      <td>0.000000</td>\n",
       "      <td>0.000000</td>\n",
       "      <td>0.000000</td>\n",
       "      <td>0.000000</td>\n",
       "      <td>0.000000</td>\n",
       "      <td>0.000000</td>\n",
       "      <td>0.000000</td>\n",
       "      <td>0.000000</td>\n",
       "      <td>0.000000</td>\n",
       "      <td>0.000000</td>\n",
       "      <td>0.000000</td>\n",
       "      <td>0.000000</td>\n",
       "    </tr>\n",
       "    <tr>\n",
       "      <th>50%</th>\n",
       "      <td>1.000000</td>\n",
       "      <td>667.000000</td>\n",
       "      <td>15.000000</td>\n",
       "      <td>14.000000</td>\n",
       "      <td>2.109072</td>\n",
       "      <td>1.000000</td>\n",
       "      <td>0.000000</td>\n",
       "      <td>0.000000</td>\n",
       "      <td>0.000000</td>\n",
       "      <td>0.000000</td>\n",
       "      <td>0.000000</td>\n",
       "      <td>0.000000</td>\n",
       "      <td>0.000000</td>\n",
       "      <td>0.000000</td>\n",
       "      <td>0.000000</td>\n",
       "      <td>0.000000</td>\n",
       "      <td>0.000000</td>\n",
       "      <td>0.000000</td>\n",
       "      <td>0.000000</td>\n",
       "      <td>0.000000</td>\n",
       "      <td>0.000000</td>\n",
       "      <td>1.000000</td>\n",
       "    </tr>\n",
       "    <tr>\n",
       "      <th>75%</th>\n",
       "      <td>2.000000</td>\n",
       "      <td>1079.000000</td>\n",
       "      <td>23.000000</td>\n",
       "      <td>19.000000</td>\n",
       "      <td>3.894423</td>\n",
       "      <td>1.000000</td>\n",
       "      <td>0.000000</td>\n",
       "      <td>0.000000</td>\n",
       "      <td>0.000000</td>\n",
       "      <td>0.000000</td>\n",
       "      <td>0.000000</td>\n",
       "      <td>0.000000</td>\n",
       "      <td>0.000000</td>\n",
       "      <td>0.000000</td>\n",
       "      <td>0.000000</td>\n",
       "      <td>0.000000</td>\n",
       "      <td>0.000000</td>\n",
       "      <td>0.000000</td>\n",
       "      <td>0.000000</td>\n",
       "      <td>0.000000</td>\n",
       "      <td>1.000000</td>\n",
       "      <td>1.000000</td>\n",
       "    </tr>\n",
       "    <tr>\n",
       "      <th>max</th>\n",
       "      <td>9.000000</td>\n",
       "      <td>86391.000000</td>\n",
       "      <td>31.000000</td>\n",
       "      <td>23.000000</td>\n",
       "      <td>5.198374</td>\n",
       "      <td>1.000000</td>\n",
       "      <td>1.000000</td>\n",
       "      <td>1.000000</td>\n",
       "      <td>1.000000</td>\n",
       "      <td>1.000000</td>\n",
       "      <td>1.000000</td>\n",
       "      <td>1.000000</td>\n",
       "      <td>1.000000</td>\n",
       "      <td>1.000000</td>\n",
       "      <td>1.000000</td>\n",
       "      <td>1.000000</td>\n",
       "      <td>1.000000</td>\n",
       "      <td>1.000000</td>\n",
       "      <td>1.000000</td>\n",
       "      <td>1.000000</td>\n",
       "      <td>1.000000</td>\n",
       "      <td>1.000000</td>\n",
       "    </tr>\n",
       "  </tbody>\n",
       "</table>\n",
       "</div>"
      ],
      "text/plain": [
       "       passenger_count  trip_duration   day_of_month           hour  \\\n",
       "count    724959.000000  724959.000000  724959.000000  724959.000000   \n",
       "mean          1.663391     955.115289      15.502470      13.617596   \n",
       "std           1.313424    3136.097209       8.700129       6.400017   \n",
       "min           0.000000      61.000000       1.000000       0.000000   \n",
       "25%           1.000000     401.000000       8.000000       9.000000   \n",
       "50%           1.000000     667.000000      15.000000      14.000000   \n",
       "75%           2.000000    1079.000000      23.000000      19.000000   \n",
       "max           9.000000   86391.000000      31.000000      23.000000   \n",
       "\n",
       "            distance  store_and_fwd_flag_N  store_and_fwd_flag_Y  \\\n",
       "count  724959.000000         724959.000000         724959.000000   \n",
       "mean        2.579288              0.994531              0.005469   \n",
       "std         1.599014              0.073752              0.073752   \n",
       "min         0.000000              0.000000              0.000000   \n",
       "25%         1.245758              1.000000              0.000000   \n",
       "50%         2.109072              1.000000              0.000000   \n",
       "75%         3.894423              1.000000              0.000000   \n",
       "max         5.198374              1.000000              1.000000   \n",
       "\n",
       "       day_name_Friday  day_name_Monday  day_name_Saturday  day_name_Sunday  \\\n",
       "count    724959.000000    724959.000000      724959.000000    724959.000000   \n",
       "mean          0.153238         0.128843           0.151204         0.133785   \n",
       "std           0.360217         0.335026           0.358248         0.340422   \n",
       "min           0.000000         0.000000           0.000000         0.000000   \n",
       "25%           0.000000         0.000000           0.000000         0.000000   \n",
       "50%           0.000000         0.000000           0.000000         0.000000   \n",
       "75%           0.000000         0.000000           0.000000         0.000000   \n",
       "max           1.000000         1.000000           1.000000         1.000000   \n",
       "\n",
       "       day_name_Thursday  day_name_Tuesday  day_name_Wednesday  \\\n",
       "count      724959.000000     724959.000000       724959.000000   \n",
       "mean            0.149916          0.138875            0.144138   \n",
       "std             0.356989          0.345817            0.351230   \n",
       "min             0.000000          0.000000            0.000000   \n",
       "25%             0.000000          0.000000            0.000000   \n",
       "50%             0.000000          0.000000            0.000000   \n",
       "75%             0.000000          0.000000            0.000000   \n",
       "max             1.000000          1.000000            1.000000   \n",
       "\n",
       "       hour_slot_Late Night  hour_slot_Early Morning  hour_slot_Morning  \\\n",
       "count         724959.000000            724959.000000      724959.000000   \n",
       "mean               0.106868                 0.117249           0.187229   \n",
       "std                0.308946                 0.321717           0.390095   \n",
       "min                0.000000                 0.000000           0.000000   \n",
       "25%                0.000000                 0.000000           0.000000   \n",
       "50%                0.000000                 0.000000           0.000000   \n",
       "75%                0.000000                 0.000000           0.000000   \n",
       "max                1.000000                 1.000000           1.000000   \n",
       "\n",
       "       hour_slot_Noon  hour_slot_Eve  hour_slot_Night    vendor_id_1  \\\n",
       "count   724959.000000  724959.000000    724959.000000  724959.000000   \n",
       "mean         0.192692       0.234886         0.161075       0.463913   \n",
       "std          0.394414       0.423928         0.367601       0.498696   \n",
       "min          0.000000       0.000000         0.000000       0.000000   \n",
       "25%          0.000000       0.000000         0.000000       0.000000   \n",
       "50%          0.000000       0.000000         0.000000       0.000000   \n",
       "75%          0.000000       0.000000         0.000000       1.000000   \n",
       "max          1.000000       1.000000         1.000000       1.000000   \n",
       "\n",
       "         vendor_id_2  \n",
       "count  724959.000000  \n",
       "mean        0.536087  \n",
       "std         0.498696  \n",
       "min         0.000000  \n",
       "25%         0.000000  \n",
       "50%         1.000000  \n",
       "75%         1.000000  \n",
       "max         1.000000  "
      ]
     },
     "execution_count": 42,
     "metadata": {},
     "output_type": "execute_result"
    }
   ],
   "source": [
    "df.describe()"
   ]
  },
  {
   "cell_type": "code",
   "execution_count": 43,
   "metadata": {},
   "outputs": [
    {
     "data": {
      "text/plain": [
       "Text(0, 0.5, 'trip_duration')"
      ]
     },
     "execution_count": 43,
     "metadata": {},
     "output_type": "execute_result"
    },
    {
     "data": {
      "image/png": "[encoded data removed]",
      "text/plain": [
       "<Figure size 576x432 with 1 Axes>"
      ]
     },
     "metadata": {
      "needs_background": "light"
     },
     "output_type": "display_data"
    }
   ],
   "source": [
    "# Lets plot the target again \n",
    "plt.figure(figsize=(8,6))\n",
    "plt.scatter(range(df.shape[0]), np.sort(df['trip_duration'].values))\n",
    "plt.xlabel('index', fontsize=12)\n",
    "plt.ylabel('trip_duration', fontsize=12)"
   ]
  },
  {
   "cell_type": "markdown",
   "metadata": {},
   "source": [
    "### There are many extreme values - both low and high which does not seems correct data \n",
    "### Will  leave it at this now, but this is a concern for linear models"
   ]
  },
  {
   "cell_type": "code",
   "execution_count": 44,
   "metadata": {},
   "outputs": [
    {
     "data": {
      "text/html": [
       "<div>\n",
       "<style scoped>\n",
       "    .dataframe tbody tr th:only-of-type {\n",
       "        vertical-align: middle;\n",
       "    }\n",
       "\n",
       "    .dataframe tbody tr th {\n",
       "        vertical-align: top;\n",
       "    }\n",
       "\n",
       "    .dataframe thead th {\n",
       "        text-align: right;\n",
       "    }\n",
       "</style>\n",
       "<table border=\"1\" class=\"dataframe\">\n",
       "  <thead>\n",
       "    <tr style=\"text-align: right;\">\n",
       "      <th></th>\n",
       "      <th>id</th>\n",
       "      <th>passenger_count</th>\n",
       "      <th>trip_duration</th>\n",
       "      <th>day_of_month</th>\n",
       "      <th>hour</th>\n",
       "      <th>distance</th>\n",
       "      <th>store_and_fwd_flag_N</th>\n",
       "      <th>store_and_fwd_flag_Y</th>\n",
       "      <th>day_name_Friday</th>\n",
       "      <th>day_name_Monday</th>\n",
       "      <th>day_name_Saturday</th>\n",
       "      <th>day_name_Sunday</th>\n",
       "      <th>day_name_Thursday</th>\n",
       "      <th>day_name_Tuesday</th>\n",
       "      <th>day_name_Wednesday</th>\n",
       "      <th>hour_slot_Late Night</th>\n",
       "      <th>hour_slot_Early Morning</th>\n",
       "      <th>hour_slot_Morning</th>\n",
       "      <th>hour_slot_Noon</th>\n",
       "      <th>hour_slot_Eve</th>\n",
       "      <th>hour_slot_Night</th>\n",
       "      <th>vendor_id_1</th>\n",
       "      <th>vendor_id_2</th>\n",
       "    </tr>\n",
       "  </thead>\n",
       "  <tbody>\n",
       "    <tr>\n",
       "      <th>0</th>\n",
       "      <td>id1080784</td>\n",
       "      <td>1</td>\n",
       "      <td>400</td>\n",
       "      <td>29</td>\n",
       "      <td>16</td>\n",
       "      <td>1.199073</td>\n",
       "      <td>1</td>\n",
       "      <td>0</td>\n",
       "      <td>0</td>\n",
       "      <td>1</td>\n",
       "      <td>0</td>\n",
       "      <td>0</td>\n",
       "      <td>0</td>\n",
       "      <td>0</td>\n",
       "      <td>0</td>\n",
       "      <td>0</td>\n",
       "      <td>0</td>\n",
       "      <td>0</td>\n",
       "      <td>1</td>\n",
       "      <td>0</td>\n",
       "      <td>0</td>\n",
       "      <td>0</td>\n",
       "      <td>1</td>\n",
       "    </tr>\n",
       "    <tr>\n",
       "      <th>1</th>\n",
       "      <td>id0889885</td>\n",
       "      <td>2</td>\n",
       "      <td>1100</td>\n",
       "      <td>11</td>\n",
       "      <td>23</td>\n",
       "      <td>4.129111</td>\n",
       "      <td>1</td>\n",
       "      <td>0</td>\n",
       "      <td>1</td>\n",
       "      <td>0</td>\n",
       "      <td>0</td>\n",
       "      <td>0</td>\n",
       "      <td>0</td>\n",
       "      <td>0</td>\n",
       "      <td>0</td>\n",
       "      <td>0</td>\n",
       "      <td>0</td>\n",
       "      <td>0</td>\n",
       "      <td>0</td>\n",
       "      <td>0</td>\n",
       "      <td>1</td>\n",
       "      <td>1</td>\n",
       "      <td>0</td>\n",
       "    </tr>\n",
       "    <tr>\n",
       "      <th>2</th>\n",
       "      <td>id0857912</td>\n",
       "      <td>2</td>\n",
       "      <td>1635</td>\n",
       "      <td>21</td>\n",
       "      <td>17</td>\n",
       "      <td>5.198374</td>\n",
       "      <td>1</td>\n",
       "      <td>0</td>\n",
       "      <td>0</td>\n",
       "      <td>0</td>\n",
       "      <td>0</td>\n",
       "      <td>1</td>\n",
       "      <td>0</td>\n",
       "      <td>0</td>\n",
       "      <td>0</td>\n",
       "      <td>0</td>\n",
       "      <td>0</td>\n",
       "      <td>0</td>\n",
       "      <td>0</td>\n",
       "      <td>1</td>\n",
       "      <td>0</td>\n",
       "      <td>0</td>\n",
       "      <td>1</td>\n",
       "    </tr>\n",
       "    <tr>\n",
       "      <th>3</th>\n",
       "      <td>id3744273</td>\n",
       "      <td>6</td>\n",
       "      <td>1141</td>\n",
       "      <td>5</td>\n",
       "      <td>9</td>\n",
       "      <td>2.361097</td>\n",
       "      <td>1</td>\n",
       "      <td>0</td>\n",
       "      <td>0</td>\n",
       "      <td>0</td>\n",
       "      <td>0</td>\n",
       "      <td>0</td>\n",
       "      <td>0</td>\n",
       "      <td>1</td>\n",
       "      <td>0</td>\n",
       "      <td>0</td>\n",
       "      <td>0</td>\n",
       "      <td>1</td>\n",
       "      <td>0</td>\n",
       "      <td>0</td>\n",
       "      <td>0</td>\n",
       "      <td>0</td>\n",
       "      <td>1</td>\n",
       "    </tr>\n",
       "    <tr>\n",
       "      <th>4</th>\n",
       "      <td>id0232939</td>\n",
       "      <td>1</td>\n",
       "      <td>848</td>\n",
       "      <td>17</td>\n",
       "      <td>6</td>\n",
       "      <td>4.328534</td>\n",
       "      <td>1</td>\n",
       "      <td>0</td>\n",
       "      <td>0</td>\n",
       "      <td>0</td>\n",
       "      <td>0</td>\n",
       "      <td>0</td>\n",
       "      <td>0</td>\n",
       "      <td>0</td>\n",
       "      <td>1</td>\n",
       "      <td>0</td>\n",
       "      <td>1</td>\n",
       "      <td>0</td>\n",
       "      <td>0</td>\n",
       "      <td>0</td>\n",
       "      <td>0</td>\n",
       "      <td>1</td>\n",
       "      <td>0</td>\n",
       "    </tr>\n",
       "  </tbody>\n",
       "</table>\n",
       "</div>"
      ],
      "text/plain": [
       "          id  passenger_count  trip_duration  day_of_month  hour  distance  \\\n",
       "0  id1080784                1            400            29    16  1.199073   \n",
       "1  id0889885                2           1100            11    23  4.129111   \n",
       "2  id0857912                2           1635            21    17  5.198374   \n",
       "3  id3744273                6           1141             5     9  2.361097   \n",
       "4  id0232939                1            848            17     6  4.328534   \n",
       "\n",
       "   store_and_fwd_flag_N  store_and_fwd_flag_Y  day_name_Friday  \\\n",
       "0                     1                     0                0   \n",
       "1                     1                     0                1   \n",
       "2                     1                     0                0   \n",
       "3                     1                     0                0   \n",
       "4                     1                     0                0   \n",
       "\n",
       "   day_name_Monday  day_name_Saturday  day_name_Sunday  day_name_Thursday  \\\n",
       "0                1                  0                0                  0   \n",
       "1                0                  0                0                  0   \n",
       "2                0                  0                1                  0   \n",
       "3                0                  0                0                  0   \n",
       "4                0                  0                0                  0   \n",
       "\n",
       "   day_name_Tuesday  day_name_Wednesday  hour_slot_Late Night  \\\n",
       "0                 0                   0                     0   \n",
       "1                 0                   0                     0   \n",
       "2                 0                   0                     0   \n",
       "3                 1                   0                     0   \n",
       "4                 0                   1                     0   \n",
       "\n",
       "   hour_slot_Early Morning  hour_slot_Morning  hour_slot_Noon  hour_slot_Eve  \\\n",
       "0                        0                  0               1              0   \n",
       "1                        0                  0               0              0   \n",
       "2                        0                  0               0              1   \n",
       "3                        0                  1               0              0   \n",
       "4                        1                  0               0              0   \n",
       "\n",
       "   hour_slot_Night  vendor_id_1  vendor_id_2  \n",
       "0                0            0            1  \n",
       "1                1            1            0  \n",
       "2                0            0            1  \n",
       "3                0            0            1  \n",
       "4                0            1            0  "
      ]
     },
     "execution_count": 44,
     "metadata": {},
     "output_type": "execute_result"
    }
   ],
   "source": [
    "df.head()"
   ]
  },
  {
   "cell_type": "code",
   "execution_count": 45,
   "metadata": {},
   "outputs": [],
   "source": [
    "# write as csv for modelling\n",
    "# df.to_csv('data/nyc_taxi_trip_duration_processed.csv', index=False)"
   ]
  },
  {
   "cell_type": "code",
   "execution_count": 46,
   "metadata": {},
   "outputs": [
    {
     "data": {
      "text/plain": [
       "1827"
      ]
     },
     "execution_count": 46,
     "metadata": {},
     "output_type": "execute_result"
    }
   ],
   "source": [
    "# Number of trips > 7000\n",
    "df[df['trip_duration'] >= 5000 ].shape[0]"
   ]
  },
  {
   "cell_type": "code",
   "execution_count": 47,
   "metadata": {},
   "outputs": [
    {
     "data": {
      "text/plain": [
       "(723132, 23)"
      ]
     },
     "execution_count": 47,
     "metadata": {},
     "output_type": "execute_result"
    }
   ],
   "source": [
    "dt = df[df['trip_duration'] <= 5000]\n",
    "dt.shape"
   ]
  },
  {
   "cell_type": "code",
   "execution_count": 48,
   "metadata": {},
   "outputs": [
    {
     "data": {
      "text/plain": [
       "Text(0, 0.5, 'trip_duration')"
      ]
     },
     "execution_count": 48,
     "metadata": {},
     "output_type": "execute_result"
    },
    {
     "data": {
      "image/png": "[encoded data removed]",
      "text/plain": [
       "<Figure size 576x432 with 1 Axes>"
      ]
     },
     "metadata": {
      "needs_background": "light"
     },
     "output_type": "display_data"
    }
   ],
   "source": [
    "# Lets plot the target again \n",
    "plt.figure(figsize=(8,6))\n",
    "plt.scatter(range(dt.shape[0]), np.sort(dt['trip_duration'].values))\n",
    "plt.xlabel('index', fontsize=12)\n",
    "plt.ylabel('trip_duration', fontsize=12)"
   ]
  }
 ],
 "metadata": {
  "colab": {
   "collapsed_sections": [
    "1FzYccB24irQ",
    "qfZv5qTw4rm_",
    "6PZEQUlXii1G",
    "37Pk32OwisyT",
    "TiC2VomvlWS5",
    "56ygh55Zok6v",
    "jFQ4BEyKrLkR",
    "kTqwU7fQ0jkI",
    "tleDyj9P_j_i",
    "0pLmF5hCfCnV"
   ],
   "name": "Bivariate Numerical - cont cont",
   "provenance": []
  },
  "kernelspec": {
   "display_name": "Python 3",
   "language": "python",
   "name": "python3"
  },
  "language_info": {
   "codemirror_mode": {
    "name": "ipython",
    "version": 3
   },
   "file_extension": ".py",
   "mimetype": "text/x-python",
   "name": "python",
   "nbconvert_exporter": "python",
   "pygments_lexer": "ipython3",
   "version": "3.8.2"
  }
 },
 "nbformat": 4,
 "nbformat_minor": 4
}
