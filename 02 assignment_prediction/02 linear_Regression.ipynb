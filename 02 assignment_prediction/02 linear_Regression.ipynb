{
 "cells": [
  {
   "cell_type": "code",
   "execution_count": 1,
   "metadata": {},
   "outputs": [],
   "source": [
    "# importing libraries\n",
    "import pandas as pd\n",
    "import numpy as np\n",
    "import matplotlib.pyplot as plt\n",
    "import seaborn as sns\n",
    "\n",
    "# importing sklearn libraries\n",
    "from sklearn import metrics, preprocessing,model_selection\n",
    "from sklearn import linear_model"
   ]
  },
  {
   "cell_type": "code",
   "execution_count": 2,
   "metadata": {},
   "outputs": [],
   "source": [
    "# reading data\n",
    "df = pd.read_csv('data/nyc_taxi_trip_duration_processed.csv')"
   ]
  },
  {
   "cell_type": "code",
   "execution_count": 3,
   "metadata": {},
   "outputs": [
    {
     "data": {
      "text/plain": [
       "(729322, 23)"
      ]
     },
     "execution_count": 3,
     "metadata": {},
     "output_type": "execute_result"
    }
   ],
   "source": [
    "# Have removed few rows in preprocess step\n",
    "df.shape"
   ]
  },
  {
   "cell_type": "code",
   "execution_count": 4,
   "metadata": {},
   "outputs": [],
   "source": [
    "pd.set_option('display.max_columns', 30)"
   ]
  },
  {
   "cell_type": "code",
   "execution_count": 5,
   "metadata": {},
   "outputs": [
    {
     "data": {
      "text/html": [
       "<div>\n",
       "<style scoped>\n",
       "    .dataframe tbody tr th:only-of-type {\n",
       "        vertical-align: middle;\n",
       "    }\n",
       "\n",
       "    .dataframe tbody tr th {\n",
       "        vertical-align: top;\n",
       "    }\n",
       "\n",
       "    .dataframe thead th {\n",
       "        text-align: right;\n",
       "    }\n",
       "</style>\n",
       "<table border=\"1\" class=\"dataframe\">\n",
       "  <thead>\n",
       "    <tr style=\"text-align: right;\">\n",
       "      <th></th>\n",
       "      <th>id</th>\n",
       "      <th>passenger_count</th>\n",
       "      <th>trip_duration</th>\n",
       "      <th>day_of_month</th>\n",
       "      <th>hour</th>\n",
       "      <th>distance</th>\n",
       "      <th>store_and_fwd_flag_N</th>\n",
       "      <th>store_and_fwd_flag_Y</th>\n",
       "      <th>day_name_Friday</th>\n",
       "      <th>day_name_Monday</th>\n",
       "      <th>day_name_Saturday</th>\n",
       "      <th>day_name_Sunday</th>\n",
       "      <th>day_name_Thursday</th>\n",
       "      <th>day_name_Tuesday</th>\n",
       "      <th>day_name_Wednesday</th>\n",
       "      <th>hour_slot_Late Night</th>\n",
       "      <th>hour_slot_Early Morning</th>\n",
       "      <th>hour_slot_Morning</th>\n",
       "      <th>hour_slot_Noon</th>\n",
       "      <th>hour_slot_Eve</th>\n",
       "      <th>hour_slot_Night</th>\n",
       "      <th>vendor_id_1</th>\n",
       "      <th>vendor_id_2</th>\n",
       "    </tr>\n",
       "  </thead>\n",
       "  <tbody>\n",
       "    <tr>\n",
       "      <th>0</th>\n",
       "      <td>id1080784</td>\n",
       "      <td>1</td>\n",
       "      <td>400</td>\n",
       "      <td>29</td>\n",
       "      <td>16</td>\n",
       "      <td>1.199073</td>\n",
       "      <td>1</td>\n",
       "      <td>0</td>\n",
       "      <td>0</td>\n",
       "      <td>1</td>\n",
       "      <td>0</td>\n",
       "      <td>0</td>\n",
       "      <td>0</td>\n",
       "      <td>0</td>\n",
       "      <td>0</td>\n",
       "      <td>0</td>\n",
       "      <td>0</td>\n",
       "      <td>0</td>\n",
       "      <td>1</td>\n",
       "      <td>0</td>\n",
       "      <td>0</td>\n",
       "      <td>0</td>\n",
       "      <td>1</td>\n",
       "    </tr>\n",
       "    <tr>\n",
       "      <th>1</th>\n",
       "      <td>id0889885</td>\n",
       "      <td>2</td>\n",
       "      <td>1100</td>\n",
       "      <td>11</td>\n",
       "      <td>23</td>\n",
       "      <td>4.129111</td>\n",
       "      <td>1</td>\n",
       "      <td>0</td>\n",
       "      <td>1</td>\n",
       "      <td>0</td>\n",
       "      <td>0</td>\n",
       "      <td>0</td>\n",
       "      <td>0</td>\n",
       "      <td>0</td>\n",
       "      <td>0</td>\n",
       "      <td>0</td>\n",
       "      <td>0</td>\n",
       "      <td>0</td>\n",
       "      <td>0</td>\n",
       "      <td>0</td>\n",
       "      <td>1</td>\n",
       "      <td>1</td>\n",
       "      <td>0</td>\n",
       "    </tr>\n",
       "    <tr>\n",
       "      <th>2</th>\n",
       "      <td>id0857912</td>\n",
       "      <td>2</td>\n",
       "      <td>1635</td>\n",
       "      <td>21</td>\n",
       "      <td>17</td>\n",
       "      <td>5.198374</td>\n",
       "      <td>1</td>\n",
       "      <td>0</td>\n",
       "      <td>0</td>\n",
       "      <td>0</td>\n",
       "      <td>0</td>\n",
       "      <td>1</td>\n",
       "      <td>0</td>\n",
       "      <td>0</td>\n",
       "      <td>0</td>\n",
       "      <td>0</td>\n",
       "      <td>0</td>\n",
       "      <td>0</td>\n",
       "      <td>0</td>\n",
       "      <td>1</td>\n",
       "      <td>0</td>\n",
       "      <td>0</td>\n",
       "      <td>1</td>\n",
       "    </tr>\n",
       "    <tr>\n",
       "      <th>3</th>\n",
       "      <td>id3744273</td>\n",
       "      <td>6</td>\n",
       "      <td>1141</td>\n",
       "      <td>5</td>\n",
       "      <td>9</td>\n",
       "      <td>2.361097</td>\n",
       "      <td>1</td>\n",
       "      <td>0</td>\n",
       "      <td>0</td>\n",
       "      <td>0</td>\n",
       "      <td>0</td>\n",
       "      <td>0</td>\n",
       "      <td>0</td>\n",
       "      <td>1</td>\n",
       "      <td>0</td>\n",
       "      <td>0</td>\n",
       "      <td>0</td>\n",
       "      <td>1</td>\n",
       "      <td>0</td>\n",
       "      <td>0</td>\n",
       "      <td>0</td>\n",
       "      <td>0</td>\n",
       "      <td>1</td>\n",
       "    </tr>\n",
       "    <tr>\n",
       "      <th>4</th>\n",
       "      <td>id0232939</td>\n",
       "      <td>1</td>\n",
       "      <td>848</td>\n",
       "      <td>17</td>\n",
       "      <td>6</td>\n",
       "      <td>4.328534</td>\n",
       "      <td>1</td>\n",
       "      <td>0</td>\n",
       "      <td>0</td>\n",
       "      <td>0</td>\n",
       "      <td>0</td>\n",
       "      <td>0</td>\n",
       "      <td>0</td>\n",
       "      <td>0</td>\n",
       "      <td>1</td>\n",
       "      <td>0</td>\n",
       "      <td>1</td>\n",
       "      <td>0</td>\n",
       "      <td>0</td>\n",
       "      <td>0</td>\n",
       "      <td>0</td>\n",
       "      <td>1</td>\n",
       "      <td>0</td>\n",
       "    </tr>\n",
       "  </tbody>\n",
       "</table>\n",
       "</div>"
      ],
      "text/plain": [
       "          id  passenger_count  trip_duration  day_of_month  hour  distance  \\\n",
       "0  id1080784                1            400            29    16  1.199073   \n",
       "1  id0889885                2           1100            11    23  4.129111   \n",
       "2  id0857912                2           1635            21    17  5.198374   \n",
       "3  id3744273                6           1141             5     9  2.361097   \n",
       "4  id0232939                1            848            17     6  4.328534   \n",
       "\n",
       "   store_and_fwd_flag_N  store_and_fwd_flag_Y  day_name_Friday  \\\n",
       "0                     1                     0                0   \n",
       "1                     1                     0                1   \n",
       "2                     1                     0                0   \n",
       "3                     1                     0                0   \n",
       "4                     1                     0                0   \n",
       "\n",
       "   day_name_Monday  day_name_Saturday  day_name_Sunday  day_name_Thursday  \\\n",
       "0                1                  0                0                  0   \n",
       "1                0                  0                0                  0   \n",
       "2                0                  0                1                  0   \n",
       "3                0                  0                0                  0   \n",
       "4                0                  0                0                  0   \n",
       "\n",
       "   day_name_Tuesday  day_name_Wednesday  hour_slot_Late Night  \\\n",
       "0                 0                   0                     0   \n",
       "1                 0                   0                     0   \n",
       "2                 0                   0                     0   \n",
       "3                 1                   0                     0   \n",
       "4                 0                   1                     0   \n",
       "\n",
       "   hour_slot_Early Morning  hour_slot_Morning  hour_slot_Noon  hour_slot_Eve  \\\n",
       "0                        0                  0               1              0   \n",
       "1                        0                  0               0              0   \n",
       "2                        0                  0               0              1   \n",
       "3                        0                  1               0              0   \n",
       "4                        1                  0               0              0   \n",
       "\n",
       "   hour_slot_Night  vendor_id_1  vendor_id_2  \n",
       "0                0            0            1  \n",
       "1                1            1            0  \n",
       "2                0            0            1  \n",
       "3                0            0            1  \n",
       "4                0            1            0  "
      ]
     },
     "execution_count": 5,
     "metadata": {},
     "output_type": "execute_result"
    }
   ],
   "source": [
    "df.head()"
   ]
  },
  {
   "cell_type": "markdown",
   "metadata": {},
   "source": [
    "**The target, trip_duration has many extreme values - both high and low**"
   ]
  },
  {
   "cell_type": "code",
   "execution_count": 6,
   "metadata": {},
   "outputs": [
    {
     "data": {
      "text/plain": [
       "count     729322.00\n",
       "mean         952.23\n",
       "std         3864.63\n",
       "min            1.00\n",
       "25%          397.00\n",
       "50%          663.00\n",
       "75%         1075.00\n",
       "max      1939736.00\n",
       "Name: trip_duration, dtype: float64"
      ]
     },
     "execution_count": 6,
     "metadata": {},
     "output_type": "execute_result"
    }
   ],
   "source": [
    "df['trip_duration'].describe().round(2)"
   ]
  },
  {
   "cell_type": "code",
   "execution_count": 7,
   "metadata": {},
   "outputs": [],
   "source": [
    "# Function to run the linear regression\n",
    "# It takes the train and test X and y and the error to be calculated\n",
    "# Returns the predicted values of test, erros in train and test and the coefficients\n",
    "\n",
    "def funcLR(train_X,train_y,test_X,test_y,err):\n",
    "    lr = linear_model.LinearRegression()\n",
    "    # Fit the model\n",
    "    lr.fit(train_X,train_y)\n",
    "    # predict on Train\n",
    "    train_yhat = lr.predict(train_X)\n",
    "    # Predict on test data\n",
    "    test_yhat = lr.predict(test_X)\n",
    "    # calculate error\n",
    "    if err == 'mae' :\n",
    "        # Mean absolute error\n",
    "        train_err = metrics.mean_absolute_error(train_y,train_yhat)\n",
    "        test_err = metrics.mean_absolute_error(test_y,test_yhat)\n",
    "    elif err == 'rmse':\n",
    "        # calculate rmse, the squared flag true return mse, false return rmse\n",
    "        train_err = metrics.mean_squared_error(train_y,train_yhat,squared=False)\n",
    "        test_err = metrics.mean_squared_error(test_y,yhat,squared=False)\n",
    "    else:\n",
    "        # calculate mse , by default squared Flag is True\n",
    "        train_err = metrics.mean_squared_error(train_y,train_yhat)\n",
    "        test_err = metrics.mean_squared_error(test_y,test_yhat)\n",
    "    \n",
    "    return(test_yhat,test_err,train_yhat,train_err,lr.coef_)\n"
   ]
  },
  {
   "cell_type": "code",
   "execution_count": 8,
   "metadata": {},
   "outputs": [
    {
     "data": {
      "text/html": [
       "<div>\n",
       "<style scoped>\n",
       "    .dataframe tbody tr th:only-of-type {\n",
       "        vertical-align: middle;\n",
       "    }\n",
       "\n",
       "    .dataframe tbody tr th {\n",
       "        vertical-align: top;\n",
       "    }\n",
       "\n",
       "    .dataframe thead th {\n",
       "        text-align: right;\n",
       "    }\n",
       "</style>\n",
       "<table border=\"1\" class=\"dataframe\">\n",
       "  <thead>\n",
       "    <tr style=\"text-align: right;\">\n",
       "      <th></th>\n",
       "      <th>id</th>\n",
       "      <th>passenger_count</th>\n",
       "      <th>trip_duration</th>\n",
       "      <th>day_of_month</th>\n",
       "      <th>hour</th>\n",
       "      <th>distance</th>\n",
       "      <th>store_and_fwd_flag_N</th>\n",
       "      <th>store_and_fwd_flag_Y</th>\n",
       "      <th>day_name_Friday</th>\n",
       "      <th>day_name_Monday</th>\n",
       "      <th>day_name_Saturday</th>\n",
       "      <th>day_name_Sunday</th>\n",
       "      <th>day_name_Thursday</th>\n",
       "      <th>day_name_Tuesday</th>\n",
       "      <th>day_name_Wednesday</th>\n",
       "      <th>hour_slot_Late Night</th>\n",
       "      <th>hour_slot_Early Morning</th>\n",
       "      <th>hour_slot_Morning</th>\n",
       "      <th>hour_slot_Noon</th>\n",
       "      <th>hour_slot_Eve</th>\n",
       "      <th>hour_slot_Night</th>\n",
       "      <th>vendor_id_1</th>\n",
       "      <th>vendor_id_2</th>\n",
       "    </tr>\n",
       "  </thead>\n",
       "  <tbody>\n",
       "    <tr>\n",
       "      <th>0</th>\n",
       "      <td>id1080784</td>\n",
       "      <td>1</td>\n",
       "      <td>400</td>\n",
       "      <td>29</td>\n",
       "      <td>16</td>\n",
       "      <td>1.199073</td>\n",
       "      <td>1</td>\n",
       "      <td>0</td>\n",
       "      <td>0</td>\n",
       "      <td>1</td>\n",
       "      <td>0</td>\n",
       "      <td>0</td>\n",
       "      <td>0</td>\n",
       "      <td>0</td>\n",
       "      <td>0</td>\n",
       "      <td>0</td>\n",
       "      <td>0</td>\n",
       "      <td>0</td>\n",
       "      <td>1</td>\n",
       "      <td>0</td>\n",
       "      <td>0</td>\n",
       "      <td>0</td>\n",
       "      <td>1</td>\n",
       "    </tr>\n",
       "    <tr>\n",
       "      <th>1</th>\n",
       "      <td>id0889885</td>\n",
       "      <td>2</td>\n",
       "      <td>1100</td>\n",
       "      <td>11</td>\n",
       "      <td>23</td>\n",
       "      <td>4.129111</td>\n",
       "      <td>1</td>\n",
       "      <td>0</td>\n",
       "      <td>1</td>\n",
       "      <td>0</td>\n",
       "      <td>0</td>\n",
       "      <td>0</td>\n",
       "      <td>0</td>\n",
       "      <td>0</td>\n",
       "      <td>0</td>\n",
       "      <td>0</td>\n",
       "      <td>0</td>\n",
       "      <td>0</td>\n",
       "      <td>0</td>\n",
       "      <td>0</td>\n",
       "      <td>1</td>\n",
       "      <td>1</td>\n",
       "      <td>0</td>\n",
       "    </tr>\n",
       "    <tr>\n",
       "      <th>2</th>\n",
       "      <td>id0857912</td>\n",
       "      <td>2</td>\n",
       "      <td>1635</td>\n",
       "      <td>21</td>\n",
       "      <td>17</td>\n",
       "      <td>5.198374</td>\n",
       "      <td>1</td>\n",
       "      <td>0</td>\n",
       "      <td>0</td>\n",
       "      <td>0</td>\n",
       "      <td>0</td>\n",
       "      <td>1</td>\n",
       "      <td>0</td>\n",
       "      <td>0</td>\n",
       "      <td>0</td>\n",
       "      <td>0</td>\n",
       "      <td>0</td>\n",
       "      <td>0</td>\n",
       "      <td>0</td>\n",
       "      <td>1</td>\n",
       "      <td>0</td>\n",
       "      <td>0</td>\n",
       "      <td>1</td>\n",
       "    </tr>\n",
       "    <tr>\n",
       "      <th>3</th>\n",
       "      <td>id3744273</td>\n",
       "      <td>6</td>\n",
       "      <td>1141</td>\n",
       "      <td>5</td>\n",
       "      <td>9</td>\n",
       "      <td>2.361097</td>\n",
       "      <td>1</td>\n",
       "      <td>0</td>\n",
       "      <td>0</td>\n",
       "      <td>0</td>\n",
       "      <td>0</td>\n",
       "      <td>0</td>\n",
       "      <td>0</td>\n",
       "      <td>1</td>\n",
       "      <td>0</td>\n",
       "      <td>0</td>\n",
       "      <td>0</td>\n",
       "      <td>1</td>\n",
       "      <td>0</td>\n",
       "      <td>0</td>\n",
       "      <td>0</td>\n",
       "      <td>0</td>\n",
       "      <td>1</td>\n",
       "    </tr>\n",
       "    <tr>\n",
       "      <th>4</th>\n",
       "      <td>id0232939</td>\n",
       "      <td>1</td>\n",
       "      <td>848</td>\n",
       "      <td>17</td>\n",
       "      <td>6</td>\n",
       "      <td>4.328534</td>\n",
       "      <td>1</td>\n",
       "      <td>0</td>\n",
       "      <td>0</td>\n",
       "      <td>0</td>\n",
       "      <td>0</td>\n",
       "      <td>0</td>\n",
       "      <td>0</td>\n",
       "      <td>0</td>\n",
       "      <td>1</td>\n",
       "      <td>0</td>\n",
       "      <td>1</td>\n",
       "      <td>0</td>\n",
       "      <td>0</td>\n",
       "      <td>0</td>\n",
       "      <td>0</td>\n",
       "      <td>1</td>\n",
       "      <td>0</td>\n",
       "    </tr>\n",
       "  </tbody>\n",
       "</table>\n",
       "</div>"
      ],
      "text/plain": [
       "          id  passenger_count  trip_duration  day_of_month  hour  distance  \\\n",
       "0  id1080784                1            400            29    16  1.199073   \n",
       "1  id0889885                2           1100            11    23  4.129111   \n",
       "2  id0857912                2           1635            21    17  5.198374   \n",
       "3  id3744273                6           1141             5     9  2.361097   \n",
       "4  id0232939                1            848            17     6  4.328534   \n",
       "\n",
       "   store_and_fwd_flag_N  store_and_fwd_flag_Y  day_name_Friday  \\\n",
       "0                     1                     0                0   \n",
       "1                     1                     0                1   \n",
       "2                     1                     0                0   \n",
       "3                     1                     0                0   \n",
       "4                     1                     0                0   \n",
       "\n",
       "   day_name_Monday  day_name_Saturday  day_name_Sunday  day_name_Thursday  \\\n",
       "0                1                  0                0                  0   \n",
       "1                0                  0                0                  0   \n",
       "2                0                  0                1                  0   \n",
       "3                0                  0                0                  0   \n",
       "4                0                  0                0                  0   \n",
       "\n",
       "   day_name_Tuesday  day_name_Wednesday  hour_slot_Late Night  \\\n",
       "0                 0                   0                     0   \n",
       "1                 0                   0                     0   \n",
       "2                 0                   0                     0   \n",
       "3                 1                   0                     0   \n",
       "4                 0                   1                     0   \n",
       "\n",
       "   hour_slot_Early Morning  hour_slot_Morning  hour_slot_Noon  hour_slot_Eve  \\\n",
       "0                        0                  0               1              0   \n",
       "1                        0                  0               0              0   \n",
       "2                        0                  0               0              1   \n",
       "3                        0                  1               0              0   \n",
       "4                        1                  0               0              0   \n",
       "\n",
       "   hour_slot_Night  vendor_id_1  vendor_id_2  \n",
       "0                0            0            1  \n",
       "1                1            1            0  \n",
       "2                0            0            1  \n",
       "3                0            0            1  \n",
       "4                0            1            0  "
      ]
     },
     "execution_count": 8,
     "metadata": {},
     "output_type": "execute_result"
    }
   ],
   "source": [
    "df.head()"
   ]
  },
  {
   "cell_type": "markdown",
   "metadata": {},
   "source": [
    "**Seperate dependent and independent variables**"
   ]
  },
  {
   "cell_type": "code",
   "execution_count": 9,
   "metadata": {},
   "outputs": [
    {
     "data": {
      "text/plain": [
       "((729322, 21), (729322,))"
      ]
     },
     "execution_count": 9,
     "metadata": {},
     "output_type": "execute_result"
    }
   ],
   "source": [
    "X = df.drop(['id','trip_duration'], axis=1)\n",
    "y = df['trip_duration']\n",
    "X.shape, y.shape"
   ]
  },
  {
   "cell_type": "code",
   "execution_count": 10,
   "metadata": {},
   "outputs": [
    {
     "data": {
      "text/html": [
       "<div>\n",
       "<style scoped>\n",
       "    .dataframe tbody tr th:only-of-type {\n",
       "        vertical-align: middle;\n",
       "    }\n",
       "\n",
       "    .dataframe tbody tr th {\n",
       "        vertical-align: top;\n",
       "    }\n",
       "\n",
       "    .dataframe thead th {\n",
       "        text-align: right;\n",
       "    }\n",
       "</style>\n",
       "<table border=\"1\" class=\"dataframe\">\n",
       "  <thead>\n",
       "    <tr style=\"text-align: right;\">\n",
       "      <th></th>\n",
       "      <th>passenger_count</th>\n",
       "      <th>day_of_month</th>\n",
       "      <th>hour</th>\n",
       "      <th>distance</th>\n",
       "      <th>store_and_fwd_flag_N</th>\n",
       "      <th>store_and_fwd_flag_Y</th>\n",
       "      <th>day_name_Friday</th>\n",
       "      <th>day_name_Monday</th>\n",
       "      <th>day_name_Saturday</th>\n",
       "      <th>day_name_Sunday</th>\n",
       "      <th>day_name_Thursday</th>\n",
       "      <th>day_name_Tuesday</th>\n",
       "      <th>day_name_Wednesday</th>\n",
       "      <th>hour_slot_Late Night</th>\n",
       "      <th>hour_slot_Early Morning</th>\n",
       "      <th>hour_slot_Morning</th>\n",
       "      <th>hour_slot_Noon</th>\n",
       "      <th>hour_slot_Eve</th>\n",
       "      <th>hour_slot_Night</th>\n",
       "      <th>vendor_id_1</th>\n",
       "      <th>vendor_id_2</th>\n",
       "    </tr>\n",
       "  </thead>\n",
       "  <tbody>\n",
       "    <tr>\n",
       "      <th>0</th>\n",
       "      <td>0.111111</td>\n",
       "      <td>0.933333</td>\n",
       "      <td>0.695652</td>\n",
       "      <td>0.230663</td>\n",
       "      <td>1.0</td>\n",
       "      <td>0.0</td>\n",
       "      <td>0.0</td>\n",
       "      <td>1.0</td>\n",
       "      <td>0.0</td>\n",
       "      <td>0.0</td>\n",
       "      <td>0.0</td>\n",
       "      <td>0.0</td>\n",
       "      <td>0.0</td>\n",
       "      <td>0.0</td>\n",
       "      <td>0.0</td>\n",
       "      <td>0.0</td>\n",
       "      <td>1.0</td>\n",
       "      <td>0.0</td>\n",
       "      <td>0.0</td>\n",
       "      <td>0.0</td>\n",
       "      <td>1.0</td>\n",
       "    </tr>\n",
       "    <tr>\n",
       "      <th>1</th>\n",
       "      <td>0.222222</td>\n",
       "      <td>0.333333</td>\n",
       "      <td>1.000000</td>\n",
       "      <td>0.794308</td>\n",
       "      <td>1.0</td>\n",
       "      <td>0.0</td>\n",
       "      <td>1.0</td>\n",
       "      <td>0.0</td>\n",
       "      <td>0.0</td>\n",
       "      <td>0.0</td>\n",
       "      <td>0.0</td>\n",
       "      <td>0.0</td>\n",
       "      <td>0.0</td>\n",
       "      <td>0.0</td>\n",
       "      <td>0.0</td>\n",
       "      <td>0.0</td>\n",
       "      <td>0.0</td>\n",
       "      <td>0.0</td>\n",
       "      <td>1.0</td>\n",
       "      <td>1.0</td>\n",
       "      <td>0.0</td>\n",
       "    </tr>\n",
       "    <tr>\n",
       "      <th>2</th>\n",
       "      <td>0.222222</td>\n",
       "      <td>0.666667</td>\n",
       "      <td>0.739130</td>\n",
       "      <td>1.000000</td>\n",
       "      <td>1.0</td>\n",
       "      <td>0.0</td>\n",
       "      <td>0.0</td>\n",
       "      <td>0.0</td>\n",
       "      <td>0.0</td>\n",
       "      <td>1.0</td>\n",
       "      <td>0.0</td>\n",
       "      <td>0.0</td>\n",
       "      <td>0.0</td>\n",
       "      <td>0.0</td>\n",
       "      <td>0.0</td>\n",
       "      <td>0.0</td>\n",
       "      <td>0.0</td>\n",
       "      <td>1.0</td>\n",
       "      <td>0.0</td>\n",
       "      <td>0.0</td>\n",
       "      <td>1.0</td>\n",
       "    </tr>\n",
       "    <tr>\n",
       "      <th>3</th>\n",
       "      <td>0.666667</td>\n",
       "      <td>0.133333</td>\n",
       "      <td>0.391304</td>\n",
       "      <td>0.454199</td>\n",
       "      <td>1.0</td>\n",
       "      <td>0.0</td>\n",
       "      <td>0.0</td>\n",
       "      <td>0.0</td>\n",
       "      <td>0.0</td>\n",
       "      <td>0.0</td>\n",
       "      <td>0.0</td>\n",
       "      <td>1.0</td>\n",
       "      <td>0.0</td>\n",
       "      <td>0.0</td>\n",
       "      <td>0.0</td>\n",
       "      <td>1.0</td>\n",
       "      <td>0.0</td>\n",
       "      <td>0.0</td>\n",
       "      <td>0.0</td>\n",
       "      <td>0.0</td>\n",
       "      <td>1.0</td>\n",
       "    </tr>\n",
       "    <tr>\n",
       "      <th>4</th>\n",
       "      <td>0.111111</td>\n",
       "      <td>0.533333</td>\n",
       "      <td>0.260870</td>\n",
       "      <td>0.832671</td>\n",
       "      <td>1.0</td>\n",
       "      <td>0.0</td>\n",
       "      <td>0.0</td>\n",
       "      <td>0.0</td>\n",
       "      <td>0.0</td>\n",
       "      <td>0.0</td>\n",
       "      <td>0.0</td>\n",
       "      <td>0.0</td>\n",
       "      <td>1.0</td>\n",
       "      <td>0.0</td>\n",
       "      <td>1.0</td>\n",
       "      <td>0.0</td>\n",
       "      <td>0.0</td>\n",
       "      <td>0.0</td>\n",
       "      <td>0.0</td>\n",
       "      <td>1.0</td>\n",
       "      <td>0.0</td>\n",
       "    </tr>\n",
       "  </tbody>\n",
       "</table>\n",
       "</div>"
      ],
      "text/plain": [
       "   passenger_count  day_of_month      hour  distance  store_and_fwd_flag_N  \\\n",
       "0         0.111111      0.933333  0.695652  0.230663                   1.0   \n",
       "1         0.222222      0.333333  1.000000  0.794308                   1.0   \n",
       "2         0.222222      0.666667  0.739130  1.000000                   1.0   \n",
       "3         0.666667      0.133333  0.391304  0.454199                   1.0   \n",
       "4         0.111111      0.533333  0.260870  0.832671                   1.0   \n",
       "\n",
       "   store_and_fwd_flag_Y  day_name_Friday  day_name_Monday  day_name_Saturday  \\\n",
       "0                   0.0              0.0              1.0                0.0   \n",
       "1                   0.0              1.0              0.0                0.0   \n",
       "2                   0.0              0.0              0.0                0.0   \n",
       "3                   0.0              0.0              0.0                0.0   \n",
       "4                   0.0              0.0              0.0                0.0   \n",
       "\n",
       "   day_name_Sunday  day_name_Thursday  day_name_Tuesday  day_name_Wednesday  \\\n",
       "0              0.0                0.0               0.0                 0.0   \n",
       "1              0.0                0.0               0.0                 0.0   \n",
       "2              1.0                0.0               0.0                 0.0   \n",
       "3              0.0                0.0               1.0                 0.0   \n",
       "4              0.0                0.0               0.0                 1.0   \n",
       "\n",
       "   hour_slot_Late Night  hour_slot_Early Morning  hour_slot_Morning  \\\n",
       "0                   0.0                      0.0                0.0   \n",
       "1                   0.0                      0.0                0.0   \n",
       "2                   0.0                      0.0                0.0   \n",
       "3                   0.0                      0.0                1.0   \n",
       "4                   0.0                      1.0                0.0   \n",
       "\n",
       "   hour_slot_Noon  hour_slot_Eve  hour_slot_Night  vendor_id_1  vendor_id_2  \n",
       "0             1.0            0.0              0.0          0.0          1.0  \n",
       "1             0.0            0.0              1.0          1.0          0.0  \n",
       "2             0.0            1.0              0.0          0.0          1.0  \n",
       "3             0.0            0.0              0.0          0.0          1.0  \n",
       "4             0.0            0.0              0.0          1.0          0.0  "
      ]
     },
     "execution_count": 10,
     "metadata": {},
     "output_type": "execute_result"
    }
   ],
   "source": [
    "# Scale the dependent variable using MinMax scaler\n",
    "scaler = preprocessing.MinMaxScaler()\n",
    "X_scaled = scaler.fit_transform(X) # returns an array\n",
    "X = pd.DataFrame(X_scaled, columns = X.columns) # convert back to data frame\n",
    "X.head()"
   ]
  },
  {
   "cell_type": "markdown",
   "metadata": {},
   "source": [
    "**Split data into train and test data frame**"
   ]
  },
  {
   "cell_type": "code",
   "execution_count": 11,
   "metadata": {},
   "outputs": [],
   "source": [
    "# Split into train and test\n",
    "train_X,test_X,train_y,test_y = model_selection.train_test_split(X,y, random_state = 100)"
   ]
  },
  {
   "cell_type": "code",
   "execution_count": 12,
   "metadata": {},
   "outputs": [],
   "source": [
    "# call the regression model function\n",
    "test_yhat,test_err,train_yhat,train_err,coef = funcLR(train_X,train_y,test_X,test_y,'mae')"
   ]
  },
  {
   "cell_type": "code",
   "execution_count": 13,
   "metadata": {},
   "outputs": [
    {
     "name": "stdout",
     "output_type": "stream",
     "text": [
      "Test Mean Absolute Error     : 438.80885861427845\n",
      "Training Mean Absolute Error : 452.7302716132441\n"
     ]
    }
   ],
   "source": [
    "# train err and test err - \n",
    "print('Test Mean Absolute Error     :', test_err )\n",
    "print('Training Mean Absolute Error :', train_err )"
   ]
  },
  {
   "cell_type": "code",
   "execution_count": 14,
   "metadata": {},
   "outputs": [
    {
     "data": {
      "text/html": [
       "<div>\n",
       "<style scoped>\n",
       "    .dataframe tbody tr th:only-of-type {\n",
       "        vertical-align: middle;\n",
       "    }\n",
       "\n",
       "    .dataframe tbody tr th {\n",
       "        vertical-align: top;\n",
       "    }\n",
       "\n",
       "    .dataframe thead th {\n",
       "        text-align: right;\n",
       "    }\n",
       "</style>\n",
       "<table border=\"1\" class=\"dataframe\">\n",
       "  <thead>\n",
       "    <tr style=\"text-align: right;\">\n",
       "      <th></th>\n",
       "      <th>Col</th>\n",
       "      <th>Coef</th>\n",
       "    </tr>\n",
       "  </thead>\n",
       "  <tbody>\n",
       "    <tr>\n",
       "      <th>0</th>\n",
       "      <td>passenger_count</td>\n",
       "      <td>1.055244e+02</td>\n",
       "    </tr>\n",
       "    <tr>\n",
       "      <th>1</th>\n",
       "      <td>day_of_month</td>\n",
       "      <td>8.158262e+00</td>\n",
       "    </tr>\n",
       "    <tr>\n",
       "      <th>2</th>\n",
       "      <td>hour</td>\n",
       "      <td>-4.881787e+01</td>\n",
       "    </tr>\n",
       "    <tr>\n",
       "      <th>3</th>\n",
       "      <td>distance</td>\n",
       "      <td>1.605872e+03</td>\n",
       "    </tr>\n",
       "    <tr>\n",
       "      <th>4</th>\n",
       "      <td>store_and_fwd_flag_N</td>\n",
       "      <td>-1.944902e+15</td>\n",
       "    </tr>\n",
       "    <tr>\n",
       "      <th>5</th>\n",
       "      <td>store_and_fwd_flag_Y</td>\n",
       "      <td>-1.944902e+15</td>\n",
       "    </tr>\n",
       "    <tr>\n",
       "      <th>6</th>\n",
       "      <td>day_name_Friday</td>\n",
       "      <td>-1.690439e+13</td>\n",
       "    </tr>\n",
       "    <tr>\n",
       "      <th>7</th>\n",
       "      <td>day_name_Monday</td>\n",
       "      <td>-1.690439e+13</td>\n",
       "    </tr>\n",
       "    <tr>\n",
       "      <th>8</th>\n",
       "      <td>day_name_Saturday</td>\n",
       "      <td>-1.690439e+13</td>\n",
       "    </tr>\n",
       "    <tr>\n",
       "      <th>9</th>\n",
       "      <td>day_name_Sunday</td>\n",
       "      <td>-1.690439e+13</td>\n",
       "    </tr>\n",
       "  </tbody>\n",
       "</table>\n",
       "</div>"
      ],
      "text/plain": [
       "                    Col          Coef\n",
       "0       passenger_count  1.055244e+02\n",
       "1          day_of_month  8.158262e+00\n",
       "2                  hour -4.881787e+01\n",
       "3              distance  1.605872e+03\n",
       "4  store_and_fwd_flag_N -1.944902e+15\n",
       "5  store_and_fwd_flag_Y -1.944902e+15\n",
       "6       day_name_Friday -1.690439e+13\n",
       "7       day_name_Monday -1.690439e+13\n",
       "8     day_name_Saturday -1.690439e+13\n",
       "9       day_name_Sunday -1.690439e+13"
      ]
     },
     "execution_count": 14,
     "metadata": {},
     "output_type": "execute_result"
    }
   ],
   "source": [
    "# Create a df of the co-efficients and plot it\n",
    "df_coef = pd.DataFrame({\n",
    "    'Col'  : train_X.columns,\n",
    "    'Coef' : coef\n",
    "})\n",
    "#df_coef['Coef'] = df_coef['Coef'].round(2)\n",
    "df_coef.head(10)"
   ]
  },
  {
   "cell_type": "code",
   "execution_count": 15,
   "metadata": {},
   "outputs": [
    {
     "data": {
      "text/plain": [
       "<AxesSubplot:xlabel='Coef', ylabel='Col'>"
      ]
     },
     "execution_count": 15,
     "metadata": {},
     "output_type": "execute_result"
    },
    {
     "data": {
      "image/png": "[encoded data removed]",
      "text/plain": [
       "<Figure size 864x720 with 1 Axes>"
      ]
     },
     "metadata": {
      "needs_background": "light"
     },
     "output_type": "display_data"
    }
   ],
   "source": [
    "plt.figure(figsize=(12,10))\n",
    "sns.barplot(x='Coef', y='Col', data=df_coef,palette='BuGn') #color='blue', saturation=.8)"
   ]
  },
  {
   "cell_type": "markdown",
   "metadata": {
    "colab_type": "text",
    "id": "6Go_VU3igLFl"
   },
   "source": [
    "## Checking assumptions of Linear Model"
   ]
  },
  {
   "cell_type": "code",
   "execution_count": 16,
   "metadata": {
    "colab": {
     "base_uri": "https://localhost:8080/",
     "height": 204
    },
    "colab_type": "code",
    "executionInfo": {
     "elapsed": 3163,
     "status": "ok",
     "timestamp": 1559646190733,
     "user": {
      "displayName": "Sharoon Saxena",
      "photoUrl": "",
      "userId": "14774175216384036942"
     },
     "user_tz": -330
    },
    "id": "Lx_yVB9Hf9ga",
    "outputId": "126bd569-abf1-4bdc-a70c-e568577b4387"
   },
   "outputs": [
    {
     "data": {
      "text/html": [
       "<div>\n",
       "<style scoped>\n",
       "    .dataframe tbody tr th:only-of-type {\n",
       "        vertical-align: middle;\n",
       "    }\n",
       "\n",
       "    .dataframe tbody tr th {\n",
       "        vertical-align: top;\n",
       "    }\n",
       "\n",
       "    .dataframe thead th {\n",
       "        text-align: right;\n",
       "    }\n",
       "</style>\n",
       "<table border=\"1\" class=\"dataframe\">\n",
       "  <thead>\n",
       "    <tr style=\"text-align: right;\">\n",
       "      <th></th>\n",
       "      <th>fitted values</th>\n",
       "      <th>predicted values</th>\n",
       "      <th>residuals</th>\n",
       "    </tr>\n",
       "  </thead>\n",
       "  <tbody>\n",
       "    <tr>\n",
       "      <th>89839</th>\n",
       "      <td>1729</td>\n",
       "      <td>1817.0</td>\n",
       "      <td>-88.0</td>\n",
       "    </tr>\n",
       "    <tr>\n",
       "      <th>173249</th>\n",
       "      <td>914</td>\n",
       "      <td>1959.0</td>\n",
       "      <td>-1045.0</td>\n",
       "    </tr>\n",
       "    <tr>\n",
       "      <th>342537</th>\n",
       "      <td>810</td>\n",
       "      <td>940.5</td>\n",
       "      <td>-130.5</td>\n",
       "    </tr>\n",
       "    <tr>\n",
       "      <th>660985</th>\n",
       "      <td>590</td>\n",
       "      <td>876.5</td>\n",
       "      <td>-286.5</td>\n",
       "    </tr>\n",
       "    <tr>\n",
       "      <th>377668</th>\n",
       "      <td>442</td>\n",
       "      <td>984.0</td>\n",
       "      <td>-542.0</td>\n",
       "    </tr>\n",
       "  </tbody>\n",
       "</table>\n",
       "</div>"
      ],
      "text/plain": [
       "        fitted values  predicted values  residuals\n",
       "89839            1729            1817.0      -88.0\n",
       "173249            914            1959.0    -1045.0\n",
       "342537            810             940.5     -130.5\n",
       "660985            590             876.5     -286.5\n",
       "377668            442             984.0     -542.0"
      ]
     },
     "execution_count": 16,
     "metadata": {},
     "output_type": "execute_result"
    }
   ],
   "source": [
    "# Arranging and calculating the Residuals\n",
    "residuals = pd.DataFrame({\n",
    "    'fitted values' : train_y,\n",
    "    'predicted values' : train_yhat,\n",
    "})\n",
    "\n",
    "residuals['residuals'] = residuals['fitted values'] - residuals['predicted values']\n",
    "residuals.head()"
   ]
  },
  {
   "cell_type": "markdown",
   "metadata": {
    "colab_type": "text",
    "id": "KrwCPPdcUfby"
   },
   "source": [
    "### Checking Distribution of Residuals"
   ]
  },
  {
   "cell_type": "code",
   "execution_count": 17,
   "metadata": {
    "colab": {
     "base_uri": "https://localhost:8080/",
     "height": 663
    },
    "colab_type": "code",
    "executionInfo": {
     "elapsed": 4981,
     "status": "ok",
     "timestamp": 1559646192575,
     "user": {
      "displayName": "Sharoon Saxena",
      "photoUrl": "",
      "userId": "14774175216384036942"
     },
     "user_tz": -330
    },
    "id": "kzfrbW3viDdC",
    "outputId": "31513ee6-57db-467f-fbcb-576887d6ba37"
   },
   "outputs": [
    {
     "data": {
      "image/png": "[encoded data removed]",
      "text/plain": [
       "<Figure size 960x480 with 1 Axes>"
      ]
     },
     "metadata": {},
     "output_type": "display_data"
    }
   ],
   "source": [
    "# Histogram for distribution\n",
    "plt.figure(figsize=(8,4), dpi=120, facecolor='w', edgecolor='b')\n",
    "plt.hist(residuals.residuals,bins = 10)\n",
    "plt.xlabel('Error')\n",
    "plt.ylabel('Frequency')\n",
    "plt.title('Distribution of Error Terms')\n",
    "plt.show()"
   ]
  },
  {
   "cell_type": "markdown",
   "metadata": {
    "colab_type": "text",
    "id": "CmK7C1bte1zU"
   },
   "source": [
    "According to the Histogram, the distribution of error s not normal at all."
   ]
  },
  {
   "cell_type": "markdown",
   "metadata": {
    "colab_type": "text",
    "id": "UTUu_EwTUmf0"
   },
   "source": [
    "### QQ-Plot (Is the data Normally Distributed?)"
   ]
  },
  {
   "cell_type": "code",
   "execution_count": 18,
   "metadata": {
    "colab": {
     "base_uri": "https://localhost:8080/",
     "height": 573
    },
    "colab_type": "code",
    "executionInfo": {
     "elapsed": 6013,
     "status": "ok",
     "timestamp": 1559646193617,
     "user": {
      "displayName": "Sharoon Saxena",
      "photoUrl": "",
      "userId": "14774175216384036942"
     },
     "user_tz": -330
    },
    "id": "PHOiJGUKVE5u",
    "outputId": "ce527013-1585-4833-e4f0-7cbacb5d5a95"
   },
   "outputs": [
    {
     "data": {
      "image/png": "[encoded data removed]",
      "text/plain": [
       "<Figure size 960x480 with 1 Axes>"
      ]
     },
     "metadata": {
      "needs_background": "light"
     },
     "output_type": "display_data"
    }
   ],
   "source": [
    "# importing the QQ-plot from the from the statsmodels\n",
    "from statsmodels.graphics.gofplots import qqplot\n",
    "\n",
    "## Plotting the QQ plot\n",
    "fig, ax = plt.subplots(figsize=(8,4) , dpi = 120)\n",
    "qqplot(residuals.residuals, line = 's' , ax = ax)\n",
    "plt.ylabel('Residual Quantiles')\n",
    "plt.xlabel('Ideal Scaled Quantiles')\n",
    "plt.title('Checking distribution of Residual Errors')\n",
    "plt.show()"
   ]
  },
  {
   "cell_type": "markdown",
   "metadata": {
    "colab_type": "text",
    "id": "vv6r1ikegVD4"
   },
   "source": [
    "The QQ-plot - the data is not normal in nature.\n",
    "\n",
    "Lets take a log of the target variable and run again."
   ]
  },
  {
   "cell_type": "markdown",
   "metadata": {},
   "source": [
    "\n",
    "## Second run, with log(y)\n"
   ]
  },
  {
   "cell_type": "code",
   "execution_count": 19,
   "metadata": {},
   "outputs": [],
   "source": [
    "# Lets take a log of the target and then model the  data \n",
    "y_log = np.log(df['trip_duration'])"
   ]
  },
  {
   "cell_type": "code",
   "execution_count": 20,
   "metadata": {},
   "outputs": [],
   "source": [
    "# Split into train and test data with the log value of y\n",
    "train_X,test_X,train_y,test_y = model_selection.train_test_split(X,y_log, random_state = 100)"
   ]
  },
  {
   "cell_type": "code",
   "execution_count": 21,
   "metadata": {},
   "outputs": [],
   "source": [
    "# call the regression model function\n",
    "test_yhat,test_err,train_yhat,train_err,coef = funcLR(train_X,train_y,test_X,test_y,'mae')"
   ]
  },
  {
   "cell_type": "code",
   "execution_count": 22,
   "metadata": {},
   "outputs": [
    {
     "name": "stdout",
     "output_type": "stream",
     "text": [
      "Test Mean Absolute Error     : 378.61930756482155\n",
      "Training Mean Absolute Error : 393.4135482717925\n"
     ]
    }
   ],
   "source": [
    "# Calculate error after removing the log effect - \n",
    "# Take exopential of the y and predicted values before calculatng the error\n",
    "\n",
    "print('Test Mean Absolute Error     :', metrics.mean_absolute_error(np.exp(test_y),np.exp(test_yhat)) )\n",
    "print('Training Mean Absolute Error :', metrics.mean_absolute_error(np.exp(train_y),np.exp(train_yhat)) )"
   ]
  },
  {
   "cell_type": "markdown",
   "metadata": {},
   "source": [
    "\n",
    "The MAE has reduced from the first run.\n"
   ]
  },
  {
   "cell_type": "markdown",
   "metadata": {
    "colab_type": "text",
    "id": "6Go_VU3igLFl"
   },
   "source": [
    "## Checking assumptions of Linear Model"
   ]
  },
  {
   "cell_type": "code",
   "execution_count": 23,
   "metadata": {
    "colab": {
     "base_uri": "https://localhost:8080/",
     "height": 204
    },
    "colab_type": "code",
    "executionInfo": {
     "elapsed": 3163,
     "status": "ok",
     "timestamp": 1559646190733,
     "user": {
      "displayName": "Sharoon Saxena",
      "photoUrl": "",
      "userId": "14774175216384036942"
     },
     "user_tz": -330
    },
    "id": "Lx_yVB9Hf9ga",
    "outputId": "126bd569-abf1-4bdc-a70c-e568577b4387"
   },
   "outputs": [],
   "source": [
    "# Arranging and calculating the Residuals\n",
    "residuals = pd.DataFrame({\n",
    "    'fitted values' : train_y,\n",
    "    'predicted values' : train_yhat,\n",
    "})\n",
    "\n",
    "residuals['residuals'] = residuals['fitted values'] - residuals['predicted values']"
   ]
  },
  {
   "cell_type": "markdown",
   "metadata": {
    "colab_type": "text",
    "id": "KrwCPPdcUfby"
   },
   "source": [
    "### Checking Distribution of Residuals"
   ]
  },
  {
   "cell_type": "code",
   "execution_count": 24,
   "metadata": {
    "colab": {
     "base_uri": "https://localhost:8080/",
     "height": 663
    },
    "colab_type": "code",
    "executionInfo": {
     "elapsed": 4981,
     "status": "ok",
     "timestamp": 1559646192575,
     "user": {
      "displayName": "Sharoon Saxena",
      "photoUrl": "",
      "userId": "14774175216384036942"
     },
     "user_tz": -330
    },
    "id": "kzfrbW3viDdC",
    "outputId": "31513ee6-57db-467f-fbcb-576887d6ba37"
   },
   "outputs": [
    {
     "data": {
      "image/png": "[encoded data removed]",
      "text/plain": [
       "<Figure size 960x480 with 1 Axes>"
      ]
     },
     "metadata": {},
     "output_type": "display_data"
    }
   ],
   "source": [
    "# Histogram for distribution\n",
    "plt.figure(figsize=(8, 4), dpi=120, facecolor='w', edgecolor='b')\n",
    "plt.hist(residuals.residuals, bins = 100 ,color='salmon')\n",
    "plt.xlabel('Error')\n",
    "plt.ylabel('Frequency')\n",
    "plt.title('Distribution of Error Terms')\n",
    "plt.show()"
   ]
  },
  {
   "cell_type": "markdown",
   "metadata": {
    "colab_type": "text",
    "id": "CmK7C1bte1zU"
   },
   "source": [
    "**According to the Histogram, the distribution of error has outliers on the lower and higher end of the errors,  but seems normal**"
   ]
  },
  {
   "cell_type": "markdown",
   "metadata": {
    "colab_type": "text",
    "id": "UTUu_EwTUmf0"
   },
   "source": [
    "### QQ-Plot (Is the data Normally Distributed?)"
   ]
  },
  {
   "cell_type": "code",
   "execution_count": 25,
   "metadata": {
    "colab": {
     "base_uri": "https://localhost:8080/",
     "height": 573
    },
    "colab_type": "code",
    "executionInfo": {
     "elapsed": 6013,
     "status": "ok",
     "timestamp": 1559646193617,
     "user": {
      "displayName": "Sharoon Saxena",
      "photoUrl": "",
      "userId": "14774175216384036942"
     },
     "user_tz": -330
    },
    "id": "PHOiJGUKVE5u",
    "outputId": "ce527013-1585-4833-e4f0-7cbacb5d5a95"
   },
   "outputs": [
    {
     "data": {
      "image/png": "[encoded data removed]",
      "text/plain": [
       "<Figure size 960x480 with 1 Axes>"
      ]
     },
     "metadata": {
      "needs_background": "light"
     },
     "output_type": "display_data"
    }
   ],
   "source": [
    "# importing the QQ-plot from the from the statsmodels\n",
    "from statsmodels.graphics.gofplots import qqplot\n",
    "\n",
    "## Plotting the QQ plot\n",
    "fig, ax = plt.subplots(figsize=(8,4) , dpi = 120)\n",
    "qqplot(residuals.residuals, line = 's' , ax = ax,color='salmon')\n",
    "plt.ylabel('Residual Quantiles')\n",
    "plt.xlabel('Ideal Scaled Quantiles')\n",
    "plt.title('Checking distribution of Residual Errors')\n",
    "plt.show()"
   ]
  },
  {
   "cell_type": "markdown",
   "metadata": {
    "colab_type": "text",
    "id": "vv6r1ikegVD4"
   },
   "source": [
    "\n",
    "The QQ-plot clearly verifies our findings from the the histogram of the residuals, the data is mostly normal in nature, but there are outliers on the lower and higher end of the Residues.\n",
    "\n",
    "Lets remove some extreme values from the target variable and model the data again."
   ]
  },
  {
   "cell_type": "code",
   "execution_count": 26,
   "metadata": {},
   "outputs": [
    {
     "data": {
      "text/plain": [
       "count     729322.00\n",
       "mean         952.23\n",
       "std         3864.63\n",
       "min            1.00\n",
       "10%          245.00\n",
       "25%          397.00\n",
       "50%          663.00\n",
       "75%         1075.00\n",
       "90%         1632.00\n",
       "95%         2102.00\n",
       "99%         3429.00\n",
       "max      1939736.00\n",
       "Name: trip_duration, dtype: float64"
      ]
     },
     "execution_count": 26,
     "metadata": {},
     "output_type": "execute_result"
    }
   ],
   "source": [
    "df['trip_duration'].describe(percentiles=[.1, .25, .5, .75, .9,.95,.99]).round(2)"
   ]
  },
  {
   "cell_type": "markdown",
   "metadata": {},
   "source": [
    "There is exponential  rise in  the value from  min to 10th percentile and 90% percentile to  max"
   ]
  },
  {
   "cell_type": "code",
   "execution_count": 27,
   "metadata": {},
   "outputs": [
    {
     "data": {
      "text/plain": [
       "(729322, 23)"
      ]
     },
     "execution_count": 27,
     "metadata": {},
     "output_type": "execute_result"
    }
   ],
   "source": [
    "df.shape"
   ]
  },
  {
   "cell_type": "code",
   "execution_count": 28,
   "metadata": {},
   "outputs": [
    {
     "data": {
      "text/plain": [
       "1"
      ]
     },
     "execution_count": 28,
     "metadata": {},
     "output_type": "execute_result"
    }
   ],
   "source": [
    "# Check how many have max value\n",
    "df[df['trip_duration'] == df['trip_duration'].max()].shape[0]"
   ]
  },
  {
   "cell_type": "code",
   "execution_count": 29,
   "metadata": {},
   "outputs": [
    {
     "data": {
      "text/plain": [
       "13"
      ]
     },
     "execution_count": 29,
     "metadata": {},
     "output_type": "execute_result"
    }
   ],
   "source": [
    "# Check how many have min value - 1 second\n",
    "df[df['trip_duration'] == df['trip_duration'].min()].shape[0]"
   ]
  },
  {
   "cell_type": "code",
   "execution_count": 30,
   "metadata": {},
   "outputs": [
    {
     "data": {
      "text/plain": [
       "4362"
      ]
     },
     "execution_count": 30,
     "metadata": {},
     "output_type": "execute_result"
    }
   ],
   "source": [
    "# Check how many trips are there with less than 1 minute of trip duration\n",
    "df[df['trip_duration'] <= 60].shape[0]"
   ]
  },
  {
   "cell_type": "code",
   "execution_count": 31,
   "metadata": {},
   "outputs": [
    {
     "data": {
      "text/plain": [
       "978"
      ]
     },
     "execution_count": 31,
     "metadata": {},
     "output_type": "execute_result"
    }
   ],
   "source": [
    "# There are lot of high values , count the number of rows with trip more than 10 hours\n",
    "df[df['trip_duration'] >= 10*60*60].shape[0]"
   ]
  },
  {
   "cell_type": "code",
   "execution_count": 32,
   "metadata": {},
   "outputs": [
    {
     "data": {
      "text/plain": [
       "14129"
      ]
     },
     "execution_count": 32,
     "metadata": {},
     "output_type": "execute_result"
    }
   ],
   "source": [
    "# Number of trips less than 2 minutes\n",
    "df[df['trip_duration'] <= 2*60 ].shape[0]"
   ]
  },
  {
   "cell_type": "code",
   "execution_count": 33,
   "metadata": {},
   "outputs": [
    {
     "data": {
      "text/plain": [
       "(724959, 23)"
      ]
     },
     "execution_count": 33,
     "metadata": {},
     "output_type": "execute_result"
    }
   ],
   "source": [
    "# Lets drop  the max and less than 1 minute rides - potentially wrong entries\n",
    "orig_rows = df.shape[0]\n",
    "df = df[df['trip_duration'] != df['trip_duration'].max()]\n",
    "df = df[df['trip_duration'] > 60]\n",
    "df.shape"
   ]
  },
  {
   "cell_type": "code",
   "execution_count": 34,
   "metadata": {},
   "outputs": [
    {
     "data": {
      "text/plain": [
       "4363"
      ]
     },
     "execution_count": 34,
     "metadata": {},
     "output_type": "execute_result"
    }
   ],
   "source": [
    "# How many rows got droppd\n",
    "orig_rows - df.shape[0]"
   ]
  },
  {
   "cell_type": "code",
   "execution_count": 35,
   "metadata": {},
   "outputs": [
    {
     "data": {
      "text/plain": [
       "count    724959.00\n",
       "mean        955.12\n",
       "std        3136.10\n",
       "min          61.00\n",
       "10%         251.00\n",
       "25%         401.00\n",
       "50%         667.00\n",
       "75%        1079.00\n",
       "90%        1636.00\n",
       "95%        2106.00\n",
       "99%        3434.42\n",
       "max       86391.00\n",
       "Name: trip_duration, dtype: float64"
      ]
     },
     "execution_count": 35,
     "metadata": {},
     "output_type": "execute_result"
    }
   ],
   "source": [
    "df['trip_duration'].describe(percentiles=[.1, .25, .5, .75, .9,.95,.99]).round(2)"
   ]
  },
  {
   "cell_type": "markdown",
   "metadata": {},
   "source": [
    "### 3rd run, after removing some of the extreme values from the target variable and taking its log\n",
    "\n",
    "**Seperate dependent and independent variables**"
   ]
  },
  {
   "cell_type": "code",
   "execution_count": 36,
   "metadata": {},
   "outputs": [
    {
     "data": {
      "text/plain": [
       "((724959, 21), (724959,))"
      ]
     },
     "execution_count": 36,
     "metadata": {},
     "output_type": "execute_result"
    }
   ],
   "source": [
    "# Lets take a log of the target and then model the  data \n",
    "\n",
    "X = df.drop(['id','trip_duration'], axis=1)\n",
    "y_log = np.log(df['trip_duration'])\n",
    "X.shape, y_log.shape"
   ]
  },
  {
   "cell_type": "code",
   "execution_count": 37,
   "metadata": {},
   "outputs": [
    {
     "data": {
      "text/html": [
       "<div>\n",
       "<style scoped>\n",
       "    .dataframe tbody tr th:only-of-type {\n",
       "        vertical-align: middle;\n",
       "    }\n",
       "\n",
       "    .dataframe tbody tr th {\n",
       "        vertical-align: top;\n",
       "    }\n",
       "\n",
       "    .dataframe thead th {\n",
       "        text-align: right;\n",
       "    }\n",
       "</style>\n",
       "<table border=\"1\" class=\"dataframe\">\n",
       "  <thead>\n",
       "    <tr style=\"text-align: right;\">\n",
       "      <th></th>\n",
       "      <th>passenger_count</th>\n",
       "      <th>day_of_month</th>\n",
       "      <th>hour</th>\n",
       "      <th>distance</th>\n",
       "      <th>store_and_fwd_flag_N</th>\n",
       "      <th>store_and_fwd_flag_Y</th>\n",
       "      <th>day_name_Friday</th>\n",
       "      <th>day_name_Monday</th>\n",
       "      <th>day_name_Saturday</th>\n",
       "      <th>day_name_Sunday</th>\n",
       "      <th>day_name_Thursday</th>\n",
       "      <th>day_name_Tuesday</th>\n",
       "      <th>day_name_Wednesday</th>\n",
       "      <th>hour_slot_Late Night</th>\n",
       "      <th>hour_slot_Early Morning</th>\n",
       "      <th>hour_slot_Morning</th>\n",
       "      <th>hour_slot_Noon</th>\n",
       "      <th>hour_slot_Eve</th>\n",
       "      <th>hour_slot_Night</th>\n",
       "      <th>vendor_id_1</th>\n",
       "      <th>vendor_id_2</th>\n",
       "    </tr>\n",
       "  </thead>\n",
       "  <tbody>\n",
       "    <tr>\n",
       "      <th>0</th>\n",
       "      <td>0.111111</td>\n",
       "      <td>0.933333</td>\n",
       "      <td>0.695652</td>\n",
       "      <td>0.230663</td>\n",
       "      <td>1.0</td>\n",
       "      <td>0.0</td>\n",
       "      <td>0.0</td>\n",
       "      <td>1.0</td>\n",
       "      <td>0.0</td>\n",
       "      <td>0.0</td>\n",
       "      <td>0.0</td>\n",
       "      <td>0.0</td>\n",
       "      <td>0.0</td>\n",
       "      <td>0.0</td>\n",
       "      <td>0.0</td>\n",
       "      <td>0.0</td>\n",
       "      <td>1.0</td>\n",
       "      <td>0.0</td>\n",
       "      <td>0.0</td>\n",
       "      <td>0.0</td>\n",
       "      <td>1.0</td>\n",
       "    </tr>\n",
       "    <tr>\n",
       "      <th>1</th>\n",
       "      <td>0.222222</td>\n",
       "      <td>0.333333</td>\n",
       "      <td>1.000000</td>\n",
       "      <td>0.794308</td>\n",
       "      <td>1.0</td>\n",
       "      <td>0.0</td>\n",
       "      <td>1.0</td>\n",
       "      <td>0.0</td>\n",
       "      <td>0.0</td>\n",
       "      <td>0.0</td>\n",
       "      <td>0.0</td>\n",
       "      <td>0.0</td>\n",
       "      <td>0.0</td>\n",
       "      <td>0.0</td>\n",
       "      <td>0.0</td>\n",
       "      <td>0.0</td>\n",
       "      <td>0.0</td>\n",
       "      <td>0.0</td>\n",
       "      <td>1.0</td>\n",
       "      <td>1.0</td>\n",
       "      <td>0.0</td>\n",
       "    </tr>\n",
       "    <tr>\n",
       "      <th>2</th>\n",
       "      <td>0.222222</td>\n",
       "      <td>0.666667</td>\n",
       "      <td>0.739130</td>\n",
       "      <td>1.000000</td>\n",
       "      <td>1.0</td>\n",
       "      <td>0.0</td>\n",
       "      <td>0.0</td>\n",
       "      <td>0.0</td>\n",
       "      <td>0.0</td>\n",
       "      <td>1.0</td>\n",
       "      <td>0.0</td>\n",
       "      <td>0.0</td>\n",
       "      <td>0.0</td>\n",
       "      <td>0.0</td>\n",
       "      <td>0.0</td>\n",
       "      <td>0.0</td>\n",
       "      <td>0.0</td>\n",
       "      <td>1.0</td>\n",
       "      <td>0.0</td>\n",
       "      <td>0.0</td>\n",
       "      <td>1.0</td>\n",
       "    </tr>\n",
       "    <tr>\n",
       "      <th>3</th>\n",
       "      <td>0.666667</td>\n",
       "      <td>0.133333</td>\n",
       "      <td>0.391304</td>\n",
       "      <td>0.454199</td>\n",
       "      <td>1.0</td>\n",
       "      <td>0.0</td>\n",
       "      <td>0.0</td>\n",
       "      <td>0.0</td>\n",
       "      <td>0.0</td>\n",
       "      <td>0.0</td>\n",
       "      <td>0.0</td>\n",
       "      <td>1.0</td>\n",
       "      <td>0.0</td>\n",
       "      <td>0.0</td>\n",
       "      <td>0.0</td>\n",
       "      <td>1.0</td>\n",
       "      <td>0.0</td>\n",
       "      <td>0.0</td>\n",
       "      <td>0.0</td>\n",
       "      <td>0.0</td>\n",
       "      <td>1.0</td>\n",
       "    </tr>\n",
       "    <tr>\n",
       "      <th>4</th>\n",
       "      <td>0.111111</td>\n",
       "      <td>0.533333</td>\n",
       "      <td>0.260870</td>\n",
       "      <td>0.832671</td>\n",
       "      <td>1.0</td>\n",
       "      <td>0.0</td>\n",
       "      <td>0.0</td>\n",
       "      <td>0.0</td>\n",
       "      <td>0.0</td>\n",
       "      <td>0.0</td>\n",
       "      <td>0.0</td>\n",
       "      <td>0.0</td>\n",
       "      <td>1.0</td>\n",
       "      <td>0.0</td>\n",
       "      <td>1.0</td>\n",
       "      <td>0.0</td>\n",
       "      <td>0.0</td>\n",
       "      <td>0.0</td>\n",
       "      <td>0.0</td>\n",
       "      <td>1.0</td>\n",
       "      <td>0.0</td>\n",
       "    </tr>\n",
       "  </tbody>\n",
       "</table>\n",
       "</div>"
      ],
      "text/plain": [
       "   passenger_count  day_of_month      hour  distance  store_and_fwd_flag_N  \\\n",
       "0         0.111111      0.933333  0.695652  0.230663                   1.0   \n",
       "1         0.222222      0.333333  1.000000  0.794308                   1.0   \n",
       "2         0.222222      0.666667  0.739130  1.000000                   1.0   \n",
       "3         0.666667      0.133333  0.391304  0.454199                   1.0   \n",
       "4         0.111111      0.533333  0.260870  0.832671                   1.0   \n",
       "\n",
       "   store_and_fwd_flag_Y  day_name_Friday  day_name_Monday  day_name_Saturday  \\\n",
       "0                   0.0              0.0              1.0                0.0   \n",
       "1                   0.0              1.0              0.0                0.0   \n",
       "2                   0.0              0.0              0.0                0.0   \n",
       "3                   0.0              0.0              0.0                0.0   \n",
       "4                   0.0              0.0              0.0                0.0   \n",
       "\n",
       "   day_name_Sunday  day_name_Thursday  day_name_Tuesday  day_name_Wednesday  \\\n",
       "0              0.0                0.0               0.0                 0.0   \n",
       "1              0.0                0.0               0.0                 0.0   \n",
       "2              1.0                0.0               0.0                 0.0   \n",
       "3              0.0                0.0               1.0                 0.0   \n",
       "4              0.0                0.0               0.0                 1.0   \n",
       "\n",
       "   hour_slot_Late Night  hour_slot_Early Morning  hour_slot_Morning  \\\n",
       "0                   0.0                      0.0                0.0   \n",
       "1                   0.0                      0.0                0.0   \n",
       "2                   0.0                      0.0                0.0   \n",
       "3                   0.0                      0.0                1.0   \n",
       "4                   0.0                      1.0                0.0   \n",
       "\n",
       "   hour_slot_Noon  hour_slot_Eve  hour_slot_Night  vendor_id_1  vendor_id_2  \n",
       "0             1.0            0.0              0.0          0.0          1.0  \n",
       "1             0.0            0.0              1.0          1.0          0.0  \n",
       "2             0.0            1.0              0.0          0.0          1.0  \n",
       "3             0.0            0.0              0.0          0.0          1.0  \n",
       "4             0.0            0.0              0.0          1.0          0.0  "
      ]
     },
     "execution_count": 37,
     "metadata": {},
     "output_type": "execute_result"
    }
   ],
   "source": [
    "# Scale the X variable's using MinMax scaler\n",
    "scaler = preprocessing.MinMaxScaler()\n",
    "X_scaled = scaler.fit_transform(X) # returns an array\n",
    "X = pd.DataFrame(X_scaled, columns = X.columns) # convert back to data frame\n",
    "X.head()"
   ]
  },
  {
   "cell_type": "code",
   "execution_count": 38,
   "metadata": {},
   "outputs": [],
   "source": [
    "# Split into train and test data with the log value of y\n",
    "train_X,test_X,train_y,test_y = model_selection.train_test_split(X,y_log, random_state = 100)"
   ]
  },
  {
   "cell_type": "code",
   "execution_count": 39,
   "metadata": {},
   "outputs": [],
   "source": [
    "# call the regression model function\n",
    "test_yhat,test_err,train_yhat,train_err,coef = funcLR(train_X,train_y,test_X,test_y,'mae')"
   ]
  },
  {
   "cell_type": "code",
   "execution_count": 40,
   "metadata": {},
   "outputs": [
    {
     "name": "stdout",
     "output_type": "stream",
     "text": [
      "Test Mean Absolute Error     : 384.14169752479637\n",
      "Training Mean Absolute Error : 386.61797236018367\n"
     ]
    }
   ],
   "source": [
    "# Calculate error after removing the log effect - \n",
    "# Take exopential of the y and predicted values before calculatng the error\n",
    "\n",
    "print('Test Mean Absolute Error     :', metrics.mean_absolute_error(np.exp(test_y),np.exp(test_yhat)) )\n",
    "print('Training Mean Absolute Error :', metrics.mean_absolute_error(np.exp(train_y),np.exp(train_yhat)) )"
   ]
  },
  {
   "cell_type": "raw",
   "metadata": {},
   "source": [
    "\n",
    "The test MEA has increased, train MAE has reduced a bit, but the difference between the test and train MAE has reduced from the run before removing the extreme values\n"
   ]
  },
  {
   "cell_type": "markdown",
   "metadata": {
    "colab_type": "text",
    "id": "6Go_VU3igLFl"
   },
   "source": [
    "## Checking assumptions of Linear Model"
   ]
  },
  {
   "cell_type": "code",
   "execution_count": 41,
   "metadata": {
    "colab": {
     "base_uri": "https://localhost:8080/",
     "height": 204
    },
    "colab_type": "code",
    "executionInfo": {
     "elapsed": 3163,
     "status": "ok",
     "timestamp": 1559646190733,
     "user": {
      "displayName": "Sharoon Saxena",
      "photoUrl": "",
      "userId": "14774175216384036942"
     },
     "user_tz": -330
    },
    "id": "Lx_yVB9Hf9ga",
    "outputId": "126bd569-abf1-4bdc-a70c-e568577b4387"
   },
   "outputs": [],
   "source": [
    "# Arranging and calculating the Residuals\n",
    "residuals = pd.DataFrame({\n",
    "    'fitted values' : train_y,\n",
    "    'predicted values' : train_yhat,\n",
    "})\n",
    "\n",
    "residuals['residuals'] = residuals['fitted values'] - residuals['predicted values']"
   ]
  },
  {
   "cell_type": "markdown",
   "metadata": {
    "colab_type": "text",
    "id": "KrwCPPdcUfby"
   },
   "source": [
    "### Checking Distribution of Residuals"
   ]
  },
  {
   "cell_type": "code",
   "execution_count": 42,
   "metadata": {
    "colab": {
     "base_uri": "https://localhost:8080/",
     "height": 663
    },
    "colab_type": "code",
    "executionInfo": {
     "elapsed": 4981,
     "status": "ok",
     "timestamp": 1559646192575,
     "user": {
      "displayName": "Sharoon Saxena",
      "photoUrl": "",
      "userId": "14774175216384036942"
     },
     "user_tz": -330
    },
    "id": "kzfrbW3viDdC",
    "outputId": "31513ee6-57db-467f-fbcb-576887d6ba37"
   },
   "outputs": [
    {
     "data": {
      "image/png": "[encoded data removed]",
      "text/plain": [
       "<Figure size 960x480 with 1 Axes>"
      ]
     },
     "metadata": {},
     "output_type": "display_data"
    }
   ],
   "source": [
    "# Histogram for distribution\n",
    "plt.figure(figsize=(8, 4), dpi=120, facecolor='w', edgecolor='b')\n",
    "plt.hist(residuals.residuals, bins = 100 ,color='lightblue')\n",
    "plt.xlabel('Error')\n",
    "plt.ylabel('Frequency')\n",
    "plt.title('Distribution of Error Terms')\n",
    "plt.show()"
   ]
  },
  {
   "cell_type": "markdown",
   "metadata": {
    "colab_type": "text",
    "id": "CmK7C1bte1zU"
   },
   "source": [
    "**According to the Histogram, the distribution of error has outliers on the lower and higher end of the errors,  but seems normal**"
   ]
  },
  {
   "cell_type": "markdown",
   "metadata": {
    "colab_type": "text",
    "id": "UTUu_EwTUmf0"
   },
   "source": [
    "### QQ-Plot (Is the data Normally Distributed?)"
   ]
  },
  {
   "cell_type": "code",
   "execution_count": 43,
   "metadata": {
    "colab": {
     "base_uri": "https://localhost:8080/",
     "height": 573
    },
    "colab_type": "code",
    "executionInfo": {
     "elapsed": 6013,
     "status": "ok",
     "timestamp": 1559646193617,
     "user": {
      "displayName": "Sharoon Saxena",
      "photoUrl": "",
      "userId": "14774175216384036942"
     },
     "user_tz": -330
    },
    "id": "PHOiJGUKVE5u",
    "outputId": "ce527013-1585-4833-e4f0-7cbacb5d5a95"
   },
   "outputs": [
    {
     "data": {
      "image/png": "[encoded data removed]",
      "text/plain": [
       "<Figure size 960x480 with 1 Axes>"
      ]
     },
     "metadata": {
      "needs_background": "light"
     },
     "output_type": "display_data"
    }
   ],
   "source": [
    "# importing the QQ-plot from the from the statsmodels\n",
    "from statsmodels.graphics.gofplots import qqplot\n",
    "\n",
    "## Plotting the QQ plot\n",
    "fig, ax = plt.subplots(figsize=(8,4) , dpi = 120)\n",
    "qqplot(residuals.residuals, line = 's' , ax = ax,color='lightblue')\n",
    "plt.ylabel('Residual Quantiles')\n",
    "plt.xlabel('Ideal Scaled Quantiles')\n",
    "plt.title('Checking distribution of Residual Errors')\n",
    "plt.show()"
   ]
  },
  {
   "cell_type": "markdown",
   "metadata": {},
   "source": [
    "The QQ-plot clearly verifies our findings from the the histogram of the residuals, \n",
    "the data is mostly normal in nature, but there sre some outliers on the lower and higher end of the Residues."
   ]
  },
  {
   "cell_type": "markdown",
   "metadata": {
    "colab_type": "text",
    "id": "y_ull_aGYPwi"
   },
   "source": [
    "### Variance Inflation Factor (VIF) (Checking for multi collinearity)"
   ]
  },
  {
   "cell_type": "code",
   "execution_count": 44,
   "metadata": {
    "colab": {
     "base_uri": "https://localhost:8080/",
     "height": 850
    },
    "colab_type": "code",
    "executionInfo": {
     "elapsed": 6725,
     "status": "ok",
     "timestamp": 1559646194342,
     "user": {
      "displayName": "Sharoon Saxena",
      "photoUrl": "",
      "userId": "14774175216384036942"
     },
     "user_tz": -330
    },
    "id": "0dkJAXOfRSww",
    "outputId": "cabb509d-c840-4d05-c4e5-187e48d5f83b"
   },
   "outputs": [
    {
     "data": {
      "text/plain": [
       "passenger_count            1.090816e+00\n",
       "day_of_month               1.001939e+00\n",
       "hour                       3.548577e+01\n",
       "distance                   1.020183e+00\n",
       "store_and_fwd_flag_N       1.038041e+06\n",
       "store_and_fwd_flag_Y       1.329810e+11\n",
       "day_name_Friday            6.946203e+08\n",
       "day_name_Monday            2.079938e+07\n",
       "day_name_Saturday          7.623468e+08\n",
       "day_name_Sunday            5.046887e+07\n",
       "day_name_Thursday          1.007831e+10\n",
       "day_name_Tuesday           5.356672e+06\n",
       "day_name_Wednesday         3.630323e+09\n",
       "hour_slot_Late Night       1.830949e+08\n",
       "hour_slot_Early Morning    1.831502e+10\n",
       "hour_slot_Morning          1.485911e+06\n",
       "hour_slot_Noon             5.124459e+07\n",
       "hour_slot_Eve              2.779552e+07\n",
       "hour_slot_Night            2.491374e+07\n",
       "vendor_id_1                5.717884e+06\n",
       "vendor_id_2                1.437789e+07\n",
       "dtype: float64"
      ]
     },
     "execution_count": 44,
     "metadata": {},
     "output_type": "execute_result"
    }
   ],
   "source": [
    "# Importing Variance_inflation_Factor funtion from the Statsmodels\n",
    "from statsmodels.stats.outliers_influence import variance_inflation_factor\n",
    "from statsmodels.tools.tools import add_constant\n",
    "\n",
    "# Calculating VIF for every column (only works for the not Catagorical)\n",
    "VIF = pd.Series([variance_inflation_factor(train_X.values, i) for i in range(train_X.shape[1])], index =train_X.columns)\n",
    "VIF"
   ]
  },
  {
   "cell_type": "markdown",
   "metadata": {},
   "source": [
    "**VIF is more  than  4 - We need to remove day_name_* and vendor_id_* columns and run again**"
   ]
  },
  {
   "cell_type": "code",
   "execution_count": 45,
   "metadata": {},
   "outputs": [
    {
     "data": {
      "text/html": [
       "<div>\n",
       "<style scoped>\n",
       "    .dataframe tbody tr th:only-of-type {\n",
       "        vertical-align: middle;\n",
       "    }\n",
       "\n",
       "    .dataframe tbody tr th {\n",
       "        vertical-align: top;\n",
       "    }\n",
       "\n",
       "    .dataframe thead th {\n",
       "        text-align: right;\n",
       "    }\n",
       "</style>\n",
       "<table border=\"1\" class=\"dataframe\">\n",
       "  <thead>\n",
       "    <tr style=\"text-align: right;\">\n",
       "      <th></th>\n",
       "      <th>passenger_count</th>\n",
       "      <th>day_of_month</th>\n",
       "      <th>hour</th>\n",
       "      <th>distance</th>\n",
       "      <th>store_and_fwd_flag_N</th>\n",
       "      <th>store_and_fwd_flag_Y</th>\n",
       "      <th>day_name_Friday</th>\n",
       "      <th>day_name_Monday</th>\n",
       "      <th>day_name_Saturday</th>\n",
       "      <th>day_name_Sunday</th>\n",
       "      <th>day_name_Thursday</th>\n",
       "      <th>day_name_Tuesday</th>\n",
       "      <th>day_name_Wednesday</th>\n",
       "      <th>hour_slot_Late Night</th>\n",
       "      <th>hour_slot_Early Morning</th>\n",
       "      <th>hour_slot_Morning</th>\n",
       "      <th>hour_slot_Noon</th>\n",
       "      <th>hour_slot_Eve</th>\n",
       "      <th>hour_slot_Night</th>\n",
       "      <th>vendor_id_1</th>\n",
       "      <th>vendor_id_2</th>\n",
       "    </tr>\n",
       "  </thead>\n",
       "  <tbody>\n",
       "    <tr>\n",
       "      <th>0</th>\n",
       "      <td>0.111111</td>\n",
       "      <td>0.933333</td>\n",
       "      <td>0.695652</td>\n",
       "      <td>0.230663</td>\n",
       "      <td>1.0</td>\n",
       "      <td>0.0</td>\n",
       "      <td>0.0</td>\n",
       "      <td>1.0</td>\n",
       "      <td>0.0</td>\n",
       "      <td>0.0</td>\n",
       "      <td>0.0</td>\n",
       "      <td>0.0</td>\n",
       "      <td>0.0</td>\n",
       "      <td>0.0</td>\n",
       "      <td>0.0</td>\n",
       "      <td>0.0</td>\n",
       "      <td>1.0</td>\n",
       "      <td>0.0</td>\n",
       "      <td>0.0</td>\n",
       "      <td>0.0</td>\n",
       "      <td>1.0</td>\n",
       "    </tr>\n",
       "    <tr>\n",
       "      <th>1</th>\n",
       "      <td>0.222222</td>\n",
       "      <td>0.333333</td>\n",
       "      <td>1.000000</td>\n",
       "      <td>0.794308</td>\n",
       "      <td>1.0</td>\n",
       "      <td>0.0</td>\n",
       "      <td>1.0</td>\n",
       "      <td>0.0</td>\n",
       "      <td>0.0</td>\n",
       "      <td>0.0</td>\n",
       "      <td>0.0</td>\n",
       "      <td>0.0</td>\n",
       "      <td>0.0</td>\n",
       "      <td>0.0</td>\n",
       "      <td>0.0</td>\n",
       "      <td>0.0</td>\n",
       "      <td>0.0</td>\n",
       "      <td>0.0</td>\n",
       "      <td>1.0</td>\n",
       "      <td>1.0</td>\n",
       "      <td>0.0</td>\n",
       "    </tr>\n",
       "    <tr>\n",
       "      <th>2</th>\n",
       "      <td>0.222222</td>\n",
       "      <td>0.666667</td>\n",
       "      <td>0.739130</td>\n",
       "      <td>1.000000</td>\n",
       "      <td>1.0</td>\n",
       "      <td>0.0</td>\n",
       "      <td>0.0</td>\n",
       "      <td>0.0</td>\n",
       "      <td>0.0</td>\n",
       "      <td>1.0</td>\n",
       "      <td>0.0</td>\n",
       "      <td>0.0</td>\n",
       "      <td>0.0</td>\n",
       "      <td>0.0</td>\n",
       "      <td>0.0</td>\n",
       "      <td>0.0</td>\n",
       "      <td>0.0</td>\n",
       "      <td>1.0</td>\n",
       "      <td>0.0</td>\n",
       "      <td>0.0</td>\n",
       "      <td>1.0</td>\n",
       "    </tr>\n",
       "    <tr>\n",
       "      <th>3</th>\n",
       "      <td>0.666667</td>\n",
       "      <td>0.133333</td>\n",
       "      <td>0.391304</td>\n",
       "      <td>0.454199</td>\n",
       "      <td>1.0</td>\n",
       "      <td>0.0</td>\n",
       "      <td>0.0</td>\n",
       "      <td>0.0</td>\n",
       "      <td>0.0</td>\n",
       "      <td>0.0</td>\n",
       "      <td>0.0</td>\n",
       "      <td>1.0</td>\n",
       "      <td>0.0</td>\n",
       "      <td>0.0</td>\n",
       "      <td>0.0</td>\n",
       "      <td>1.0</td>\n",
       "      <td>0.0</td>\n",
       "      <td>0.0</td>\n",
       "      <td>0.0</td>\n",
       "      <td>0.0</td>\n",
       "      <td>1.0</td>\n",
       "    </tr>\n",
       "    <tr>\n",
       "      <th>4</th>\n",
       "      <td>0.111111</td>\n",
       "      <td>0.533333</td>\n",
       "      <td>0.260870</td>\n",
       "      <td>0.832671</td>\n",
       "      <td>1.0</td>\n",
       "      <td>0.0</td>\n",
       "      <td>0.0</td>\n",
       "      <td>0.0</td>\n",
       "      <td>0.0</td>\n",
       "      <td>0.0</td>\n",
       "      <td>0.0</td>\n",
       "      <td>0.0</td>\n",
       "      <td>1.0</td>\n",
       "      <td>0.0</td>\n",
       "      <td>1.0</td>\n",
       "      <td>0.0</td>\n",
       "      <td>0.0</td>\n",
       "      <td>0.0</td>\n",
       "      <td>0.0</td>\n",
       "      <td>1.0</td>\n",
       "      <td>0.0</td>\n",
       "    </tr>\n",
       "  </tbody>\n",
       "</table>\n",
       "</div>"
      ],
      "text/plain": [
       "   passenger_count  day_of_month      hour  distance  store_and_fwd_flag_N  \\\n",
       "0         0.111111      0.933333  0.695652  0.230663                   1.0   \n",
       "1         0.222222      0.333333  1.000000  0.794308                   1.0   \n",
       "2         0.222222      0.666667  0.739130  1.000000                   1.0   \n",
       "3         0.666667      0.133333  0.391304  0.454199                   1.0   \n",
       "4         0.111111      0.533333  0.260870  0.832671                   1.0   \n",
       "\n",
       "   store_and_fwd_flag_Y  day_name_Friday  day_name_Monday  day_name_Saturday  \\\n",
       "0                   0.0              0.0              1.0                0.0   \n",
       "1                   0.0              1.0              0.0                0.0   \n",
       "2                   0.0              0.0              0.0                0.0   \n",
       "3                   0.0              0.0              0.0                0.0   \n",
       "4                   0.0              0.0              0.0                0.0   \n",
       "\n",
       "   day_name_Sunday  day_name_Thursday  day_name_Tuesday  day_name_Wednesday  \\\n",
       "0              0.0                0.0               0.0                 0.0   \n",
       "1              0.0                0.0               0.0                 0.0   \n",
       "2              1.0                0.0               0.0                 0.0   \n",
       "3              0.0                0.0               1.0                 0.0   \n",
       "4              0.0                0.0               0.0                 1.0   \n",
       "\n",
       "   hour_slot_Late Night  hour_slot_Early Morning  hour_slot_Morning  \\\n",
       "0                   0.0                      0.0                0.0   \n",
       "1                   0.0                      0.0                0.0   \n",
       "2                   0.0                      0.0                0.0   \n",
       "3                   0.0                      0.0                1.0   \n",
       "4                   0.0                      1.0                0.0   \n",
       "\n",
       "   hour_slot_Noon  hour_slot_Eve  hour_slot_Night  vendor_id_1  vendor_id_2  \n",
       "0             1.0            0.0              0.0          0.0          1.0  \n",
       "1             0.0            0.0              1.0          1.0          0.0  \n",
       "2             0.0            1.0              0.0          0.0          1.0  \n",
       "3             0.0            0.0              0.0          0.0          1.0  \n",
       "4             0.0            0.0              0.0          1.0          0.0  "
      ]
     },
     "execution_count": 45,
     "metadata": {},
     "output_type": "execute_result"
    }
   ],
   "source": [
    "X.head()"
   ]
  },
  {
   "cell_type": "code",
   "execution_count": 46,
   "metadata": {},
   "outputs": [
    {
     "data": {
      "text/plain": [
       "array(['day_name_Friday', 'day_name_Monday', 'day_name_Saturday',\n",
       "       'day_name_Sunday', 'day_name_Thursday', 'day_name_Tuesday',\n",
       "       'day_name_Wednesday'], dtype=object)"
      ]
     },
     "execution_count": 46,
     "metadata": {},
     "output_type": "execute_result"
    }
   ],
   "source": [
    "X.filter(like='day_name',axis='columns').columns.values"
   ]
  },
  {
   "cell_type": "code",
   "execution_count": 47,
   "metadata": {},
   "outputs": [
    {
     "data": {
      "text/plain": [
       "array(['vendor_id_1', 'vendor_id_2'], dtype=object)"
      ]
     },
     "execution_count": 47,
     "metadata": {},
     "output_type": "execute_result"
    }
   ],
   "source": [
    "X.filter(like='vendor_id',axis='columns').columns.values"
   ]
  },
  {
   "cell_type": "code",
   "execution_count": 48,
   "metadata": {},
   "outputs": [
    {
     "data": {
      "text/html": [
       "<div>\n",
       "<style scoped>\n",
       "    .dataframe tbody tr th:only-of-type {\n",
       "        vertical-align: middle;\n",
       "    }\n",
       "\n",
       "    .dataframe tbody tr th {\n",
       "        vertical-align: top;\n",
       "    }\n",
       "\n",
       "    .dataframe thead th {\n",
       "        text-align: right;\n",
       "    }\n",
       "</style>\n",
       "<table border=\"1\" class=\"dataframe\">\n",
       "  <thead>\n",
       "    <tr style=\"text-align: right;\">\n",
       "      <th></th>\n",
       "      <th>passenger_count</th>\n",
       "      <th>day_of_month</th>\n",
       "      <th>hour</th>\n",
       "      <th>distance</th>\n",
       "      <th>store_and_fwd_flag_N</th>\n",
       "      <th>store_and_fwd_flag_Y</th>\n",
       "      <th>hour_slot_Late Night</th>\n",
       "      <th>hour_slot_Early Morning</th>\n",
       "      <th>hour_slot_Morning</th>\n",
       "      <th>hour_slot_Noon</th>\n",
       "      <th>hour_slot_Eve</th>\n",
       "      <th>hour_slot_Night</th>\n",
       "    </tr>\n",
       "  </thead>\n",
       "  <tbody>\n",
       "    <tr>\n",
       "      <th>0</th>\n",
       "      <td>0.111111</td>\n",
       "      <td>0.933333</td>\n",
       "      <td>0.695652</td>\n",
       "      <td>0.230663</td>\n",
       "      <td>1.0</td>\n",
       "      <td>0.0</td>\n",
       "      <td>0.0</td>\n",
       "      <td>0.0</td>\n",
       "      <td>0.0</td>\n",
       "      <td>1.0</td>\n",
       "      <td>0.0</td>\n",
       "      <td>0.0</td>\n",
       "    </tr>\n",
       "    <tr>\n",
       "      <th>1</th>\n",
       "      <td>0.222222</td>\n",
       "      <td>0.333333</td>\n",
       "      <td>1.000000</td>\n",
       "      <td>0.794308</td>\n",
       "      <td>1.0</td>\n",
       "      <td>0.0</td>\n",
       "      <td>0.0</td>\n",
       "      <td>0.0</td>\n",
       "      <td>0.0</td>\n",
       "      <td>0.0</td>\n",
       "      <td>0.0</td>\n",
       "      <td>1.0</td>\n",
       "    </tr>\n",
       "    <tr>\n",
       "      <th>2</th>\n",
       "      <td>0.222222</td>\n",
       "      <td>0.666667</td>\n",
       "      <td>0.739130</td>\n",
       "      <td>1.000000</td>\n",
       "      <td>1.0</td>\n",
       "      <td>0.0</td>\n",
       "      <td>0.0</td>\n",
       "      <td>0.0</td>\n",
       "      <td>0.0</td>\n",
       "      <td>0.0</td>\n",
       "      <td>1.0</td>\n",
       "      <td>0.0</td>\n",
       "    </tr>\n",
       "    <tr>\n",
       "      <th>3</th>\n",
       "      <td>0.666667</td>\n",
       "      <td>0.133333</td>\n",
       "      <td>0.391304</td>\n",
       "      <td>0.454199</td>\n",
       "      <td>1.0</td>\n",
       "      <td>0.0</td>\n",
       "      <td>0.0</td>\n",
       "      <td>0.0</td>\n",
       "      <td>1.0</td>\n",
       "      <td>0.0</td>\n",
       "      <td>0.0</td>\n",
       "      <td>0.0</td>\n",
       "    </tr>\n",
       "    <tr>\n",
       "      <th>4</th>\n",
       "      <td>0.111111</td>\n",
       "      <td>0.533333</td>\n",
       "      <td>0.260870</td>\n",
       "      <td>0.832671</td>\n",
       "      <td>1.0</td>\n",
       "      <td>0.0</td>\n",
       "      <td>0.0</td>\n",
       "      <td>1.0</td>\n",
       "      <td>0.0</td>\n",
       "      <td>0.0</td>\n",
       "      <td>0.0</td>\n",
       "      <td>0.0</td>\n",
       "    </tr>\n",
       "  </tbody>\n",
       "</table>\n",
       "</div>"
      ],
      "text/plain": [
       "   passenger_count  day_of_month      hour  distance  store_and_fwd_flag_N  \\\n",
       "0         0.111111      0.933333  0.695652  0.230663                   1.0   \n",
       "1         0.222222      0.333333  1.000000  0.794308                   1.0   \n",
       "2         0.222222      0.666667  0.739130  1.000000                   1.0   \n",
       "3         0.666667      0.133333  0.391304  0.454199                   1.0   \n",
       "4         0.111111      0.533333  0.260870  0.832671                   1.0   \n",
       "\n",
       "   store_and_fwd_flag_Y  hour_slot_Late Night  hour_slot_Early Morning  \\\n",
       "0                   0.0                   0.0                      0.0   \n",
       "1                   0.0                   0.0                      0.0   \n",
       "2                   0.0                   0.0                      0.0   \n",
       "3                   0.0                   0.0                      0.0   \n",
       "4                   0.0                   0.0                      1.0   \n",
       "\n",
       "   hour_slot_Morning  hour_slot_Noon  hour_slot_Eve  hour_slot_Night  \n",
       "0                0.0             1.0            0.0              0.0  \n",
       "1                0.0             0.0            0.0              1.0  \n",
       "2                0.0             0.0            1.0              0.0  \n",
       "3                1.0             0.0            0.0              0.0  \n",
       "4                0.0             0.0            0.0              0.0  "
      ]
     },
     "execution_count": 48,
     "metadata": {},
     "output_type": "execute_result"
    }
   ],
   "source": [
    "X = X.drop(X.filter(like='day_name', axis=1).columns.values, axis=1)\n",
    "X = X.drop(X.filter(like='vendor_id', axis=1).columns.values, axis=1)\n",
    "X.head()"
   ]
  },
  {
   "cell_type": "code",
   "execution_count": 49,
   "metadata": {},
   "outputs": [],
   "source": [
    "# Split into train and test\n",
    "train_X,test_X,train_y,test_y = model_selection.train_test_split(X,y_log, random_state = 100)"
   ]
  },
  {
   "cell_type": "code",
   "execution_count": 50,
   "metadata": {},
   "outputs": [],
   "source": [
    "# call the regression model function\n",
    "test_yhat,test_err,train_yhat,train_err,coef = funcLR(train_X,train_y,test_X,test_y,'mae')"
   ]
  },
  {
   "cell_type": "code",
   "execution_count": 51,
   "metadata": {},
   "outputs": [
    {
     "name": "stdout",
     "output_type": "stream",
     "text": [
      "Test Mean Absolute Error     : 388.0337117152283\n",
      "Training Mean Absolute Error : 390.50212542013753\n"
     ]
    }
   ],
   "source": [
    "# train err and test err - \n",
    "\n",
    "print('Test Mean Absolute Error     :', metrics.mean_absolute_error(np.exp(test_y),np.exp(test_yhat)) )\n",
    "print('Training Mean Absolute Error :', metrics.mean_absolute_error(np.exp(train_y),np.exp(train_yhat)) )"
   ]
  },
  {
   "cell_type": "markdown",
   "metadata": {},
   "source": [
    "The train and test MAE has increased a bit."
   ]
  },
  {
   "cell_type": "code",
   "execution_count": 52,
   "metadata": {},
   "outputs": [
    {
     "data": {
      "text/html": [
       "<div>\n",
       "<style scoped>\n",
       "    .dataframe tbody tr th:only-of-type {\n",
       "        vertical-align: middle;\n",
       "    }\n",
       "\n",
       "    .dataframe tbody tr th {\n",
       "        vertical-align: top;\n",
       "    }\n",
       "\n",
       "    .dataframe thead th {\n",
       "        text-align: right;\n",
       "    }\n",
       "</style>\n",
       "<table border=\"1\" class=\"dataframe\">\n",
       "  <thead>\n",
       "    <tr style=\"text-align: right;\">\n",
       "      <th></th>\n",
       "      <th>Col</th>\n",
       "      <th>Coef</th>\n",
       "    </tr>\n",
       "  </thead>\n",
       "  <tbody>\n",
       "    <tr>\n",
       "      <th>0</th>\n",
       "      <td>passenger_count</td>\n",
       "      <td>6.543370e-02</td>\n",
       "    </tr>\n",
       "    <tr>\n",
       "      <th>1</th>\n",
       "      <td>day_of_month</td>\n",
       "      <td>1.690477e-02</td>\n",
       "    </tr>\n",
       "    <tr>\n",
       "      <th>2</th>\n",
       "      <td>hour</td>\n",
       "      <td>-9.788712e-02</td>\n",
       "    </tr>\n",
       "    <tr>\n",
       "      <th>3</th>\n",
       "      <td>distance</td>\n",
       "      <td>1.860938e+00</td>\n",
       "    </tr>\n",
       "    <tr>\n",
       "      <th>4</th>\n",
       "      <td>store_and_fwd_flag_N</td>\n",
       "      <td>-9.625343e+11</td>\n",
       "    </tr>\n",
       "  </tbody>\n",
       "</table>\n",
       "</div>"
      ],
      "text/plain": [
       "                    Col          Coef\n",
       "0       passenger_count  6.543370e-02\n",
       "1          day_of_month  1.690477e-02\n",
       "2                  hour -9.788712e-02\n",
       "3              distance  1.860938e+00\n",
       "4  store_and_fwd_flag_N -9.625343e+11"
      ]
     },
     "execution_count": 52,
     "metadata": {},
     "output_type": "execute_result"
    }
   ],
   "source": [
    "# Create a df of the co-efficients and plot it\n",
    "df_coef = pd.DataFrame({\n",
    "    'Col'  : train_X.columns,\n",
    "    'Coef' : coef\n",
    "})\n",
    "df_coef.head()"
   ]
  },
  {
   "cell_type": "code",
   "execution_count": 53,
   "metadata": {},
   "outputs": [
    {
     "data": {
      "text/plain": [
       "<AxesSubplot:xlabel='Coef', ylabel='Col'>"
      ]
     },
     "execution_count": 53,
     "metadata": {},
     "output_type": "execute_result"
    },
    {
     "data": {
      "image/png": "[encoded data removed]",
      "text/plain": [
       "<Figure size 864x576 with 1 Axes>"
      ]
     },
     "metadata": {
      "needs_background": "light"
     },
     "output_type": "display_data"
    }
   ],
   "source": [
    "plt.figure(figsize=(12,8))\n",
    "sns.barplot(x='Coef', y='Col', data=df_coef,palette='Blues') #color='light green',saturation=.4)"
   ]
  },
  {
   "cell_type": "code",
   "execution_count": 54,
   "metadata": {},
   "outputs": [
    {
     "data": {
      "text/html": [
       "<div>\n",
       "<style scoped>\n",
       "    .dataframe tbody tr th:only-of-type {\n",
       "        vertical-align: middle;\n",
       "    }\n",
       "\n",
       "    .dataframe tbody tr th {\n",
       "        vertical-align: top;\n",
       "    }\n",
       "\n",
       "    .dataframe thead th {\n",
       "        text-align: right;\n",
       "    }\n",
       "</style>\n",
       "<table border=\"1\" class=\"dataframe\">\n",
       "  <thead>\n",
       "    <tr style=\"text-align: right;\">\n",
       "      <th></th>\n",
       "      <th>Col</th>\n",
       "      <th>Coef</th>\n",
       "    </tr>\n",
       "  </thead>\n",
       "  <tbody>\n",
       "    <tr>\n",
       "      <th>0</th>\n",
       "      <td>passenger_count</td>\n",
       "      <td>6.543370e-02</td>\n",
       "    </tr>\n",
       "    <tr>\n",
       "      <th>1</th>\n",
       "      <td>day_of_month</td>\n",
       "      <td>1.690477e-02</td>\n",
       "    </tr>\n",
       "    <tr>\n",
       "      <th>3</th>\n",
       "      <td>distance</td>\n",
       "      <td>1.860938e+00</td>\n",
       "    </tr>\n",
       "    <tr>\n",
       "      <th>6</th>\n",
       "      <td>hour_slot_Late Night</td>\n",
       "      <td>2.235703e+11</td>\n",
       "    </tr>\n",
       "    <tr>\n",
       "      <th>7</th>\n",
       "      <td>hour_slot_Early Morning</td>\n",
       "      <td>2.235703e+11</td>\n",
       "    </tr>\n",
       "    <tr>\n",
       "      <th>8</th>\n",
       "      <td>hour_slot_Morning</td>\n",
       "      <td>2.235703e+11</td>\n",
       "    </tr>\n",
       "    <tr>\n",
       "      <th>9</th>\n",
       "      <td>hour_slot_Noon</td>\n",
       "      <td>2.235703e+11</td>\n",
       "    </tr>\n",
       "    <tr>\n",
       "      <th>10</th>\n",
       "      <td>hour_slot_Eve</td>\n",
       "      <td>2.235703e+11</td>\n",
       "    </tr>\n",
       "    <tr>\n",
       "      <th>11</th>\n",
       "      <td>hour_slot_Night</td>\n",
       "      <td>2.235703e+11</td>\n",
       "    </tr>\n",
       "  </tbody>\n",
       "</table>\n",
       "</div>"
      ],
      "text/plain": [
       "                        Col          Coef\n",
       "0           passenger_count  6.543370e-02\n",
       "1              day_of_month  1.690477e-02\n",
       "3                  distance  1.860938e+00\n",
       "6      hour_slot_Late Night  2.235703e+11\n",
       "7   hour_slot_Early Morning  2.235703e+11\n",
       "8         hour_slot_Morning  2.235703e+11\n",
       "9            hour_slot_Noon  2.235703e+11\n",
       "10            hour_slot_Eve  2.235703e+11\n",
       "11          hour_slot_Night  2.235703e+11"
      ]
     },
     "execution_count": 54,
     "metadata": {},
     "output_type": "execute_result"
    }
   ],
   "source": [
    "# Lets drop the columns with smaller coeffs and model it again\n",
    "# Drop  coeffs smaller than .5\n",
    "#sig_var = df_coef[df_coef.Coef.abs() >= 8]\n",
    "sig_var = df_coef[df_coef.Coef >= 0.005]\n",
    "sig_var"
   ]
  },
  {
   "cell_type": "code",
   "execution_count": 55,
   "metadata": {},
   "outputs": [
    {
     "data": {
      "text/html": [
       "<div>\n",
       "<style scoped>\n",
       "    .dataframe tbody tr th:only-of-type {\n",
       "        vertical-align: middle;\n",
       "    }\n",
       "\n",
       "    .dataframe tbody tr th {\n",
       "        vertical-align: top;\n",
       "    }\n",
       "\n",
       "    .dataframe thead th {\n",
       "        text-align: right;\n",
       "    }\n",
       "</style>\n",
       "<table border=\"1\" class=\"dataframe\">\n",
       "  <thead>\n",
       "    <tr style=\"text-align: right;\">\n",
       "      <th></th>\n",
       "      <th>passenger_count</th>\n",
       "      <th>day_of_month</th>\n",
       "      <th>distance</th>\n",
       "      <th>hour_slot_Late Night</th>\n",
       "      <th>hour_slot_Early Morning</th>\n",
       "      <th>hour_slot_Morning</th>\n",
       "      <th>hour_slot_Noon</th>\n",
       "      <th>hour_slot_Eve</th>\n",
       "      <th>hour_slot_Night</th>\n",
       "    </tr>\n",
       "  </thead>\n",
       "  <tbody>\n",
       "    <tr>\n",
       "      <th>0</th>\n",
       "      <td>0.111111</td>\n",
       "      <td>0.933333</td>\n",
       "      <td>0.230663</td>\n",
       "      <td>0.0</td>\n",
       "      <td>0.0</td>\n",
       "      <td>0.0</td>\n",
       "      <td>1.0</td>\n",
       "      <td>0.0</td>\n",
       "      <td>0.0</td>\n",
       "    </tr>\n",
       "    <tr>\n",
       "      <th>1</th>\n",
       "      <td>0.222222</td>\n",
       "      <td>0.333333</td>\n",
       "      <td>0.794308</td>\n",
       "      <td>0.0</td>\n",
       "      <td>0.0</td>\n",
       "      <td>0.0</td>\n",
       "      <td>0.0</td>\n",
       "      <td>0.0</td>\n",
       "      <td>1.0</td>\n",
       "    </tr>\n",
       "    <tr>\n",
       "      <th>2</th>\n",
       "      <td>0.222222</td>\n",
       "      <td>0.666667</td>\n",
       "      <td>1.000000</td>\n",
       "      <td>0.0</td>\n",
       "      <td>0.0</td>\n",
       "      <td>0.0</td>\n",
       "      <td>0.0</td>\n",
       "      <td>1.0</td>\n",
       "      <td>0.0</td>\n",
       "    </tr>\n",
       "    <tr>\n",
       "      <th>3</th>\n",
       "      <td>0.666667</td>\n",
       "      <td>0.133333</td>\n",
       "      <td>0.454199</td>\n",
       "      <td>0.0</td>\n",
       "      <td>0.0</td>\n",
       "      <td>1.0</td>\n",
       "      <td>0.0</td>\n",
       "      <td>0.0</td>\n",
       "      <td>0.0</td>\n",
       "    </tr>\n",
       "    <tr>\n",
       "      <th>4</th>\n",
       "      <td>0.111111</td>\n",
       "      <td>0.533333</td>\n",
       "      <td>0.832671</td>\n",
       "      <td>0.0</td>\n",
       "      <td>1.0</td>\n",
       "      <td>0.0</td>\n",
       "      <td>0.0</td>\n",
       "      <td>0.0</td>\n",
       "      <td>0.0</td>\n",
       "    </tr>\n",
       "  </tbody>\n",
       "</table>\n",
       "</div>"
      ],
      "text/plain": [
       "   passenger_count  day_of_month  distance  hour_slot_Late Night  \\\n",
       "0         0.111111      0.933333  0.230663                   0.0   \n",
       "1         0.222222      0.333333  0.794308                   0.0   \n",
       "2         0.222222      0.666667  1.000000                   0.0   \n",
       "3         0.666667      0.133333  0.454199                   0.0   \n",
       "4         0.111111      0.533333  0.832671                   0.0   \n",
       "\n",
       "   hour_slot_Early Morning  hour_slot_Morning  hour_slot_Noon  hour_slot_Eve  \\\n",
       "0                      0.0                0.0             1.0            0.0   \n",
       "1                      0.0                0.0             0.0            0.0   \n",
       "2                      0.0                0.0             0.0            1.0   \n",
       "3                      0.0                1.0             0.0            0.0   \n",
       "4                      1.0                0.0             0.0            0.0   \n",
       "\n",
       "   hour_slot_Night  \n",
       "0              0.0  \n",
       "1              1.0  \n",
       "2              0.0  \n",
       "3              0.0  \n",
       "4              0.0  "
      ]
     },
     "execution_count": 55,
     "metadata": {},
     "output_type": "execute_result"
    }
   ],
   "source": [
    "# Filter the significant columns\n",
    "subset = X[sig_var['Col'].values]\n",
    "subset.head()"
   ]
  },
  {
   "cell_type": "code",
   "execution_count": 56,
   "metadata": {},
   "outputs": [],
   "source": [
    "train_X,test_X,train_y,test_y = model_selection.train_test_split(subset,y_log, random_state = 100)"
   ]
  },
  {
   "cell_type": "code",
   "execution_count": 57,
   "metadata": {},
   "outputs": [],
   "source": [
    "# call the regression model function\n",
    "test_yhat,test_err,train_yhat,train_err,coef = funcLR(train_X,train_y,test_X,test_y,'mae')"
   ]
  },
  {
   "cell_type": "code",
   "execution_count": 58,
   "metadata": {},
   "outputs": [
    {
     "name": "stdout",
     "output_type": "stream",
     "text": [
      "Test Mean Absolute Error     : 388.0921997449792\n",
      "Training Mean Absolute Error : 390.56958484692376\n"
     ]
    }
   ],
   "source": [
    "# train err and test err - \n",
    "print('Test Mean Absolute Error     :', metrics.mean_absolute_error(np.exp(test_y),np.exp(test_yhat)) )\n",
    "print('Training Mean Absolute Error :', metrics.mean_absolute_error(np.exp(train_y),np.exp(train_yhat)) )"
   ]
  },
  {
   "cell_type": "markdown",
   "metadata": {},
   "source": [
    "MAE almost remains same with less number of columns, so dropped columns were not adding much "
   ]
  },
  {
   "cell_type": "code",
   "execution_count": 59,
   "metadata": {},
   "outputs": [
    {
     "data": {
      "text/html": [
       "<div>\n",
       "<style scoped>\n",
       "    .dataframe tbody tr th:only-of-type {\n",
       "        vertical-align: middle;\n",
       "    }\n",
       "\n",
       "    .dataframe tbody tr th {\n",
       "        vertical-align: top;\n",
       "    }\n",
       "\n",
       "    .dataframe thead th {\n",
       "        text-align: right;\n",
       "    }\n",
       "</style>\n",
       "<table border=\"1\" class=\"dataframe\">\n",
       "  <thead>\n",
       "    <tr style=\"text-align: right;\">\n",
       "      <th></th>\n",
       "      <th>Col</th>\n",
       "      <th>Coef</th>\n",
       "    </tr>\n",
       "  </thead>\n",
       "  <tbody>\n",
       "    <tr>\n",
       "      <th>0</th>\n",
       "      <td>passenger_count</td>\n",
       "      <td>6.464441e-02</td>\n",
       "    </tr>\n",
       "    <tr>\n",
       "      <th>1</th>\n",
       "      <td>day_of_month</td>\n",
       "      <td>1.689196e-02</td>\n",
       "    </tr>\n",
       "    <tr>\n",
       "      <th>2</th>\n",
       "      <td>distance</td>\n",
       "      <td>1.860591e+00</td>\n",
       "    </tr>\n",
       "    <tr>\n",
       "      <th>3</th>\n",
       "      <td>hour_slot_Late Night</td>\n",
       "      <td>2.330008e+10</td>\n",
       "    </tr>\n",
       "    <tr>\n",
       "      <th>4</th>\n",
       "      <td>hour_slot_Early Morning</td>\n",
       "      <td>2.330008e+10</td>\n",
       "    </tr>\n",
       "  </tbody>\n",
       "</table>\n",
       "</div>"
      ],
      "text/plain": [
       "                       Col          Coef\n",
       "0          passenger_count  6.464441e-02\n",
       "1             day_of_month  1.689196e-02\n",
       "2                 distance  1.860591e+00\n",
       "3     hour_slot_Late Night  2.330008e+10\n",
       "4  hour_slot_Early Morning  2.330008e+10"
      ]
     },
     "execution_count": 59,
     "metadata": {},
     "output_type": "execute_result"
    }
   ],
   "source": [
    "# Create a df of the co-efficients and plot it\n",
    "df_coef = pd.DataFrame({\n",
    "    'Col'  : train_X.columns,\n",
    "    'Coef' : coef\n",
    "})\n",
    "df_coef.head()"
   ]
  },
  {
   "cell_type": "code",
   "execution_count": 60,
   "metadata": {},
   "outputs": [
    {
     "data": {
      "text/plain": [
       "<AxesSubplot:xlabel='Coef', ylabel='Col'>"
      ]
     },
     "execution_count": 60,
     "metadata": {},
     "output_type": "execute_result"
    },
    {
     "data": {
      "image/png": "[encoded data removed]",
      "text/plain": [
       "<Figure size 864x720 with 1 Axes>"
      ]
     },
     "metadata": {
      "needs_background": "light"
     },
     "output_type": "display_data"
    }
   ],
   "source": [
    "plt.figure(figsize=(12,10))\n",
    "sns.barplot(x='Coef', y='Col', data=df_coef,palette='BuGn')"
   ]
  },
  {
   "cell_type": "markdown",
   "metadata": {
    "colab_type": "text",
    "id": "6Go_VU3igLFl"
   },
   "source": [
    "## Checking assumptions of Linear Model"
   ]
  },
  {
   "cell_type": "code",
   "execution_count": 61,
   "metadata": {
    "colab": {
     "base_uri": "https://localhost:8080/",
     "height": 204
    },
    "colab_type": "code",
    "executionInfo": {
     "elapsed": 3163,
     "status": "ok",
     "timestamp": 1559646190733,
     "user": {
      "displayName": "Sharoon Saxena",
      "photoUrl": "",
      "userId": "14774175216384036942"
     },
     "user_tz": -330
    },
    "id": "Lx_yVB9Hf9ga",
    "outputId": "126bd569-abf1-4bdc-a70c-e568577b4387"
   },
   "outputs": [],
   "source": [
    "# Arranging and calculating the Residuals\n",
    "residuals = pd.DataFrame({\n",
    "    'fitted values' : train_y,\n",
    "    'predicted values' : train_yhat,\n",
    "})\n",
    "\n",
    "residuals['residuals'] = residuals['fitted values'] - residuals['predicted values']"
   ]
  },
  {
   "cell_type": "markdown",
   "metadata": {
    "colab_type": "text",
    "id": "aCBOM01ghacE"
   },
   "source": [
    "### Plotting residual curve (Is there constant Variance OR Homoscedastic?)"
   ]
  },
  {
   "cell_type": "code",
   "execution_count": 62,
   "metadata": {
    "colab": {
     "base_uri": "https://localhost:8080/",
     "height": 680
    },
    "colab_type": "code",
    "executionInfo": {
     "elapsed": 4993,
     "status": "ok",
     "timestamp": 1559646192572,
     "user": {
      "displayName": "Sharoon Saxena",
      "photoUrl": "",
      "userId": "14774175216384036942"
     },
     "user_tz": -330
    },
    "id": "457Ll3y2g_Qn",
    "outputId": "c8af6074-22b5-4dd3-951b-a5be08455ed6"
   },
   "outputs": [
    {
     "name": "stderr",
     "output_type": "stream",
     "text": [
      "c:\\program files\\python38\\lib\\site-packages\\IPython\\core\\pylabtools.py:132: UserWarning: Creating legend with loc=\"best\" can be slow with large amounts of data.\n",
      "  fig.canvas.print_figure(bytes_io, **kw)\n"
     ]
    },
    {
     "data": {
      "image/png": "[encoded data removed]",
      "text/plain": [
       "<Figure size 1200x720 with 1 Axes>"
      ]
     },
     "metadata": {},
     "output_type": "display_data"
    }
   ],
   "source": [
    "plt.figure(figsize=(10, 6), dpi=120, facecolor='w', edgecolor='b')\n",
    "f = range(0,residuals.shape[0])\n",
    "k = [0 for i in range(0,residuals.shape[0])]\n",
    "plt.scatter( f, residuals.residuals[:], label = 'residuals',color = 'lightgreen')\n",
    "plt.plot( f, k , color = 'red', label = 'regression line' )\n",
    "plt.xlabel('fitted points ')\n",
    "plt.ylabel('residuals')\n",
    "plt.title('Residual plot')\n",
    "plt.ylim(residuals['residuals'].min(), residuals['residuals'].max())\n",
    "plt.legend();"
   ]
  },
  {
   "cell_type": "markdown",
   "metadata": {
    "colab_type": "text",
    "id": "dUPGh_txeju7"
   },
   "source": [
    "The Residual plot clearly Looks Homoscedastic, i.e. the the variance of the error across the dataset is nearly constant."
   ]
  },
  {
   "cell_type": "markdown",
   "metadata": {
    "colab_type": "text",
    "id": "KrwCPPdcUfby"
   },
   "source": [
    "### Checking Distribution of Residuals"
   ]
  },
  {
   "cell_type": "code",
   "execution_count": 63,
   "metadata": {
    "colab": {
     "base_uri": "https://localhost:8080/",
     "height": 663
    },
    "colab_type": "code",
    "executionInfo": {
     "elapsed": 4981,
     "status": "ok",
     "timestamp": 1559646192575,
     "user": {
      "displayName": "Sharoon Saxena",
      "photoUrl": "",
      "userId": "14774175216384036942"
     },
     "user_tz": -330
    },
    "id": "kzfrbW3viDdC",
    "outputId": "31513ee6-57db-467f-fbcb-576887d6ba37"
   },
   "outputs": [
    {
     "data": {
      "image/png": "[encoded data removed]",
      "text/plain": [
       "<Figure size 1200x720 with 1 Axes>"
      ]
     },
     "metadata": {},
     "output_type": "display_data"
    }
   ],
   "source": [
    "# Histogram for distribution\n",
    "plt.figure(figsize=(10, 6), dpi=120, facecolor='w', edgecolor='b')\n",
    "plt.hist(residuals.residuals,bins = 100,color = 'lightgreen')\n",
    "plt.xlabel('Error')\n",
    "plt.ylabel('Frequency')\n",
    "plt.title('Distribution of Error Terms')\n",
    "plt.show()"
   ]
  },
  {
   "cell_type": "markdown",
   "metadata": {
    "colab_type": "text",
    "id": "CmK7C1bte1zU"
   },
   "source": [
    "According to the Histogram, the distribution of error has outliers on the lower and higher end of the errors."
   ]
  },
  {
   "cell_type": "markdown",
   "metadata": {
    "colab_type": "text",
    "id": "UTUu_EwTUmf0"
   },
   "source": [
    "### QQ-Plot (Is the data Normally Distributed?)"
   ]
  },
  {
   "cell_type": "code",
   "execution_count": 64,
   "metadata": {
    "colab": {
     "base_uri": "https://localhost:8080/",
     "height": 573
    },
    "colab_type": "code",
    "executionInfo": {
     "elapsed": 6013,
     "status": "ok",
     "timestamp": 1559646193617,
     "user": {
      "displayName": "Sharoon Saxena",
      "photoUrl": "",
      "userId": "14774175216384036942"
     },
     "user_tz": -330
    },
    "id": "PHOiJGUKVE5u",
    "outputId": "ce527013-1585-4833-e4f0-7cbacb5d5a95"
   },
   "outputs": [
    {
     "data": {
      "image/png": "[encoded data removed]",
      "text/plain": [
       "<Figure size 600x600 with 1 Axes>"
      ]
     },
     "metadata": {
      "needs_background": "light"
     },
     "output_type": "display_data"
    }
   ],
   "source": [
    "# importing the QQ-plot from the from the statsmodels\n",
    "from statsmodels.graphics.gofplots import qqplot\n",
    "\n",
    "## Plotting the QQ plot\n",
    "fig, ax = plt.subplots(figsize=(5,5) , dpi = 120)\n",
    "qqplot(residuals.residuals, line = 's' , ax = ax,color = 'lightgreen')\n",
    "plt.ylabel('Residual Quantiles')\n",
    "plt.xlabel('Ideal Scaled Quantiles')\n",
    "plt.title('Checking distribution of Residual Errors')\n",
    "plt.show()"
   ]
  },
  {
   "cell_type": "markdown",
   "metadata": {
    "colab_type": "text",
    "id": "vv6r1ikegVD4"
   },
   "source": [
    "The QQ-plot clearly verifies our findings from the the histogram of the residuals, the data is mostly normal in nature, but there sre some outliers on the lower and higher end of the Residues."
   ]
  },
  {
   "cell_type": "markdown",
   "metadata": {
    "colab_type": "text",
    "id": "y_ull_aGYPwi"
   },
   "source": [
    "### Variance Inflation Factor (VIF) (Checking for multi collinearity)"
   ]
  },
  {
   "cell_type": "code",
   "execution_count": 65,
   "metadata": {
    "colab": {
     "base_uri": "https://localhost:8080/",
     "height": 850
    },
    "colab_type": "code",
    "executionInfo": {
     "elapsed": 6725,
     "status": "ok",
     "timestamp": 1559646194342,
     "user": {
      "displayName": "Sharoon Saxena",
      "photoUrl": "",
      "userId": "14774175216384036942"
     },
     "user_tz": -330
    },
    "id": "0dkJAXOfRSww",
    "outputId": "cabb509d-c840-4d05-c4e5-187e48d5f83b"
   },
   "outputs": [
    {
     "data": {
      "text/plain": [
       "passenger_count            1.000801\n",
       "day_of_month               1.000138\n",
       "distance                   1.018778\n",
       "hour_slot_Late Night       1.871563\n",
       "hour_slot_Early Morning    1.798225\n",
       "hour_slot_Morning          2.217228\n",
       "hour_slot_Noon             2.291310\n",
       "hour_slot_Eve              2.590104\n",
       "hour_slot_Night            2.223962\n",
       "dtype: float64"
      ]
     },
     "execution_count": 65,
     "metadata": {},
     "output_type": "execute_result"
    }
   ],
   "source": [
    "# Importing Variance_inflation_Factor funtion from the Statsmodels\n",
    "from statsmodels.stats.outliers_influence import variance_inflation_factor\n",
    "from statsmodels.tools.tools import add_constant\n",
    "\n",
    "# Calculating VIF for every column (only works for the not Catagorical)\n",
    "VIF = pd.Series([variance_inflation_factor(train_X.values, i) for i in range(train_X.shape[1])], index =train_X.columns)\n",
    "VIF"
   ]
  },
  {
   "cell_type": "markdown",
   "metadata": {},
   "source": [
    "**VIF is  less than 4**\n",
    "\n",
    "**All assumptions for linear regresison is satisfied**"
   ]
  },
  {
   "cell_type": "code",
   "execution_count": 66,
   "metadata": {},
   "outputs": [],
   "source": [
    "# Lets do k fold cross validation\n",
    "from sklearn.model_selection import cross_val_score"
   ]
  },
  {
   "cell_type": "code",
   "execution_count": 67,
   "metadata": {},
   "outputs": [
    {
     "data": {
      "text/plain": [
       "array([0.35896422, 0.35853068, 0.35967068, 0.35898784, 0.36102016])"
      ]
     },
     "execution_count": 67,
     "metadata": {},
     "output_type": "execute_result"
    }
   ],
   "source": [
    "lr = linear_model.LinearRegression()\n",
    "cv_scores = -cross_val_score(lr, subset,y_log, scoring='neg_mean_absolute_error', cv=5)\n",
    "cv_scores  "
   ]
  },
  {
   "cell_type": "code",
   "execution_count": 68,
   "metadata": {},
   "outputs": [
    {
     "data": {
      "text/plain": [
       "0.3594347166939351"
      ]
     },
     "execution_count": 68,
     "metadata": {},
     "output_type": "execute_result"
    }
   ],
   "source": [
    "cv_scores.mean()"
   ]
  },
  {
   "cell_type": "code",
   "execution_count": 69,
   "metadata": {},
   "outputs": [
    {
     "data": {
      "text/plain": [
       "1.4325194063338311"
      ]
     },
     "execution_count": 69,
     "metadata": {},
     "output_type": "execute_result"
    }
   ],
   "source": [
    "np.exp(cv_scores.mean())"
   ]
  },
  {
   "cell_type": "code",
   "execution_count": 70,
   "metadata": {},
   "outputs": [],
   "source": [
    "# cannot compare the score with earlier resuts"
   ]
  },
  {
   "cell_type": "code",
   "execution_count": 71,
   "metadata": {},
   "outputs": [
    {
     "data": {
      "text/plain": [
       "array([0.58068075, 0.57843136, 0.57567384, 0.57595249, 0.57285712])"
      ]
     },
     "execution_count": 71,
     "metadata": {},
     "output_type": "execute_result"
    }
   ],
   "source": [
    "cv_scores = cross_val_score(lr, subset,y_log, scoring='r2', cv=5)\n",
    "cv_scores"
   ]
  },
  {
   "cell_type": "code",
   "execution_count": 72,
   "metadata": {},
   "outputs": [
    {
     "data": {
      "text/plain": [
       "0.5767191118580994"
      ]
     },
     "execution_count": 72,
     "metadata": {},
     "output_type": "execute_result"
    }
   ],
   "source": [
    "cv_scores.mean()"
   ]
  },
  {
   "cell_type": "code",
   "execution_count": 73,
   "metadata": {},
   "outputs": [
    {
     "data": {
      "text/plain": [
       "['accuracy',\n",
       " 'adjusted_mutual_info_score',\n",
       " 'adjusted_rand_score',\n",
       " 'average_precision',\n",
       " 'balanced_accuracy',\n",
       " 'completeness_score',\n",
       " 'explained_variance',\n",
       " 'f1',\n",
       " 'f1_macro',\n",
       " 'f1_micro',\n",
       " 'f1_samples',\n",
       " 'f1_weighted',\n",
       " 'fowlkes_mallows_score',\n",
       " 'homogeneity_score',\n",
       " 'jaccard',\n",
       " 'jaccard_macro',\n",
       " 'jaccard_micro',\n",
       " 'jaccard_samples',\n",
       " 'jaccard_weighted',\n",
       " 'max_error',\n",
       " 'mutual_info_score',\n",
       " 'neg_brier_score',\n",
       " 'neg_log_loss',\n",
       " 'neg_mean_absolute_error',\n",
       " 'neg_mean_gamma_deviance',\n",
       " 'neg_mean_poisson_deviance',\n",
       " 'neg_mean_squared_error',\n",
       " 'neg_mean_squared_log_error',\n",
       " 'neg_median_absolute_error',\n",
       " 'neg_root_mean_squared_error',\n",
       " 'normalized_mutual_info_score',\n",
       " 'precision',\n",
       " 'precision_macro',\n",
       " 'precision_micro',\n",
       " 'precision_samples',\n",
       " 'precision_weighted',\n",
       " 'r2',\n",
       " 'recall',\n",
       " 'recall_macro',\n",
       " 'recall_micro',\n",
       " 'recall_samples',\n",
       " 'recall_weighted',\n",
       " 'roc_auc',\n",
       " 'roc_auc_ovo',\n",
       " 'roc_auc_ovo_weighted',\n",
       " 'roc_auc_ovr',\n",
       " 'roc_auc_ovr_weighted',\n",
       " 'v_measure_score']"
      ]
     },
     "execution_count": 73,
     "metadata": {},
     "output_type": "execute_result"
    }
   ],
   "source": [
    "# get all the scoring/errors\n",
    "import sklearn\n",
    "sorted(sklearn.metrics.SCORERS.keys())"
   ]
  },
  {
   "cell_type": "code",
   "execution_count": null,
   "metadata": {},
   "outputs": [],
   "source": []
  }
 ],
 "metadata": {
  "kernelspec": {
   "display_name": "Python 3",
   "language": "python",
   "name": "python3"
  },
  "language_info": {
   "codemirror_mode": {
    "name": "ipython",
    "version": 3
   },
   "file_extension": ".py",
   "mimetype": "text/x-python",
   "name": "python",
   "nbconvert_exporter": "python",
   "pygments_lexer": "ipython3",
   "version": "3.8.2"
  }
 },
 "nbformat": 4,
 "nbformat_minor": 4
}
