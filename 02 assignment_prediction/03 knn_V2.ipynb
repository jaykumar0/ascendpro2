{
 "cells": [
  {
   "cell_type": "code",
   "execution_count": 1,
   "metadata": {},
   "outputs": [],
   "source": [
    "# importing libraries\n",
    "import pandas as pd\n",
    "import numpy as np\n",
    "import matplotlib.pyplot as plt\n",
    "import seaborn as sns\n",
    "\n",
    "# for modelling\n",
    "from sklearn import metrics, preprocessing,model_selection\n",
    "from sklearn import neighbors"
   ]
  },
  {
   "cell_type": "code",
   "execution_count": 2,
   "metadata": {},
   "outputs": [],
   "source": [
    "# reading data\n",
    "df = pd.read_csv('data/nyc_taxi_trip_duration_processed.csv')"
   ]
  },
  {
   "cell_type": "code",
   "execution_count": 3,
   "metadata": {},
   "outputs": [
    {
     "data": {
      "text/plain": [
       "(729322, 23)"
      ]
     },
     "execution_count": 3,
     "metadata": {},
     "output_type": "execute_result"
    }
   ],
   "source": [
    "df.shape"
   ]
  },
  {
   "cell_type": "code",
   "execution_count": 4,
   "metadata": {},
   "outputs": [
    {
     "data": {
      "text/html": [
       "<div>\n",
       "<style scoped>\n",
       "    .dataframe tbody tr th:only-of-type {\n",
       "        vertical-align: middle;\n",
       "    }\n",
       "\n",
       "    .dataframe tbody tr th {\n",
       "        vertical-align: top;\n",
       "    }\n",
       "\n",
       "    .dataframe thead th {\n",
       "        text-align: right;\n",
       "    }\n",
       "</style>\n",
       "<table border=\"1\" class=\"dataframe\">\n",
       "  <thead>\n",
       "    <tr style=\"text-align: right;\">\n",
       "      <th></th>\n",
       "      <th>id</th>\n",
       "      <th>passenger_count</th>\n",
       "      <th>trip_duration</th>\n",
       "      <th>day_of_month</th>\n",
       "      <th>hour</th>\n",
       "      <th>distance</th>\n",
       "      <th>store_and_fwd_flag_N</th>\n",
       "      <th>store_and_fwd_flag_Y</th>\n",
       "      <th>day_name_Friday</th>\n",
       "      <th>day_name_Monday</th>\n",
       "      <th>...</th>\n",
       "      <th>day_name_Tuesday</th>\n",
       "      <th>day_name_Wednesday</th>\n",
       "      <th>hour_slot_Late Night</th>\n",
       "      <th>hour_slot_Early Morning</th>\n",
       "      <th>hour_slot_Morning</th>\n",
       "      <th>hour_slot_Noon</th>\n",
       "      <th>hour_slot_Eve</th>\n",
       "      <th>hour_slot_Night</th>\n",
       "      <th>vendor_id_1</th>\n",
       "      <th>vendor_id_2</th>\n",
       "    </tr>\n",
       "  </thead>\n",
       "  <tbody>\n",
       "    <tr>\n",
       "      <th>0</th>\n",
       "      <td>id1080784</td>\n",
       "      <td>1</td>\n",
       "      <td>400</td>\n",
       "      <td>29</td>\n",
       "      <td>16</td>\n",
       "      <td>1.199073</td>\n",
       "      <td>1</td>\n",
       "      <td>0</td>\n",
       "      <td>0</td>\n",
       "      <td>1</td>\n",
       "      <td>...</td>\n",
       "      <td>0</td>\n",
       "      <td>0</td>\n",
       "      <td>0</td>\n",
       "      <td>0</td>\n",
       "      <td>0</td>\n",
       "      <td>1</td>\n",
       "      <td>0</td>\n",
       "      <td>0</td>\n",
       "      <td>0</td>\n",
       "      <td>1</td>\n",
       "    </tr>\n",
       "    <tr>\n",
       "      <th>1</th>\n",
       "      <td>id0889885</td>\n",
       "      <td>2</td>\n",
       "      <td>1100</td>\n",
       "      <td>11</td>\n",
       "      <td>23</td>\n",
       "      <td>4.129111</td>\n",
       "      <td>1</td>\n",
       "      <td>0</td>\n",
       "      <td>1</td>\n",
       "      <td>0</td>\n",
       "      <td>...</td>\n",
       "      <td>0</td>\n",
       "      <td>0</td>\n",
       "      <td>0</td>\n",
       "      <td>0</td>\n",
       "      <td>0</td>\n",
       "      <td>0</td>\n",
       "      <td>0</td>\n",
       "      <td>1</td>\n",
       "      <td>1</td>\n",
       "      <td>0</td>\n",
       "    </tr>\n",
       "    <tr>\n",
       "      <th>2</th>\n",
       "      <td>id0857912</td>\n",
       "      <td>2</td>\n",
       "      <td>1635</td>\n",
       "      <td>21</td>\n",
       "      <td>17</td>\n",
       "      <td>5.198374</td>\n",
       "      <td>1</td>\n",
       "      <td>0</td>\n",
       "      <td>0</td>\n",
       "      <td>0</td>\n",
       "      <td>...</td>\n",
       "      <td>0</td>\n",
       "      <td>0</td>\n",
       "      <td>0</td>\n",
       "      <td>0</td>\n",
       "      <td>0</td>\n",
       "      <td>0</td>\n",
       "      <td>1</td>\n",
       "      <td>0</td>\n",
       "      <td>0</td>\n",
       "      <td>1</td>\n",
       "    </tr>\n",
       "    <tr>\n",
       "      <th>3</th>\n",
       "      <td>id3744273</td>\n",
       "      <td>6</td>\n",
       "      <td>1141</td>\n",
       "      <td>5</td>\n",
       "      <td>9</td>\n",
       "      <td>2.361097</td>\n",
       "      <td>1</td>\n",
       "      <td>0</td>\n",
       "      <td>0</td>\n",
       "      <td>0</td>\n",
       "      <td>...</td>\n",
       "      <td>1</td>\n",
       "      <td>0</td>\n",
       "      <td>0</td>\n",
       "      <td>0</td>\n",
       "      <td>1</td>\n",
       "      <td>0</td>\n",
       "      <td>0</td>\n",
       "      <td>0</td>\n",
       "      <td>0</td>\n",
       "      <td>1</td>\n",
       "    </tr>\n",
       "    <tr>\n",
       "      <th>4</th>\n",
       "      <td>id0232939</td>\n",
       "      <td>1</td>\n",
       "      <td>848</td>\n",
       "      <td>17</td>\n",
       "      <td>6</td>\n",
       "      <td>4.328534</td>\n",
       "      <td>1</td>\n",
       "      <td>0</td>\n",
       "      <td>0</td>\n",
       "      <td>0</td>\n",
       "      <td>...</td>\n",
       "      <td>0</td>\n",
       "      <td>1</td>\n",
       "      <td>0</td>\n",
       "      <td>1</td>\n",
       "      <td>0</td>\n",
       "      <td>0</td>\n",
       "      <td>0</td>\n",
       "      <td>0</td>\n",
       "      <td>1</td>\n",
       "      <td>0</td>\n",
       "    </tr>\n",
       "  </tbody>\n",
       "</table>\n",
       "<p>5 rows × 23 columns</p>\n",
       "</div>"
      ],
      "text/plain": [
       "          id  passenger_count  trip_duration  day_of_month  hour  distance  \\\n",
       "0  id1080784                1            400            29    16  1.199073   \n",
       "1  id0889885                2           1100            11    23  4.129111   \n",
       "2  id0857912                2           1635            21    17  5.198374   \n",
       "3  id3744273                6           1141             5     9  2.361097   \n",
       "4  id0232939                1            848            17     6  4.328534   \n",
       "\n",
       "   store_and_fwd_flag_N  store_and_fwd_flag_Y  day_name_Friday  \\\n",
       "0                     1                     0                0   \n",
       "1                     1                     0                1   \n",
       "2                     1                     0                0   \n",
       "3                     1                     0                0   \n",
       "4                     1                     0                0   \n",
       "\n",
       "   day_name_Monday  ...  day_name_Tuesday  day_name_Wednesday  \\\n",
       "0                1  ...                 0                   0   \n",
       "1                0  ...                 0                   0   \n",
       "2                0  ...                 0                   0   \n",
       "3                0  ...                 1                   0   \n",
       "4                0  ...                 0                   1   \n",
       "\n",
       "   hour_slot_Late Night  hour_slot_Early Morning  hour_slot_Morning  \\\n",
       "0                     0                        0                  0   \n",
       "1                     0                        0                  0   \n",
       "2                     0                        0                  0   \n",
       "3                     0                        0                  1   \n",
       "4                     0                        1                  0   \n",
       "\n",
       "   hour_slot_Noon  hour_slot_Eve  hour_slot_Night  vendor_id_1  vendor_id_2  \n",
       "0               1              0                0            0            1  \n",
       "1               0              0                1            1            0  \n",
       "2               0              1                0            0            1  \n",
       "3               0              0                0            0            1  \n",
       "4               0              0                0            1            0  \n",
       "\n",
       "[5 rows x 23 columns]"
      ]
     },
     "execution_count": 4,
     "metadata": {},
     "output_type": "execute_result"
    }
   ],
   "source": [
    "df.head()"
   ]
  },
  {
   "cell_type": "code",
   "execution_count": 5,
   "metadata": {},
   "outputs": [
    {
     "data": {
      "text/plain": [
       "(60000, 23)"
      ]
     },
     "execution_count": 5,
     "metadata": {},
     "output_type": "execute_result"
    }
   ],
   "source": [
    "# Run  knn on a subset of data first, otherwise takes a v long time to finish\n",
    "df_subset = df[:60000]\n",
    "df_subset.shape"
   ]
  },
  {
   "cell_type": "markdown",
   "metadata": {},
   "source": [
    "**seperating independent and dependent variables**"
   ]
  },
  {
   "cell_type": "code",
   "execution_count": 6,
   "metadata": {},
   "outputs": [
    {
     "data": {
      "text/plain": [
       "((60000, 21), (60000,))"
      ]
     },
     "execution_count": 6,
     "metadata": {},
     "output_type": "execute_result"
    }
   ],
   "source": [
    "X = df_subset.drop(['id','trip_duration'], axis=1)\n",
    "y = df_subset['trip_duration']\n",
    "X.shape, y.shape"
   ]
  },
  {
   "cell_type": "code",
   "execution_count": 7,
   "metadata": {},
   "outputs": [
    {
     "data": {
      "text/html": [
       "<div>\n",
       "<style scoped>\n",
       "    .dataframe tbody tr th:only-of-type {\n",
       "        vertical-align: middle;\n",
       "    }\n",
       "\n",
       "    .dataframe tbody tr th {\n",
       "        vertical-align: top;\n",
       "    }\n",
       "\n",
       "    .dataframe thead th {\n",
       "        text-align: right;\n",
       "    }\n",
       "</style>\n",
       "<table border=\"1\" class=\"dataframe\">\n",
       "  <thead>\n",
       "    <tr style=\"text-align: right;\">\n",
       "      <th></th>\n",
       "      <th>passenger_count</th>\n",
       "      <th>day_of_month</th>\n",
       "      <th>hour</th>\n",
       "      <th>distance</th>\n",
       "      <th>store_and_fwd_flag_N</th>\n",
       "      <th>store_and_fwd_flag_Y</th>\n",
       "      <th>day_name_Friday</th>\n",
       "      <th>day_name_Monday</th>\n",
       "      <th>day_name_Saturday</th>\n",
       "      <th>day_name_Sunday</th>\n",
       "      <th>...</th>\n",
       "      <th>day_name_Tuesday</th>\n",
       "      <th>day_name_Wednesday</th>\n",
       "      <th>hour_slot_Late Night</th>\n",
       "      <th>hour_slot_Early Morning</th>\n",
       "      <th>hour_slot_Morning</th>\n",
       "      <th>hour_slot_Noon</th>\n",
       "      <th>hour_slot_Eve</th>\n",
       "      <th>hour_slot_Night</th>\n",
       "      <th>vendor_id_1</th>\n",
       "      <th>vendor_id_2</th>\n",
       "    </tr>\n",
       "  </thead>\n",
       "  <tbody>\n",
       "    <tr>\n",
       "      <th>0</th>\n",
       "      <td>0.166667</td>\n",
       "      <td>0.933333</td>\n",
       "      <td>0.695652</td>\n",
       "      <td>0.230663</td>\n",
       "      <td>1.0</td>\n",
       "      <td>0.0</td>\n",
       "      <td>0.0</td>\n",
       "      <td>1.0</td>\n",
       "      <td>0.0</td>\n",
       "      <td>0.0</td>\n",
       "      <td>...</td>\n",
       "      <td>0.0</td>\n",
       "      <td>0.0</td>\n",
       "      <td>0.0</td>\n",
       "      <td>0.0</td>\n",
       "      <td>0.0</td>\n",
       "      <td>1.0</td>\n",
       "      <td>0.0</td>\n",
       "      <td>0.0</td>\n",
       "      <td>0.0</td>\n",
       "      <td>1.0</td>\n",
       "    </tr>\n",
       "    <tr>\n",
       "      <th>1</th>\n",
       "      <td>0.333333</td>\n",
       "      <td>0.333333</td>\n",
       "      <td>1.000000</td>\n",
       "      <td>0.794308</td>\n",
       "      <td>1.0</td>\n",
       "      <td>0.0</td>\n",
       "      <td>1.0</td>\n",
       "      <td>0.0</td>\n",
       "      <td>0.0</td>\n",
       "      <td>0.0</td>\n",
       "      <td>...</td>\n",
       "      <td>0.0</td>\n",
       "      <td>0.0</td>\n",
       "      <td>0.0</td>\n",
       "      <td>0.0</td>\n",
       "      <td>0.0</td>\n",
       "      <td>0.0</td>\n",
       "      <td>0.0</td>\n",
       "      <td>1.0</td>\n",
       "      <td>1.0</td>\n",
       "      <td>0.0</td>\n",
       "    </tr>\n",
       "    <tr>\n",
       "      <th>2</th>\n",
       "      <td>0.333333</td>\n",
       "      <td>0.666667</td>\n",
       "      <td>0.739130</td>\n",
       "      <td>1.000000</td>\n",
       "      <td>1.0</td>\n",
       "      <td>0.0</td>\n",
       "      <td>0.0</td>\n",
       "      <td>0.0</td>\n",
       "      <td>0.0</td>\n",
       "      <td>1.0</td>\n",
       "      <td>...</td>\n",
       "      <td>0.0</td>\n",
       "      <td>0.0</td>\n",
       "      <td>0.0</td>\n",
       "      <td>0.0</td>\n",
       "      <td>0.0</td>\n",
       "      <td>0.0</td>\n",
       "      <td>1.0</td>\n",
       "      <td>0.0</td>\n",
       "      <td>0.0</td>\n",
       "      <td>1.0</td>\n",
       "    </tr>\n",
       "    <tr>\n",
       "      <th>3</th>\n",
       "      <td>1.000000</td>\n",
       "      <td>0.133333</td>\n",
       "      <td>0.391304</td>\n",
       "      <td>0.454199</td>\n",
       "      <td>1.0</td>\n",
       "      <td>0.0</td>\n",
       "      <td>0.0</td>\n",
       "      <td>0.0</td>\n",
       "      <td>0.0</td>\n",
       "      <td>0.0</td>\n",
       "      <td>...</td>\n",
       "      <td>1.0</td>\n",
       "      <td>0.0</td>\n",
       "      <td>0.0</td>\n",
       "      <td>0.0</td>\n",
       "      <td>1.0</td>\n",
       "      <td>0.0</td>\n",
       "      <td>0.0</td>\n",
       "      <td>0.0</td>\n",
       "      <td>0.0</td>\n",
       "      <td>1.0</td>\n",
       "    </tr>\n",
       "    <tr>\n",
       "      <th>4</th>\n",
       "      <td>0.166667</td>\n",
       "      <td>0.533333</td>\n",
       "      <td>0.260870</td>\n",
       "      <td>0.832671</td>\n",
       "      <td>1.0</td>\n",
       "      <td>0.0</td>\n",
       "      <td>0.0</td>\n",
       "      <td>0.0</td>\n",
       "      <td>0.0</td>\n",
       "      <td>0.0</td>\n",
       "      <td>...</td>\n",
       "      <td>0.0</td>\n",
       "      <td>1.0</td>\n",
       "      <td>0.0</td>\n",
       "      <td>1.0</td>\n",
       "      <td>0.0</td>\n",
       "      <td>0.0</td>\n",
       "      <td>0.0</td>\n",
       "      <td>0.0</td>\n",
       "      <td>1.0</td>\n",
       "      <td>0.0</td>\n",
       "    </tr>\n",
       "  </tbody>\n",
       "</table>\n",
       "<p>5 rows × 21 columns</p>\n",
       "</div>"
      ],
      "text/plain": [
       "   passenger_count  day_of_month      hour  distance  store_and_fwd_flag_N  \\\n",
       "0         0.166667      0.933333  0.695652  0.230663                   1.0   \n",
       "1         0.333333      0.333333  1.000000  0.794308                   1.0   \n",
       "2         0.333333      0.666667  0.739130  1.000000                   1.0   \n",
       "3         1.000000      0.133333  0.391304  0.454199                   1.0   \n",
       "4         0.166667      0.533333  0.260870  0.832671                   1.0   \n",
       "\n",
       "   store_and_fwd_flag_Y  day_name_Friday  day_name_Monday  day_name_Saturday  \\\n",
       "0                   0.0              0.0              1.0                0.0   \n",
       "1                   0.0              1.0              0.0                0.0   \n",
       "2                   0.0              0.0              0.0                0.0   \n",
       "3                   0.0              0.0              0.0                0.0   \n",
       "4                   0.0              0.0              0.0                0.0   \n",
       "\n",
       "   day_name_Sunday  ...  day_name_Tuesday  day_name_Wednesday  \\\n",
       "0              0.0  ...               0.0                 0.0   \n",
       "1              0.0  ...               0.0                 0.0   \n",
       "2              1.0  ...               0.0                 0.0   \n",
       "3              0.0  ...               1.0                 0.0   \n",
       "4              0.0  ...               0.0                 1.0   \n",
       "\n",
       "   hour_slot_Late Night  hour_slot_Early Morning  hour_slot_Morning  \\\n",
       "0                   0.0                      0.0                0.0   \n",
       "1                   0.0                      0.0                0.0   \n",
       "2                   0.0                      0.0                0.0   \n",
       "3                   0.0                      0.0                1.0   \n",
       "4                   0.0                      1.0                0.0   \n",
       "\n",
       "   hour_slot_Noon  hour_slot_Eve  hour_slot_Night  vendor_id_1  vendor_id_2  \n",
       "0             1.0            0.0              0.0          0.0          1.0  \n",
       "1             0.0            0.0              1.0          1.0          0.0  \n",
       "2             0.0            1.0              0.0          0.0          1.0  \n",
       "3             0.0            0.0              0.0          0.0          1.0  \n",
       "4             0.0            0.0              0.0          1.0          0.0  \n",
       "\n",
       "[5 rows x 21 columns]"
      ]
     },
     "execution_count": 7,
     "metadata": {},
     "output_type": "execute_result"
    }
   ],
   "source": [
    "### Scaling the data (Using MinMax Scaler)\n",
    "\n",
    "scaler = preprocessing.MinMaxScaler()\n",
    "X_scaled = scaler.fit_transform(X)\n",
    "X = pd.DataFrame(X_scaled, columns = X.columns)\n",
    "X.head()"
   ]
  },
  {
   "cell_type": "markdown",
   "metadata": {},
   "source": [
    "# knn regresion\n"
   ]
  },
  {
   "cell_type": "code",
   "execution_count": 8,
   "metadata": {},
   "outputs": [],
   "source": [
    "# Split the data into train and test\n",
    "train_X,test_X,train_y,test_y = model_selection.train_test_split(X,y, random_state = 100)"
   ]
  },
  {
   "cell_type": "code",
   "execution_count": 9,
   "metadata": {},
   "outputs": [],
   "source": [
    "def funcKNN(K):\n",
    "    #initiating empty list\n",
    "    test_err = []\n",
    "   \n",
    "    #training model for evey value of K\n",
    "    for i in K:\n",
    "        #Instance oh KNN\n",
    "        print('Processing i:', i)\n",
    "        knn = neighbors.KNeighborsRegressor(n_neighbors = i)\n",
    "        knn.fit(train_X, train_y)\n",
    "        # predict on test\n",
    "        test_yhat = knn.predict(test_X)\n",
    "        #calculate MAE\n",
    "        err = metrics.mean_absolute_error(test_y,test_yhat)\n",
    "        # Appending err to list claculated using the predictions\n",
    "        test_err.append(err)\n",
    "        print('MAE value for k= ' , i , 'is:', err)\n",
    "    \n",
    "    return test_err"
   ]
  },
  {
   "cell_type": "code",
   "execution_count": 10,
   "metadata": {},
   "outputs": [
    {
     "name": "stdout",
     "output_type": "stream",
     "text": [
      "Processing i: 2\n",
      "MAE value for k=  2 is: 520.8935333333334\n",
      "Processing i: 4\n",
      "MAE value for k=  4 is: 498.50305\n",
      "Processing i: 6\n",
      "MAE value for k=  6 is: 488.3452777777777\n",
      "Processing i: 8\n",
      "MAE value for k=  8 is: 485.28265\n",
      "Processing i: 10\n",
      "MAE value for k=  10 is: 518.3187933333334\n",
      "Processing i: 12\n",
      "MAE value for k=  12 is: 508.22416111111113\n",
      "Processing i: 14\n",
      "MAE value for k=  14 is: 511.72820476190475\n",
      "Processing i: 16\n",
      "MAE value for k=  16 is: 518.2763708333333\n",
      "Processing i: 18\n",
      "MAE value for k=  18 is: 519.2923259259259\n",
      "Processing i: 20\n",
      "MAE value for k=  20 is: 519.7059433333334\n",
      "Processing i: 22\n",
      "MAE value for k=  22 is: 526.9342757575757\n",
      "Processing i: 24\n",
      "MAE value for k=  24 is: 519.5607277777777\n"
     ]
    }
   ],
   "source": [
    "# define range\n",
    "k = range(2, 26, 2)\n",
    "# calling above defined function\n",
    "test_err = funcKNN(k)"
   ]
  },
  {
   "cell_type": "markdown",
   "metadata": {},
   "source": [
    "**The value of k changes depending on how many rows are taken for processing, so not a true representation here.**"
   ]
  },
  {
   "cell_type": "markdown",
   "metadata": {},
   "source": [
    "For this set of data, the lowest k = 8"
   ]
  },
  {
   "cell_type": "code",
   "execution_count": 12,
   "metadata": {},
   "outputs": [
    {
     "name": "stdout",
     "output_type": "stream",
     "text": [
      "Minimum error:- 485.28265\n"
     ]
    },
    {
     "data": {
      "image/png": "[encoded data removed]",
      "text/plain": [
       "<Figure size 720x432 with 1 Axes>"
      ]
     },
     "metadata": {
      "needs_background": "light"
     },
     "output_type": "display_data"
    }
   ],
   "source": [
    "# plotting the Elbow curve\n",
    "plt.figure(figsize=(10,6))\n",
    "plt.plot(range(2,26,2),test_err,color='blue', linestyle='solid', \n",
    "         marker='o',markerfacecolor='red', markersize=10)\n",
    "plt.title('Elbow Curve for test - Error Rate vs. K Value')\n",
    "plt.xlabel('K Neighbours')\n",
    "plt.ylabel('Test Error')\n",
    "print(\"Minimum error:-\",min(test_err) ) #,\"at K =\",test_err.index(min(test_err)))"
   ]
  },
  {
   "cell_type": "code",
   "execution_count": 13,
   "metadata": {},
   "outputs": [],
   "source": [
    "# Lets do k fold cross validation\n",
    "from sklearn.model_selection import cross_val_score"
   ]
  },
  {
   "cell_type": "code",
   "execution_count": 14,
   "metadata": {},
   "outputs": [],
   "source": [
    "# Creating instance of KNN\n",
    "knn = neighbors.KNeighborsRegressor(n_neighbors = 8)"
   ]
  },
  {
   "cell_type": "code",
   "execution_count": 15,
   "metadata": {},
   "outputs": [
    {
     "data": {
      "text/plain": [
       "array([564.74757292, 665.67127083, 609.451625  , 517.59776042,\n",
       "       550.87341667])"
      ]
     },
     "execution_count": 15,
     "metadata": {},
     "output_type": "execute_result"
    }
   ],
   "source": [
    "# #train model with cv of 5 \n",
    "cv_scores = -cross_val_score(knn,X,y,cv = 5,scoring='neg_mean_absolute_error')\n",
    "cv_scores"
   ]
  },
  {
   "cell_type": "code",
   "execution_count": 16,
   "metadata": {},
   "outputs": [
    {
     "data": {
      "text/plain": [
       "581.6683291666667"
      ]
     },
     "execution_count": 16,
     "metadata": {},
     "output_type": "execute_result"
    }
   ],
   "source": [
    "np.mean(cv_scores)"
   ]
  },
  {
   "cell_type": "markdown",
   "metadata": {},
   "source": [
    "# Run with all data for 8 neighbours"
   ]
  },
  {
   "cell_type": "code",
   "execution_count": 19,
   "metadata": {},
   "outputs": [
    {
     "data": {
      "text/html": [
       "<div>\n",
       "<style scoped>\n",
       "    .dataframe tbody tr th:only-of-type {\n",
       "        vertical-align: middle;\n",
       "    }\n",
       "\n",
       "    .dataframe tbody tr th {\n",
       "        vertical-align: top;\n",
       "    }\n",
       "\n",
       "    .dataframe thead th {\n",
       "        text-align: right;\n",
       "    }\n",
       "</style>\n",
       "<table border=\"1\" class=\"dataframe\">\n",
       "  <thead>\n",
       "    <tr style=\"text-align: right;\">\n",
       "      <th></th>\n",
       "      <th>passenger_count</th>\n",
       "      <th>day_of_month</th>\n",
       "      <th>hour</th>\n",
       "      <th>distance</th>\n",
       "      <th>store_and_fwd_flag_N</th>\n",
       "      <th>store_and_fwd_flag_Y</th>\n",
       "      <th>day_name_Friday</th>\n",
       "      <th>day_name_Monday</th>\n",
       "      <th>day_name_Saturday</th>\n",
       "      <th>day_name_Sunday</th>\n",
       "      <th>...</th>\n",
       "      <th>day_name_Tuesday</th>\n",
       "      <th>day_name_Wednesday</th>\n",
       "      <th>hour_slot_Late Night</th>\n",
       "      <th>hour_slot_Early Morning</th>\n",
       "      <th>hour_slot_Morning</th>\n",
       "      <th>hour_slot_Noon</th>\n",
       "      <th>hour_slot_Eve</th>\n",
       "      <th>hour_slot_Night</th>\n",
       "      <th>vendor_id_1</th>\n",
       "      <th>vendor_id_2</th>\n",
       "    </tr>\n",
       "  </thead>\n",
       "  <tbody>\n",
       "    <tr>\n",
       "      <th>0</th>\n",
       "      <td>0.111111</td>\n",
       "      <td>0.933333</td>\n",
       "      <td>0.695652</td>\n",
       "      <td>0.230663</td>\n",
       "      <td>1.0</td>\n",
       "      <td>0.0</td>\n",
       "      <td>0.0</td>\n",
       "      <td>1.0</td>\n",
       "      <td>0.0</td>\n",
       "      <td>0.0</td>\n",
       "      <td>...</td>\n",
       "      <td>0.0</td>\n",
       "      <td>0.0</td>\n",
       "      <td>0.0</td>\n",
       "      <td>0.0</td>\n",
       "      <td>0.0</td>\n",
       "      <td>1.0</td>\n",
       "      <td>0.0</td>\n",
       "      <td>0.0</td>\n",
       "      <td>0.0</td>\n",
       "      <td>1.0</td>\n",
       "    </tr>\n",
       "    <tr>\n",
       "      <th>1</th>\n",
       "      <td>0.222222</td>\n",
       "      <td>0.333333</td>\n",
       "      <td>1.000000</td>\n",
       "      <td>0.794308</td>\n",
       "      <td>1.0</td>\n",
       "      <td>0.0</td>\n",
       "      <td>1.0</td>\n",
       "      <td>0.0</td>\n",
       "      <td>0.0</td>\n",
       "      <td>0.0</td>\n",
       "      <td>...</td>\n",
       "      <td>0.0</td>\n",
       "      <td>0.0</td>\n",
       "      <td>0.0</td>\n",
       "      <td>0.0</td>\n",
       "      <td>0.0</td>\n",
       "      <td>0.0</td>\n",
       "      <td>0.0</td>\n",
       "      <td>1.0</td>\n",
       "      <td>1.0</td>\n",
       "      <td>0.0</td>\n",
       "    </tr>\n",
       "    <tr>\n",
       "      <th>2</th>\n",
       "      <td>0.222222</td>\n",
       "      <td>0.666667</td>\n",
       "      <td>0.739130</td>\n",
       "      <td>1.000000</td>\n",
       "      <td>1.0</td>\n",
       "      <td>0.0</td>\n",
       "      <td>0.0</td>\n",
       "      <td>0.0</td>\n",
       "      <td>0.0</td>\n",
       "      <td>1.0</td>\n",
       "      <td>...</td>\n",
       "      <td>0.0</td>\n",
       "      <td>0.0</td>\n",
       "      <td>0.0</td>\n",
       "      <td>0.0</td>\n",
       "      <td>0.0</td>\n",
       "      <td>0.0</td>\n",
       "      <td>1.0</td>\n",
       "      <td>0.0</td>\n",
       "      <td>0.0</td>\n",
       "      <td>1.0</td>\n",
       "    </tr>\n",
       "    <tr>\n",
       "      <th>3</th>\n",
       "      <td>0.666667</td>\n",
       "      <td>0.133333</td>\n",
       "      <td>0.391304</td>\n",
       "      <td>0.454199</td>\n",
       "      <td>1.0</td>\n",
       "      <td>0.0</td>\n",
       "      <td>0.0</td>\n",
       "      <td>0.0</td>\n",
       "      <td>0.0</td>\n",
       "      <td>0.0</td>\n",
       "      <td>...</td>\n",
       "      <td>1.0</td>\n",
       "      <td>0.0</td>\n",
       "      <td>0.0</td>\n",
       "      <td>0.0</td>\n",
       "      <td>1.0</td>\n",
       "      <td>0.0</td>\n",
       "      <td>0.0</td>\n",
       "      <td>0.0</td>\n",
       "      <td>0.0</td>\n",
       "      <td>1.0</td>\n",
       "    </tr>\n",
       "    <tr>\n",
       "      <th>4</th>\n",
       "      <td>0.111111</td>\n",
       "      <td>0.533333</td>\n",
       "      <td>0.260870</td>\n",
       "      <td>0.832671</td>\n",
       "      <td>1.0</td>\n",
       "      <td>0.0</td>\n",
       "      <td>0.0</td>\n",
       "      <td>0.0</td>\n",
       "      <td>0.0</td>\n",
       "      <td>0.0</td>\n",
       "      <td>...</td>\n",
       "      <td>0.0</td>\n",
       "      <td>1.0</td>\n",
       "      <td>0.0</td>\n",
       "      <td>1.0</td>\n",
       "      <td>0.0</td>\n",
       "      <td>0.0</td>\n",
       "      <td>0.0</td>\n",
       "      <td>0.0</td>\n",
       "      <td>1.0</td>\n",
       "      <td>0.0</td>\n",
       "    </tr>\n",
       "  </tbody>\n",
       "</table>\n",
       "<p>5 rows × 21 columns</p>\n",
       "</div>"
      ],
      "text/plain": [
       "   passenger_count  day_of_month      hour  distance  store_and_fwd_flag_N  \\\n",
       "0         0.111111      0.933333  0.695652  0.230663                   1.0   \n",
       "1         0.222222      0.333333  1.000000  0.794308                   1.0   \n",
       "2         0.222222      0.666667  0.739130  1.000000                   1.0   \n",
       "3         0.666667      0.133333  0.391304  0.454199                   1.0   \n",
       "4         0.111111      0.533333  0.260870  0.832671                   1.0   \n",
       "\n",
       "   store_and_fwd_flag_Y  day_name_Friday  day_name_Monday  day_name_Saturday  \\\n",
       "0                   0.0              0.0              1.0                0.0   \n",
       "1                   0.0              1.0              0.0                0.0   \n",
       "2                   0.0              0.0              0.0                0.0   \n",
       "3                   0.0              0.0              0.0                0.0   \n",
       "4                   0.0              0.0              0.0                0.0   \n",
       "\n",
       "   day_name_Sunday  ...  day_name_Tuesday  day_name_Wednesday  \\\n",
       "0              0.0  ...               0.0                 0.0   \n",
       "1              0.0  ...               0.0                 0.0   \n",
       "2              1.0  ...               0.0                 0.0   \n",
       "3              0.0  ...               1.0                 0.0   \n",
       "4              0.0  ...               0.0                 1.0   \n",
       "\n",
       "   hour_slot_Late Night  hour_slot_Early Morning  hour_slot_Morning  \\\n",
       "0                   0.0                      0.0                0.0   \n",
       "1                   0.0                      0.0                0.0   \n",
       "2                   0.0                      0.0                0.0   \n",
       "3                   0.0                      0.0                1.0   \n",
       "4                   0.0                      1.0                0.0   \n",
       "\n",
       "   hour_slot_Noon  hour_slot_Eve  hour_slot_Night  vendor_id_1  vendor_id_2  \n",
       "0             1.0            0.0              0.0          0.0          1.0  \n",
       "1             0.0            0.0              1.0          1.0          0.0  \n",
       "2             0.0            1.0              0.0          0.0          1.0  \n",
       "3             0.0            0.0              0.0          0.0          1.0  \n",
       "4             0.0            0.0              0.0          1.0          0.0  \n",
       "\n",
       "[5 rows x 21 columns]"
      ]
     },
     "execution_count": 19,
     "metadata": {},
     "output_type": "execute_result"
    }
   ],
   "source": [
    "#seperating independent and dependent variables\n",
    "\n",
    "X = df.drop(['id','trip_duration'], axis=1)\n",
    "y = df['trip_duration']\n",
    "\n",
    "### Scaling the data (Using MinMax Scaler)\n",
    "\n",
    "scaler = preprocessing.MinMaxScaler()\n",
    "X_scaled = scaler.fit_transform(X)\n",
    "X = pd.DataFrame(X_scaled, columns = X.columns)\n",
    "X.head()"
   ]
  },
  {
   "cell_type": "code",
   "execution_count": 20,
   "metadata": {},
   "outputs": [],
   "source": [
    "# Split the data into train and test\n",
    "train_X,test_X,train_y,test_y = model_selection.train_test_split(X,y, random_state = 100)"
   ]
  },
  {
   "cell_type": "code",
   "execution_count": 21,
   "metadata": {},
   "outputs": [
    {
     "data": {
      "text/plain": [
       "KNeighborsRegressor(n_neighbors=8)"
      ]
     },
     "execution_count": 21,
     "metadata": {},
     "output_type": "execute_result"
    }
   ],
   "source": [
    "# 8 is  the lowest \n",
    "# Creating instance of KNN\n",
    "knn = neighbors.KNeighborsRegressor(n_neighbors = 8)\n",
    "\n",
    "# Fitting the model\n",
    "knn.fit(train_X, train_y)"
   ]
  },
  {
   "cell_type": "code",
   "execution_count": 22,
   "metadata": {},
   "outputs": [
    {
     "name": "stdout",
     "output_type": "stream",
     "text": [
      "Test MAE     496.52030099105474\n"
     ]
    }
   ],
   "source": [
    "# Predicting over the Train Set and calculating F1\n",
    "yhat = knn.predict(test_X)\n",
    "#k = mse(test_predict, test_y)\n",
    "#err = mean_squared_error(test_y,yhat,squared=False)\n",
    "err = metrics.mean_absolute_error(test_y,yhat)\n",
    "print('Test MAE    ', err )"
   ]
  },
  {
   "cell_type": "code",
   "execution_count": null,
   "metadata": {},
   "outputs": [],
   "source": []
  }
 ],
 "metadata": {
  "kernelspec": {
   "display_name": "Python 3",
   "language": "python",
   "name": "python3"
  },
  "language_info": {
   "codemirror_mode": {
    "name": "ipython",
    "version": 3
   },
   "file_extension": ".py",
   "mimetype": "text/x-python",
   "name": "python",
   "nbconvert_exporter": "python",
   "pygments_lexer": "ipython3",
   "version": "3.8.2"
  }
 },
 "nbformat": 4,
 "nbformat_minor": 4
}
