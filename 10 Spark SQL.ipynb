{
 "cells": [
  {
   "cell_type": "code",
   "execution_count": 1,
   "metadata": {},
   "outputs": [],
   "source": [
    "from pyspark.sql import SparkSession"
   ]
  },
  {
   "cell_type": "code",
   "execution_count": 2,
   "metadata": {},
   "outputs": [],
   "source": [
    "# Create SparkSession object\n",
    "spark = SparkSession.builder.getOrCreate()"
   ]
  },
  {
   "cell_type": "code",
   "execution_count": 3,
   "metadata": {},
   "outputs": [
    {
     "data": {
      "text/html": [
       "\n",
       "            <div>\n",
       "                <p><b>SparkSession - in-memory</b></p>\n",
       "                \n",
       "        <div>\n",
       "            <p><b>SparkContext</b></p>\n",
       "\n",
       "            <p><a href=\"http://g01.itversity.com:4040\">Spark UI</a></p>\n",
       "\n",
       "            <dl>\n",
       "              <dt>Version</dt>\n",
       "                <dd><code>v3.0.1</code></dd>\n",
       "              <dt>Master</dt>\n",
       "                <dd><code>yarn</code></dd>\n",
       "              <dt>AppName</dt>\n",
       "                <dd><code>pyspark-shell</code></dd>\n",
       "            </dl>\n",
       "        </div>\n",
       "        \n",
       "            </div>\n",
       "        "
      ],
      "text/plain": [
       "<pyspark.sql.session.SparkSession at 0x7f0553552400>"
      ]
     },
     "execution_count": 3,
     "metadata": {},
     "output_type": "execute_result"
    }
   ],
   "source": [
    "spark"
   ]
  },
  {
   "cell_type": "code",
   "execution_count": 4,
   "metadata": {},
   "outputs": [],
   "source": [
    "# read csv files\n",
    "df_train = spark.read.csv(\"data/train.csv\",inferSchema=True, header=True)\n",
    "df_meal = spark.read.csv(\"data/meal_info.csv\",inferSchema=True, header=True)\n",
    "df_cntr = spark.read.csv(\"data/fulfilment_center_info.csv\",inferSchema=True, header=True)"
   ]
  },
  {
   "cell_type": "markdown",
   "metadata": {},
   "source": [
    "# Check data"
   ]
  },
  {
   "cell_type": "code",
   "execution_count": 5,
   "metadata": {},
   "outputs": [
    {
     "name": "stdout",
     "output_type": "stream",
     "text": [
      "root\n",
      " |-- id: integer (nullable = true)\n",
      " |-- week: integer (nullable = true)\n",
      " |-- center_id: integer (nullable = true)\n",
      " |-- meal_id: integer (nullable = true)\n",
      " |-- checkout_price: double (nullable = true)\n",
      " |-- base_price: double (nullable = true)\n",
      " |-- emailer_for_promotion: integer (nullable = true)\n",
      " |-- homepage_featured: integer (nullable = true)\n",
      " |-- num_orders: integer (nullable = true)\n",
      "\n"
     ]
    }
   ],
   "source": [
    "# check the schema of the dataframe\n",
    "df_train.printSchema()"
   ]
  },
  {
   "cell_type": "code",
   "execution_count": 6,
   "metadata": {},
   "outputs": [
    {
     "name": "stdout",
     "output_type": "stream",
     "text": [
      "+-------+----+---------+-------+--------------+----------+---------------------+-----------------+----------+\n",
      "|     id|week|center_id|meal_id|checkout_price|base_price|emailer_for_promotion|homepage_featured|num_orders|\n",
      "+-------+----+---------+-------+--------------+----------+---------------------+-----------------+----------+\n",
      "|1379560|   1|       55|   1885|        136.83|    152.29|                    0|                0|       177|\n",
      "|1466964|   1|       55|   1993|        136.83|    135.83|                    0|                0|       270|\n",
      "|1346989|   1|       55|   2539|        134.86|    135.86|                    0|                0|       189|\n",
      "|1338232|   1|       55|   2139|         339.5|    437.53|                    0|                0|        54|\n",
      "|1448490|   1|       55|   2631|         243.5|     242.5|                    0|                0|        40|\n",
      "+-------+----+---------+-------+--------------+----------+---------------------+-----------------+----------+\n",
      "only showing top 5 rows\n",
      "\n"
     ]
    }
   ],
   "source": [
    "# View data\n",
    "df_train.show(5)"
   ]
  },
  {
   "cell_type": "code",
   "execution_count": 7,
   "metadata": {},
   "outputs": [
    {
     "data": {
      "text/plain": [
       "['id',\n",
       " 'week',\n",
       " 'center_id',\n",
       " 'meal_id',\n",
       " 'checkout_price',\n",
       " 'base_price',\n",
       " 'emailer_for_promotion',\n",
       " 'homepage_featured',\n",
       " 'num_orders']"
      ]
     },
     "execution_count": 7,
     "metadata": {},
     "output_type": "execute_result"
    }
   ],
   "source": [
    "df_train.columns"
   ]
  },
  {
   "cell_type": "code",
   "execution_count": 8,
   "metadata": {},
   "outputs": [
    {
     "data": {
      "text/plain": [
       "(180744, 9)"
      ]
     },
     "execution_count": 8,
     "metadata": {},
     "output_type": "execute_result"
    }
   ],
   "source": [
    "# count num rows and cols\n",
    "(df_train.count(), len(df_train.columns))"
   ]
  },
  {
   "cell_type": "code",
   "execution_count": 9,
   "metadata": {},
   "outputs": [
    {
     "name": "stdout",
     "output_type": "stream",
     "text": [
      "root\n",
      " |-- meal_id: integer (nullable = true)\n",
      " |-- category: string (nullable = true)\n",
      " |-- cuisine: string (nullable = true)\n",
      "\n"
     ]
    }
   ],
   "source": [
    "# check the schema of the dataframe\n",
    "df_meal.printSchema()"
   ]
  },
  {
   "cell_type": "code",
   "execution_count": 10,
   "metadata": {},
   "outputs": [
    {
     "name": "stdout",
     "output_type": "stream",
     "text": [
      "+-------+---------+-------+\n",
      "|meal_id| category|cuisine|\n",
      "+-------+---------+-------+\n",
      "|   1885|Beverages|   Thai|\n",
      "|   1993|Beverages|   Thai|\n",
      "|   2539|Beverages|   Thai|\n",
      "|   1248|Beverages| Indian|\n",
      "|   2631|Beverages| Indian|\n",
      "+-------+---------+-------+\n",
      "only showing top 5 rows\n",
      "\n"
     ]
    }
   ],
   "source": [
    "# View data\n",
    "df_meal.show(5)"
   ]
  },
  {
   "cell_type": "code",
   "execution_count": 11,
   "metadata": {},
   "outputs": [
    {
     "data": {
      "text/plain": [
       "(51, 3)"
      ]
     },
     "execution_count": 11,
     "metadata": {},
     "output_type": "execute_result"
    }
   ],
   "source": [
    "# count num rows and cols\n",
    "(df_meal.count(), len(df_meal.columns))"
   ]
  },
  {
   "cell_type": "code",
   "execution_count": 12,
   "metadata": {},
   "outputs": [
    {
     "name": "stdout",
     "output_type": "stream",
     "text": [
      "root\n",
      " |-- center_id: integer (nullable = true)\n",
      " |-- city_code: integer (nullable = true)\n",
      " |-- region_code: integer (nullable = true)\n",
      " |-- center_type: string (nullable = true)\n",
      " |-- op_area: double (nullable = true)\n",
      "\n"
     ]
    }
   ],
   "source": [
    "# check the schema of the dataframe\n",
    "df_cntr.printSchema()"
   ]
  },
  {
   "cell_type": "code",
   "execution_count": 13,
   "metadata": {},
   "outputs": [
    {
     "name": "stdout",
     "output_type": "stream",
     "text": [
      "+---------+---------+-----------+-----------+-------+\n",
      "|center_id|city_code|region_code|center_type|op_area|\n",
      "+---------+---------+-----------+-----------+-------+\n",
      "|       11|      679|         56|     TYPE_A|    3.7|\n",
      "|       13|      590|         56|     TYPE_B|    6.7|\n",
      "|      124|      590|         56|     TYPE_C|    4.0|\n",
      "|       66|      648|         34|     TYPE_A|    4.1|\n",
      "|       94|      632|         34|     TYPE_C|    3.6|\n",
      "+---------+---------+-----------+-----------+-------+\n",
      "only showing top 5 rows\n",
      "\n"
     ]
    }
   ],
   "source": [
    "# View data\n",
    "df_cntr.show(5)"
   ]
  },
  {
   "cell_type": "code",
   "execution_count": 14,
   "metadata": {},
   "outputs": [
    {
     "data": {
      "text/plain": [
       "(77, 5)"
      ]
     },
     "execution_count": 14,
     "metadata": {},
     "output_type": "execute_result"
    }
   ],
   "source": [
    "# count num rows and cols\n",
    "(df_cntr.count(), len(df_cntr.columns))"
   ]
  },
  {
   "cell_type": "markdown",
   "metadata": {},
   "source": [
    "# Assignment"
   ]
  },
  {
   "cell_type": "code",
   "execution_count": 15,
   "metadata": {},
   "outputs": [],
   "source": [
    "# For sql, Create view of the dataframes\n",
    "df_train.createOrReplaceTempView('train')\n",
    "df_meal.createOrReplaceTempView('meal')\n",
    "df_cntr.createOrReplaceTempView('cntr')"
   ]
  },
  {
   "cell_type": "markdown",
   "metadata": {},
   "source": [
    "# Q1 What are the distinct number of meal categories and cuisines?"
   ]
  },
  {
   "cell_type": "code",
   "execution_count": 16,
   "metadata": {},
   "outputs": [
    {
     "data": {
      "text/html": [
       "<table border='1'>\n",
       "<tr><th>meal_id</th><th>category</th><th>cuisine</th></tr>\n",
       "<tr><td>1885</td><td>Beverages</td><td>Thai</td></tr>\n",
       "<tr><td>1993</td><td>Beverages</td><td>Thai</td></tr>\n",
       "<tr><td>2539</td><td>Beverages</td><td>Thai</td></tr>\n",
       "<tr><td>1248</td><td>Beverages</td><td>Indian</td></tr>\n",
       "<tr><td>2631</td><td>Beverages</td><td>Indian</td></tr>\n",
       "</table>\n"
      ],
      "text/plain": [
       "+-------+---------+-------+\n",
       "|meal_id| category|cuisine|\n",
       "+-------+---------+-------+\n",
       "|   1885|Beverages|   Thai|\n",
       "|   1993|Beverages|   Thai|\n",
       "|   2539|Beverages|   Thai|\n",
       "|   1248|Beverages| Indian|\n",
       "|   2631|Beverages| Indian|\n",
       "+-------+---------+-------+"
      ]
     },
     "execution_count": 16,
     "metadata": {},
     "output_type": "execute_result"
    }
   ],
   "source": [
    "# View rows\n",
    "spark.sql('select * from meal limit 5')"
   ]
  },
  {
   "cell_type": "code",
   "execution_count": 17,
   "metadata": {},
   "outputs": [
    {
     "data": {
      "text/html": [
       "<table border='1'>\n",
       "<tr><th>category</th></tr>\n",
       "<tr><td>Salad</td></tr>\n",
       "<tr><td>Desert</td></tr>\n",
       "<tr><td>Biryani</td></tr>\n",
       "<tr><td>Rice Bowl</td></tr>\n",
       "<tr><td>Sandwich</td></tr>\n",
       "<tr><td>Pizza</td></tr>\n",
       "<tr><td>Beverages</td></tr>\n",
       "<tr><td>Other Snacks</td></tr>\n",
       "<tr><td>Soup</td></tr>\n",
       "<tr><td>Starters</td></tr>\n",
       "<tr><td>Extras</td></tr>\n",
       "<tr><td>Seafood</td></tr>\n",
       "<tr><td>Pasta</td></tr>\n",
       "<tr><td>Fish</td></tr>\n",
       "</table>\n"
      ],
      "text/plain": [
       "+------------+\n",
       "|    category|\n",
       "+------------+\n",
       "|       Salad|\n",
       "|      Desert|\n",
       "|     Biryani|\n",
       "|   Rice Bowl|\n",
       "|    Sandwich|\n",
       "|       Pizza|\n",
       "|   Beverages|\n",
       "|Other Snacks|\n",
       "|        Soup|\n",
       "|    Starters|\n",
       "|      Extras|\n",
       "|     Seafood|\n",
       "|       Pasta|\n",
       "|        Fish|\n",
       "+------------+"
      ]
     },
     "execution_count": 17,
     "metadata": {},
     "output_type": "execute_result"
    }
   ],
   "source": [
    "spark.sql('select DISTINCT category from meal')"
   ]
  },
  {
   "cell_type": "code",
   "execution_count": 18,
   "metadata": {},
   "outputs": [
    {
     "data": {
      "text/html": [
       "<table border='1'>\n",
       "<tr><th>cuisine</th></tr>\n",
       "<tr><td>Thai</td></tr>\n",
       "<tr><td>Indian</td></tr>\n",
       "<tr><td>Continental</td></tr>\n",
       "<tr><td>Italian</td></tr>\n",
       "</table>\n"
      ],
      "text/plain": [
       "+-----------+\n",
       "|    cuisine|\n",
       "+-----------+\n",
       "|       Thai|\n",
       "|     Indian|\n",
       "|Continental|\n",
       "|    Italian|\n",
       "+-----------+"
      ]
     },
     "execution_count": 18,
     "metadata": {},
     "output_type": "execute_result"
    }
   ],
   "source": [
    "spark.sql('select DISTINCT cuisine from meal')"
   ]
  },
  {
   "cell_type": "code",
   "execution_count": 39,
   "metadata": {},
   "outputs": [
    {
     "data": {
      "text/html": [
       "<table border='1'>\n",
       "<tr><th>num_category</th><th>num_cuisine</th></tr>\n",
       "<tr><td>14</td><td>4</td></tr>\n",
       "</table>\n"
      ],
      "text/plain": [
       "+------------+-----------+\n",
       "|num_category|num_cuisine|\n",
       "+------------+-----------+\n",
       "|          14|          4|\n",
       "+------------+-----------+"
      ]
     },
     "execution_count": 39,
     "metadata": {},
     "output_type": "execute_result"
    }
   ],
   "source": [
    "spark.sql(\"select COUNT(DISTINCT category) AS num_category , COUNT(DISTINCT cuisine) AS num_cuisine from meal\")"
   ]
  },
  {
   "cell_type": "markdown",
   "metadata": {},
   "source": [
    "# Q2 Which center_id has the highest num_orders?"
   ]
  },
  {
   "cell_type": "code",
   "execution_count": 40,
   "metadata": {},
   "outputs": [
    {
     "data": {
      "text/html": [
       "<table border='1'>\n",
       "<tr><th>id</th><th>week</th><th>center_id</th><th>meal_id</th><th>checkout_price</th><th>base_price</th><th>emailer_for_promotion</th><th>homepage_featured</th><th>num_orders</th></tr>\n",
       "<tr><td>1379560</td><td>1</td><td>55</td><td>1885</td><td>136.83</td><td>152.29</td><td>0</td><td>0</td><td>177</td></tr>\n",
       "<tr><td>1466964</td><td>1</td><td>55</td><td>1993</td><td>136.83</td><td>135.83</td><td>0</td><td>0</td><td>270</td></tr>\n",
       "<tr><td>1346989</td><td>1</td><td>55</td><td>2539</td><td>134.86</td><td>135.86</td><td>0</td><td>0</td><td>189</td></tr>\n",
       "<tr><td>1338232</td><td>1</td><td>55</td><td>2139</td><td>339.5</td><td>437.53</td><td>0</td><td>0</td><td>54</td></tr>\n",
       "<tr><td>1448490</td><td>1</td><td>55</td><td>2631</td><td>243.5</td><td>242.5</td><td>0</td><td>0</td><td>40</td></tr>\n",
       "</table>\n"
      ],
      "text/plain": [
       "+-------+----+---------+-------+--------------+----------+---------------------+-----------------+----------+\n",
       "|     id|week|center_id|meal_id|checkout_price|base_price|emailer_for_promotion|homepage_featured|num_orders|\n",
       "+-------+----+---------+-------+--------------+----------+---------------------+-----------------+----------+\n",
       "|1379560|   1|       55|   1885|        136.83|    152.29|                    0|                0|       177|\n",
       "|1466964|   1|       55|   1993|        136.83|    135.83|                    0|                0|       270|\n",
       "|1346989|   1|       55|   2539|        134.86|    135.86|                    0|                0|       189|\n",
       "|1338232|   1|       55|   2139|         339.5|    437.53|                    0|                0|        54|\n",
       "|1448490|   1|       55|   2631|         243.5|     242.5|                    0|                0|        40|\n",
       "+-------+----+---------+-------+--------------+----------+---------------------+-----------------+----------+"
      ]
     },
     "execution_count": 40,
     "metadata": {},
     "output_type": "execute_result"
    }
   ],
   "source": [
    "# View rows\n",
    "spark.sql('select * from train limit 5')"
   ]
  },
  {
   "cell_type": "code",
   "execution_count": 43,
   "metadata": {},
   "outputs": [
    {
     "data": {
      "text/html": [
       "<table border='1'>\n",
       "<tr><th>center_id</th><th>tot_order</th></tr>\n",
       "<tr><td>13</td><td>1742220</td></tr>\n",
       "<tr><td>43</td><td>1557942</td></tr>\n",
       "<tr><td>10</td><td>1346533</td></tr>\n",
       "<tr><td>137</td><td>1287312</td></tr>\n",
       "<tr><td>52</td><td>1188327</td></tr>\n",
       "<tr><td>174</td><td>1158331</td></tr>\n",
       "<tr><td>67</td><td>1104886</td></tr>\n",
       "<tr><td>11</td><td>1088253</td></tr>\n",
       "<tr><td>27</td><td>955839</td></tr>\n",
       "<tr><td>104</td><td>951334</td></tr>\n",
       "</table>\n"
      ],
      "text/plain": [
       "+---------+---------+\n",
       "|center_id|tot_order|\n",
       "+---------+---------+\n",
       "|       13|  1742220|\n",
       "|       43|  1557942|\n",
       "|       10|  1346533|\n",
       "|      137|  1287312|\n",
       "|       52|  1188327|\n",
       "|      174|  1158331|\n",
       "|       67|  1104886|\n",
       "|       11|  1088253|\n",
       "|       27|   955839|\n",
       "|      104|   951334|\n",
       "+---------+---------+"
      ]
     },
     "execution_count": 43,
     "metadata": {},
     "output_type": "execute_result"
    }
   ],
   "source": [
    "spark.sql('select center_id , SUM(num_orders) AS tot_order from train GROUP BY center_id ORDER BY tot_order DESC LIMIT 10' )"
   ]
  },
  {
   "cell_type": "code",
   "execution_count": 44,
   "metadata": {},
   "outputs": [
    {
     "data": {
      "text/html": [
       "<table border='1'>\n",
       "<tr><th>center_id</th><th>tot_order</th></tr>\n",
       "<tr><td>13</td><td>1742220</td></tr>\n",
       "</table>\n"
      ],
      "text/plain": [
       "+---------+---------+\n",
       "|center_id|tot_order|\n",
       "+---------+---------+\n",
       "|       13|  1742220|\n",
       "+---------+---------+"
      ]
     },
     "execution_count": 44,
     "metadata": {},
     "output_type": "execute_result"
    }
   ],
   "source": [
    "spark.sql('select center_id , SUM(num_orders) AS tot_order from train GROUP BY center_id ORDER BY tot_order DESC LIMIT 1')"
   ]
  },
  {
   "cell_type": "markdown",
   "metadata": {},
   "source": [
    "# Q3 What is the top selling cuisine at the center_id that had the highest num_orders?"
   ]
  },
  {
   "cell_type": "code",
   "execution_count": 46,
   "metadata": {},
   "outputs": [
    {
     "data": {
      "text/html": [
       "<table border='1'>\n",
       "<tr><th>cuisine</th><th>tot_orders</th></tr>\n",
       "<tr><td>Thai</td><td>893</td></tr>\n",
       "<tr><td>Indian</td><td>729</td></tr>\n",
       "<tr><td>Italian</td><td>665</td></tr>\n",
       "<tr><td>Continental</td><td>547</td></tr>\n",
       "</table>\n"
      ],
      "text/plain": [
       "+-----------+----------+\n",
       "|    cuisine|tot_orders|\n",
       "+-----------+----------+\n",
       "|       Thai|       893|\n",
       "|     Indian|       729|\n",
       "|    Italian|       665|\n",
       "|Continental|       547|\n",
       "+-----------+----------+"
      ]
     },
     "execution_count": 46,
     "metadata": {},
     "output_type": "execute_result"
    }
   ],
   "source": [
    "# For center id 13 \n",
    "spark.sql('select meal.cuisine , COUNT(train.meal_id) AS tot_orders from  train LEFT JOIN meal ON train.meal_id = meal.meal_id where train.center_id == 13 GROUP BY meal.cuisine ORDER BY tot_orders DESC')"
   ]
  },
  {
   "cell_type": "markdown",
   "metadata": {},
   "source": [
    "# Q4 What is the average op_area per center_type?"
   ]
  },
  {
   "cell_type": "code",
   "execution_count": 47,
   "metadata": {},
   "outputs": [
    {
     "data": {
      "text/html": [
       "<table border='1'>\n",
       "<tr><th>center_type</th><th>avg_op_area</th></tr>\n",
       "<tr><td>TYPE_B</td><td>4.77</td></tr>\n",
       "<tr><td>TYPE_A</td><td>4.08</td></tr>\n",
       "<tr><td>TYPE_C</td><td>3.16</td></tr>\n",
       "</table>\n"
      ],
      "text/plain": [
       "+-----------+-----------+\n",
       "|center_type|avg_op_area|\n",
       "+-----------+-----------+\n",
       "|     TYPE_B|       4.77|\n",
       "|     TYPE_A|       4.08|\n",
       "|     TYPE_C|       3.16|\n",
       "+-----------+-----------+"
      ]
     },
     "execution_count": 47,
     "metadata": {},
     "output_type": "execute_result"
    }
   ],
   "source": [
    "spark.sql('select center_type , ROUND(AVG(op_area),2) AS avg_op_area from cntr GROUP BY center_type ORDER BY avg_op_area DESC' )"
   ]
  },
  {
   "cell_type": "markdown",
   "metadata": {},
   "source": [
    "# Q5 Which center_type had the highest revenue? (Revenue is total sum of checkout_price*num_orders)"
   ]
  },
  {
   "cell_type": "code",
   "execution_count": 48,
   "metadata": {},
   "outputs": [
    {
     "data": {
      "text/html": [
       "<table border='1'>\n",
       "<tr><th>center_type</th><th>Revenue</th></tr>\n",
       "<tr><td>TYPE_A</td><td>7.27620320187E9</td></tr>\n",
       "<tr><td>TYPE_B</td><td>3.1729685294E9</td></tr>\n",
       "<tr><td>TYPE_C</td><td>2.25183399137E9</td></tr>\n",
       "</table>\n"
      ],
      "text/plain": [
       "+-----------+---------------+\n",
       "|center_type|        Revenue|\n",
       "+-----------+---------------+\n",
       "|     TYPE_A|7.27620320187E9|\n",
       "|     TYPE_B| 3.1729685294E9|\n",
       "|     TYPE_C|2.25183399137E9|\n",
       "+-----------+---------------+"
      ]
     },
     "execution_count": 48,
     "metadata": {},
     "output_type": "execute_result"
    }
   ],
   "source": [
    "spark.sql('select cntr.center_type , ROUND(SUM(train.checkout_price * train.num_orders),2) AS Revenue from  train LEFT JOIN cntr ON train.center_id = cntr.center_id GROUP BY cntr.center_type ORDER BY Revenue DESC')"
   ]
  },
  {
   "cell_type": "markdown",
   "metadata": {},
   "source": [
    "# Q6 Which is the top ordered cuisine in terms of num_orders?"
   ]
  },
  {
   "cell_type": "code",
   "execution_count": 50,
   "metadata": {},
   "outputs": [
    {
     "data": {
      "text/html": [
       "<table border='1'>\n",
       "<tr><th>cuisine</th><th>tot_orders</th></tr>\n",
       "<tr><td>Italian</td><td>17166334</td></tr>\n",
       "<tr><td>Thai</td><td>14058488</td></tr>\n",
       "<tr><td>Indian</td><td>10979934</td></tr>\n",
       "<tr><td>Continental</td><td>6766188</td></tr>\n",
       "</table>\n"
      ],
      "text/plain": [
       "+-----------+----------+\n",
       "|    cuisine|tot_orders|\n",
       "+-----------+----------+\n",
       "|    Italian|  17166334|\n",
       "|       Thai|  14058488|\n",
       "|     Indian|  10979934|\n",
       "|Continental|   6766188|\n",
       "+-----------+----------+"
      ]
     },
     "execution_count": 50,
     "metadata": {},
     "output_type": "execute_result"
    }
   ],
   "source": [
    "spark.sql('select meal.cuisine , SUM(train.num_orders) AS tot_orders from  train LEFT JOIN meal ON train.meal_id = meal.meal_id GROUP BY meal.cuisine ORDER BY tot_orders DESC')"
   ]
  },
  {
   "cell_type": "markdown",
   "metadata": {},
   "source": [
    "# Q7 What are the num_orders per cuisine per week?"
   ]
  },
  {
   "cell_type": "code",
   "execution_count": 51,
   "metadata": {},
   "outputs": [
    {
     "data": {
      "text/html": [
       "<table border='1'>\n",
       "<tr><th>cuisine</th><th>week</th><th>num_orders</th></tr>\n",
       "<tr><td>Continental</td><td>1</td><td>618</td></tr>\n",
       "<tr><td>Continental</td><td>2</td><td>620</td></tr>\n",
       "<tr><td>Continental</td><td>3</td><td>616</td></tr>\n",
       "<tr><td>Continental</td><td>4</td><td>621</td></tr>\n",
       "<tr><td>Continental</td><td>5</td><td>631</td></tr>\n",
       "<tr><td>Continental</td><td>6</td><td>640</td></tr>\n",
       "<tr><td>Continental</td><td>7</td><td>610</td></tr>\n",
       "<tr><td>Continental</td><td>8</td><td>580</td></tr>\n",
       "<tr><td>Continental</td><td>9</td><td>643</td></tr>\n",
       "<tr><td>Continental</td><td>10</td><td>645</td></tr>\n",
       "<tr><td>Continental</td><td>11</td><td>644</td></tr>\n",
       "<tr><td>Continental</td><td>12</td><td>610</td></tr>\n",
       "<tr><td>Continental</td><td>13</td><td>619</td></tr>\n",
       "<tr><td>Continental</td><td>14</td><td>616</td></tr>\n",
       "<tr><td>Continental</td><td>15</td><td>627</td></tr>\n",
       "<tr><td>Continental</td><td>16</td><td>612</td></tr>\n",
       "<tr><td>Continental</td><td>17</td><td>625</td></tr>\n",
       "<tr><td>Continental</td><td>18</td><td>620</td></tr>\n",
       "<tr><td>Continental</td><td>19</td><td>621</td></tr>\n",
       "<tr><td>Continental</td><td>20</td><td>610</td></tr>\n",
       "</table>\n",
       "only showing top 20 rows\n"
      ],
      "text/plain": [
       "+-----------+----+----------+\n",
       "|    cuisine|week|num_orders|\n",
       "+-----------+----+----------+\n",
       "|Continental|   1|       618|\n",
       "|Continental|   2|       620|\n",
       "|Continental|   3|       616|\n",
       "|Continental|   4|       621|\n",
       "|Continental|   5|       631|\n",
       "|Continental|   6|       640|\n",
       "|Continental|   7|       610|\n",
       "|Continental|   8|       580|\n",
       "|Continental|   9|       643|\n",
       "|Continental|  10|       645|\n",
       "|Continental|  11|       644|\n",
       "|Continental|  12|       610|\n",
       "|Continental|  13|       619|\n",
       "|Continental|  14|       616|\n",
       "|Continental|  15|       627|\n",
       "|Continental|  16|       612|\n",
       "|Continental|  17|       625|\n",
       "|Continental|  18|       620|\n",
       "|Continental|  19|       621|\n",
       "|Continental|  20|       610|\n",
       "+-----------+----+----------+\n",
       "only showing top 20 rows"
      ]
     },
     "execution_count": 51,
     "metadata": {},
     "output_type": "execute_result"
    }
   ],
   "source": [
    "spark.sql('select meal.cuisine , train.week, COUNT(train.num_orders) AS num_orders from  train LEFT JOIN meal ON train.meal_id = meal.meal_id GROUP BY meal.cuisine,train.week ORDER BY meal.cuisine,train.week ')"
   ]
  },
  {
   "cell_type": "markdown",
   "metadata": {},
   "source": [
    "# Q8 Which center_id gave the highest number of discounts? (Discount is considered when checkout_price is less than base_price)"
   ]
  },
  {
   "cell_type": "code",
   "execution_count": 52,
   "metadata": {},
   "outputs": [
    {
     "data": {
      "text/html": [
       "<table border='1'>\n",
       "<tr><th>center_id</th><th>num_discount</th></tr>\n",
       "<tr><td>13</td><td>1509</td></tr>\n",
       "<tr><td>30</td><td>1495</td></tr>\n",
       "<tr><td>137</td><td>1462</td></tr>\n",
       "<tr><td>27</td><td>1462</td></tr>\n",
       "<tr><td>153</td><td>1455</td></tr>\n",
       "<tr><td>10</td><td>1454</td></tr>\n",
       "<tr><td>51</td><td>1453</td></tr>\n",
       "<tr><td>174</td><td>1447</td></tr>\n",
       "<tr><td>36</td><td>1445</td></tr>\n",
       "<tr><td>104</td><td>1443</td></tr>\n",
       "</table>\n"
      ],
      "text/plain": [
       "+---------+------------+\n",
       "|center_id|num_discount|\n",
       "+---------+------------+\n",
       "|       13|        1509|\n",
       "|       30|        1495|\n",
       "|      137|        1462|\n",
       "|       27|        1462|\n",
       "|      153|        1455|\n",
       "|       10|        1454|\n",
       "|       51|        1453|\n",
       "|      174|        1447|\n",
       "|       36|        1445|\n",
       "|      104|        1443|\n",
       "+---------+------------+"
      ]
     },
     "execution_count": 52,
     "metadata": {},
     "output_type": "execute_result"
    }
   ],
   "source": [
    "# Top 10 centers \n",
    "spark.sql('select center_id,SUM(if(train.checkout_price < train.base_price,1,0)) AS num_discount from  train GROUP BY center_id ORDER BY num_discount DESC LIMIT 10')"
   ]
  },
  {
   "cell_type": "code",
   "execution_count": null,
   "metadata": {},
   "outputs": [],
   "source": []
  }
 ],
 "metadata": {
  "kernelspec": {
   "display_name": "Python 3",
   "language": "python",
   "name": "python3"
  },
  "language_info": {
   "codemirror_mode": {
    "name": "ipython",
    "version": 3
   },
   "file_extension": ".py",
   "mimetype": "text/x-python",
   "name": "python",
   "nbconvert_exporter": "python",
   "pygments_lexer": "ipython3",
   "version": "3.8.2"
  }
 },
 "nbformat": 4,
 "nbformat_minor": 5
}
